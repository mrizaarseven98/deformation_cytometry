{
 "cells": [
  {
   "cell_type": "markdown",
   "id": "7c44b8da-5cb6-463f-b275-0be5085026fa",
   "metadata": {},
   "source": [
    "2D Omnipose segmentation\n",
    "============================\n",
    "\n",
    "Before running this notebook, install the latest version of Omnipose from GitHub. This automatically installs our Cellpose fork. "
   ]
  },
  {
   "cell_type": "code",
   "execution_count": 1,
   "id": "281bf04d-fcc3-4f83-acc0-2476c9ebe310",
   "metadata": {
    "tags": [
     "remove-output",
     "remove-cell"
    ]
   },
   "outputs": [],
   "source": [
    "# make local editable packages automatically reload\n",
    "%load_ext autoreload\n",
    "%autoreload 2"
   ]
  },
  {
   "cell_type": "code",
   "execution_count": 2,
   "id": "df70baa5-f9e8-47cc-a419-ff637a925f33",
   "metadata": {
    "tags": []
   },
   "outputs": [
    {
     "name": "stdout",
     "output_type": "stream",
     "text": [
      "2023-12-09 15:40:34,480 [INFO] TORCH GPU version not installed/working.\n",
      ">>> GPU activated? False\n"
     ]
    },
    {
     "name": "stderr",
     "output_type": "stream",
     "text": [
      "C:\\Users\\Giona\\anaconda3\\envs\\omnipose\\lib\\site-packages\\tqdm\\auto.py:21: TqdmWarning: IProgress not found. Please update jupyter and ipywidgets. See https://ipywidgets.readthedocs.io/en/stable/user_install.html\n",
      "  from .autonotebook import tqdm as notebook_tqdm\n"
     ]
    }
   ],
   "source": [
    "# Import dependencies\n",
    "import numpy as np\n",
    "from cellpose_omni import models, core\n",
    "\n",
    "# This checks to see if you have set up your GPU properly.\n",
    "# CPU performance is a lot slower, but not a problem if you \n",
    "# are only processing a few images.\n",
    "use_GPU = core.use_gpu()\n",
    "print('>>> GPU activated? {}'.format(use_GPU))\n",
    "\n",
    "# for plotting\n",
    "import matplotlib as mpl\n",
    "import matplotlib.pyplot as plt\n",
    "mpl.rcParams['figure.dpi'] = 300\n",
    "plt.style.use('dark_background')\n",
    "%matplotlib inline"
   ]
  },
  {
   "cell_type": "code",
   "execution_count": 3,
   "id": "1452d605-54d0-417e-a720-33436e319231",
   "metadata": {
    "tags": []
   },
   "outputs": [],
   "source": [
    "from pathlib import Path\n",
    "import os\n",
    "from cellpose_omni import io\n",
    "import omnipose\n",
    "import imageio\n",
    "\n",
    "# Set the path to the desired folder\n",
    "#basedir = 'CellA_ShME480'\n",
    "\n",
    "# Get the list of image files from the folder\n",
    "#files = io.get_image_files(basedir)\n",
    "\n",
    "# Path to the video file\n",
    "video_path = 'CellB_GFP.avi'\n",
    "\n",
    "# Create a reader to read the video file\n",
    "reader = imageio.get_reader(video_path, 'ffmpeg')\n",
    "\n",
    "# Read all frames in a list\n",
    "frames = [im for im in reader]\n",
    "\n",
    "# Extract the video name (without file extension) to use for naming directories\n",
    "video_name = Path(video_path).stem  # This will be 'CellA_ShME480'\n",
    "\n",
    "# Current working directory\n",
    "current_working_dir = Path(os.getcwd())\n",
    "\n",
    "# Base directory for saving segmentation masks\n",
    "base_mask_dir = current_working_dir / 'segmentation_outputs' / video_name\n",
    "\n",
    "# Create the base directory for masks, if it does not exist\n",
    "if not base_mask_dir.exists():\n",
    "    base_mask_dir.mkdir(parents=True, exist_ok=True)\n",
    "\n",
    "# Generate file paths for each frame to be saved in the masks directory\n",
    "files = [base_mask_dir / f\"frame_{i:04d}.tif\" for i in range(len(frames))]"
   ]
  },
  {
   "cell_type": "code",
   "execution_count": 4,
   "id": "acf5d498-933a-45bf-82c9-df7c4a735cd5",
   "metadata": {},
   "outputs": [
    {
     "name": "stdout",
     "output_type": "stream",
     "text": [
      "\n",
      "number of images: 7788\n"
     ]
    }
   ],
   "source": [
    "from cellpose_omni import io, transforms\n",
    "from omnipose.utils import normalize99\n",
    "import numpy as np\n",
    "import cv2\n",
    "\n",
    "# Assuming 'frames' contains the frames extracted from the video file\n",
    "imgs = []\n",
    "for frame in frames:\n",
    "    # Convert BGR to grayscale if your frames are in color\n",
    "    # If your frames are already grayscale, you can skip this conversion\n",
    "    if len(frame.shape) == 3:  # Check if the frame is colored\n",
    "        frame_gray = cv2.cvtColor(frame, cv2.COLOR_BGR2GRAY)\n",
    "    else:\n",
    "        frame_gray = frame  # If the frame is already in grayscale\n",
    "\n",
    "    # Normalize and preprocess the frame\n",
    "    frame_processed = normalize99(frame_gray)\n",
    "    #frame_processed = np.pad(frame_processed, 10, 'constant', constant_values=0)  # Pad with zeros\n",
    "\n",
    "    imgs.append(frame_processed)\n",
    "\n",
    "nimg = len(imgs)\n",
    "print('\\nnumber of images:', nimg)"
   ]
  },
  {
   "cell_type": "markdown",
   "id": "f635d57e-72e7-415b-aea5-73990f9450e2",
   "metadata": {},
   "source": [
    "## Initialize model\n",
    "Here we use one of the built-in model names. We will choose the `bact_phase_omni` model. "
   ]
  },
  {
   "cell_type": "code",
   "execution_count": 5,
   "id": "33f645d6-c2cc-45bb-80da-22efa8cb4901",
   "metadata": {
    "tags": []
   },
   "outputs": [
    {
     "name": "stdout",
     "output_type": "stream",
     "text": [
      "2023-12-09 15:40:43,568 [INFO] >>cyto<< model set to be used\n",
      "2023-12-09 15:40:43,570 [INFO] >>>> using CPU\n"
     ]
    }
   ],
   "source": [
    "from cellpose_omni import models\n",
    "from cellpose_omni.models import MODEL_NAMES\n",
    "\n",
    "model_name = 'cyto'\n",
    "model = models.CellposeModel(gpu=use_GPU, model_type=model_name)"
   ]
  },
  {
   "cell_type": "markdown",
   "id": "469856ad-65c8-4ba7-b371-e2661516c413",
   "metadata": {},
   "source": [
    "## Run segmentation "
   ]
  },
  {
   "cell_type": "code",
   "execution_count": 6,
   "id": "ea6bc9a2-78cb-478e-8ca9-aadd5c1047f8",
   "metadata": {},
   "outputs": [
    {
     "name": "stderr",
     "output_type": "stream",
     "text": [
      "Segmentation progress::   0%|                                                                  | 0/338 [00:00<?, ?it/s]"
     ]
    },
    {
     "name": "stdout",
     "output_type": "stream",
     "text": [
      "Segmentation time for image 7450: 1.0919246673583984s\n"
     ]
    },
    {
     "name": "stderr",
     "output_type": "stream",
     "text": [
      "Segmentation progress::   0%|▏                                                         | 1/338 [00:02<14:09,  2.52s/it]"
     ]
    },
    {
     "name": "stdout",
     "output_type": "stream",
     "text": [
      "Segmentation time for image 7451: 0.6628005504608154s\n"
     ]
    },
    {
     "name": "stderr",
     "output_type": "stream",
     "text": [
      "Segmentation progress::   1%|▎                                                         | 2/338 [00:03<09:24,  1.68s/it]"
     ]
    },
    {
     "name": "stdout",
     "output_type": "stream",
     "text": [
      "Segmentation time for image 7452: 0.6568410396575928s\n"
     ]
    },
    {
     "name": "stderr",
     "output_type": "stream",
     "text": [
      "Segmentation progress::   1%|▌                                                         | 3/338 [00:04<08:01,  1.44s/it]"
     ]
    },
    {
     "name": "stdout",
     "output_type": "stream",
     "text": [
      "Segmentation time for image 7453: 0.5825095176696777s\n"
     ]
    },
    {
     "name": "stderr",
     "output_type": "stream",
     "text": [
      "Segmentation progress::   1%|▋                                                         | 4/338 [00:05<07:11,  1.29s/it]"
     ]
    },
    {
     "name": "stdout",
     "output_type": "stream",
     "text": [
      "Segmentation time for image 7454: 0.6078195571899414s\n"
     ]
    },
    {
     "name": "stderr",
     "output_type": "stream",
     "text": [
      "Segmentation progress::   1%|▊                                                         | 5/338 [00:06<06:44,  1.22s/it]"
     ]
    },
    {
     "name": "stdout",
     "output_type": "stream",
     "text": [
      "Segmentation time for image 7455: 0.6593973636627197s\n"
     ]
    },
    {
     "name": "stderr",
     "output_type": "stream",
     "text": [
      "Segmentation progress::   2%|█                                                         | 6/338 [00:08<06:36,  1.20s/it]"
     ]
    },
    {
     "name": "stdout",
     "output_type": "stream",
     "text": [
      "Segmentation time for image 7456: 0.6596565246582031s\n"
     ]
    },
    {
     "name": "stderr",
     "output_type": "stream",
     "text": [
      "Segmentation progress::   2%|█▏                                                        | 7/338 [00:09<07:01,  1.27s/it]"
     ]
    },
    {
     "name": "stdout",
     "output_type": "stream",
     "text": [
      "Segmentation time for image 7457: 0.7125980854034424s\n"
     ]
    },
    {
     "name": "stderr",
     "output_type": "stream",
     "text": [
      "Segmentation progress::   2%|█▎                                                        | 8/338 [00:10<06:48,  1.24s/it]"
     ]
    },
    {
     "name": "stdout",
     "output_type": "stream",
     "text": [
      "Segmentation time for image 7458: 0.7171566486358643s\n"
     ]
    },
    {
     "name": "stderr",
     "output_type": "stream",
     "text": [
      "Segmentation progress::   3%|█▌                                                        | 9/338 [00:11<06:47,  1.24s/it]"
     ]
    },
    {
     "name": "stdout",
     "output_type": "stream",
     "text": [
      "Segmentation time for image 7459: 0.6212012767791748s\n"
     ]
    },
    {
     "name": "stderr",
     "output_type": "stream",
     "text": [
      "Segmentation progress::   3%|█▋                                                       | 10/338 [00:13<06:34,  1.20s/it]"
     ]
    },
    {
     "name": "stdout",
     "output_type": "stream",
     "text": [
      "Segmentation time for image 7460: 0.6502573490142822s\n"
     ]
    },
    {
     "name": "stderr",
     "output_type": "stream",
     "text": [
      "Segmentation progress::   3%|█▊                                                       | 11/338 [00:14<06:25,  1.18s/it]"
     ]
    },
    {
     "name": "stdout",
     "output_type": "stream",
     "text": [
      "Segmentation time for image 7461: 0.5802488327026367s\n"
     ]
    },
    {
     "name": "stderr",
     "output_type": "stream",
     "text": [
      "Segmentation progress::   4%|██                                                       | 12/338 [00:15<06:15,  1.15s/it]"
     ]
    },
    {
     "name": "stdout",
     "output_type": "stream",
     "text": [
      "Segmentation time for image 7462: 0.6383678913116455s\n"
     ]
    },
    {
     "name": "stderr",
     "output_type": "stream",
     "text": [
      "Segmentation progress::   4%|██▏                                                      | 13/338 [00:16<06:17,  1.16s/it]"
     ]
    },
    {
     "name": "stdout",
     "output_type": "stream",
     "text": [
      "Segmentation time for image 7463: 0.6884255409240723s\n"
     ]
    },
    {
     "name": "stderr",
     "output_type": "stream",
     "text": [
      "Segmentation progress::   4%|██▎                                                      | 14/338 [00:17<06:12,  1.15s/it]"
     ]
    },
    {
     "name": "stdout",
     "output_type": "stream",
     "text": [
      "Segmentation time for image 7464: 0.9910638332366943s\n"
     ]
    },
    {
     "name": "stderr",
     "output_type": "stream",
     "text": [
      "Segmentation progress::   4%|██▌                                                      | 15/338 [00:19<06:45,  1.26s/it]"
     ]
    },
    {
     "name": "stdout",
     "output_type": "stream",
     "text": [
      "Segmentation time for image 7465: 0.6019241809844971s\n"
     ]
    },
    {
     "name": "stderr",
     "output_type": "stream",
     "text": [
      "Segmentation progress::   5%|██▋                                                      | 16/338 [00:20<06:25,  1.20s/it]"
     ]
    },
    {
     "name": "stdout",
     "output_type": "stream",
     "text": [
      "Segmentation time for image 7466: 0.6689152717590332s\n"
     ]
    },
    {
     "name": "stderr",
     "output_type": "stream",
     "text": [
      "Segmentation progress::   5%|██▊                                                      | 17/338 [00:21<06:21,  1.19s/it]"
     ]
    },
    {
     "name": "stdout",
     "output_type": "stream",
     "text": [
      "Segmentation time for image 7467: 0.6402230262756348s\n"
     ]
    },
    {
     "name": "stderr",
     "output_type": "stream",
     "text": [
      "Segmentation progress::   5%|███                                                      | 18/338 [00:22<06:14,  1.17s/it]"
     ]
    },
    {
     "name": "stdout",
     "output_type": "stream",
     "text": [
      "Segmentation time for image 7468: 0.6918339729309082s\n"
     ]
    },
    {
     "name": "stderr",
     "output_type": "stream",
     "text": [
      "Segmentation progress::   6%|███▏                                                     | 19/338 [00:23<06:16,  1.18s/it]"
     ]
    },
    {
     "name": "stdout",
     "output_type": "stream",
     "text": [
      "Segmentation time for image 7469: 0.6038103103637695s\n"
     ]
    },
    {
     "name": "stderr",
     "output_type": "stream",
     "text": [
      "Segmentation progress::   6%|███▎                                                     | 20/338 [00:24<05:55,  1.12s/it]"
     ]
    },
    {
     "name": "stdout",
     "output_type": "stream",
     "text": [
      "Segmentation time for image 7470: 0.6726973056793213s\n"
     ]
    },
    {
     "name": "stderr",
     "output_type": "stream",
     "text": [
      "Segmentation progress::   6%|███▌                                                     | 21/338 [00:25<05:56,  1.13s/it]"
     ]
    },
    {
     "name": "stdout",
     "output_type": "stream",
     "text": [
      "Segmentation time for image 7471: 0.6827781200408936s\n"
     ]
    },
    {
     "name": "stderr",
     "output_type": "stream",
     "text": [
      "Segmentation progress::   7%|███▋                                                     | 22/338 [00:26<05:58,  1.13s/it]"
     ]
    },
    {
     "name": "stdout",
     "output_type": "stream",
     "text": [
      "Segmentation time for image 7472: 0.6250913143157959s\n"
     ]
    },
    {
     "name": "stderr",
     "output_type": "stream",
     "text": [
      "Segmentation progress::   7%|███▉                                                     | 23/338 [00:28<06:17,  1.20s/it]"
     ]
    },
    {
     "name": "stdout",
     "output_type": "stream",
     "text": [
      "Segmentation time for image 7473: 0.6123180389404297s\n"
     ]
    },
    {
     "name": "stderr",
     "output_type": "stream",
     "text": [
      "Segmentation progress::   7%|████                                                     | 24/338 [00:29<06:01,  1.15s/it]"
     ]
    },
    {
     "name": "stdout",
     "output_type": "stream",
     "text": [
      "Segmentation time for image 7474: 0.7535953521728516s\n"
     ]
    },
    {
     "name": "stderr",
     "output_type": "stream",
     "text": [
      "Segmentation progress::   7%|████▏                                                    | 25/338 [00:30<06:07,  1.18s/it]"
     ]
    },
    {
     "name": "stdout",
     "output_type": "stream",
     "text": [
      "Segmentation time for image 7475: 0.5800855159759521s\n"
     ]
    },
    {
     "name": "stderr",
     "output_type": "stream",
     "text": [
      "Segmentation progress::   8%|████▍                                                    | 26/338 [00:31<05:50,  1.12s/it]"
     ]
    },
    {
     "name": "stdout",
     "output_type": "stream",
     "text": [
      "Segmentation time for image 7476: 0.6668720245361328s\n"
     ]
    },
    {
     "name": "stderr",
     "output_type": "stream",
     "text": [
      "Segmentation progress::   8%|████▌                                                    | 27/338 [00:32<05:47,  1.12s/it]"
     ]
    },
    {
     "name": "stdout",
     "output_type": "stream",
     "text": [
      "Segmentation time for image 7477: 0.6960587501525879s\n"
     ]
    },
    {
     "name": "stderr",
     "output_type": "stream",
     "text": [
      "Segmentation progress::   8%|████▋                                                    | 28/338 [00:33<05:53,  1.14s/it]"
     ]
    },
    {
     "name": "stdout",
     "output_type": "stream",
     "text": [
      "Segmentation time for image 7478: 0.6738142967224121s\n"
     ]
    },
    {
     "name": "stderr",
     "output_type": "stream",
     "text": [
      "Segmentation progress::   9%|████▉                                                    | 29/338 [00:34<05:52,  1.14s/it]"
     ]
    },
    {
     "name": "stdout",
     "output_type": "stream",
     "text": [
      "Segmentation time for image 7479: 0.6922457218170166s\n"
     ]
    },
    {
     "name": "stderr",
     "output_type": "stream",
     "text": [
      "Segmentation progress::   9%|█████                                                    | 30/338 [00:36<05:53,  1.15s/it]"
     ]
    },
    {
     "name": "stdout",
     "output_type": "stream",
     "text": [
      "Segmentation time for image 7480: 0.5955402851104736s\n"
     ]
    },
    {
     "name": "stderr",
     "output_type": "stream",
     "text": [
      "Segmentation progress::   9%|█████▏                                                   | 31/338 [00:37<05:42,  1.11s/it]"
     ]
    },
    {
     "name": "stdout",
     "output_type": "stream",
     "text": [
      "Segmentation time for image 7481: 0.6212427616119385s\n"
     ]
    },
    {
     "name": "stderr",
     "output_type": "stream",
     "text": [
      "Segmentation progress::   9%|█████▍                                                   | 32/338 [00:38<05:45,  1.13s/it]"
     ]
    },
    {
     "name": "stdout",
     "output_type": "stream",
     "text": [
      "Segmentation time for image 7482: 0.6765193939208984s\n"
     ]
    },
    {
     "name": "stderr",
     "output_type": "stream",
     "text": [
      "Segmentation progress::  10%|█████▌                                                   | 33/338 [00:39<06:26,  1.27s/it]"
     ]
    },
    {
     "name": "stdout",
     "output_type": "stream",
     "text": [
      "Segmentation time for image 7483: 0.6837155818939209s\n"
     ]
    },
    {
     "name": "stderr",
     "output_type": "stream",
     "text": [
      "Segmentation progress::  10%|█████▋                                                   | 34/338 [00:41<06:17,  1.24s/it]"
     ]
    },
    {
     "name": "stdout",
     "output_type": "stream",
     "text": [
      "Segmentation time for image 7484: 0.6031801700592041s\n"
     ]
    },
    {
     "name": "stderr",
     "output_type": "stream",
     "text": [
      "Segmentation progress::  10%|█████▉                                                   | 35/338 [00:42<05:58,  1.18s/it]"
     ]
    },
    {
     "name": "stdout",
     "output_type": "stream",
     "text": [
      "Segmentation time for image 7485: 0.5771839618682861s\n"
     ]
    },
    {
     "name": "stderr",
     "output_type": "stream",
     "text": [
      "Segmentation progress::  11%|██████                                                   | 36/338 [00:43<05:45,  1.15s/it]"
     ]
    },
    {
     "name": "stdout",
     "output_type": "stream",
     "text": [
      "Segmentation time for image 7486: 0.6001431941986084s\n"
     ]
    },
    {
     "name": "stderr",
     "output_type": "stream",
     "text": [
      "Segmentation progress::  11%|██████▏                                                  | 37/338 [00:44<05:37,  1.12s/it]"
     ]
    },
    {
     "name": "stdout",
     "output_type": "stream",
     "text": [
      "Segmentation time for image 7487: 0.5699481964111328s\n"
     ]
    },
    {
     "name": "stderr",
     "output_type": "stream",
     "text": [
      "Segmentation progress::  11%|██████▍                                                  | 38/338 [00:45<05:26,  1.09s/it]"
     ]
    },
    {
     "name": "stdout",
     "output_type": "stream",
     "text": [
      "Segmentation time for image 7488: 0.7591333389282227s\n"
     ]
    },
    {
     "name": "stderr",
     "output_type": "stream",
     "text": [
      "Segmentation progress::  12%|██████▌                                                  | 39/338 [00:46<05:33,  1.12s/it]"
     ]
    },
    {
     "name": "stdout",
     "output_type": "stream",
     "text": [
      "Segmentation time for image 7489: 0.6502120494842529s\n"
     ]
    },
    {
     "name": "stderr",
     "output_type": "stream",
     "text": [
      "Segmentation progress::  12%|██████▋                                                  | 40/338 [00:47<05:33,  1.12s/it]"
     ]
    },
    {
     "name": "stdout",
     "output_type": "stream",
     "text": [
      "Segmentation time for image 7490: 0.6404247283935547s\n"
     ]
    },
    {
     "name": "stderr",
     "output_type": "stream",
     "text": [
      "Segmentation progress::  12%|██████▉                                                  | 41/338 [00:48<05:33,  1.12s/it]"
     ]
    },
    {
     "name": "stdout",
     "output_type": "stream",
     "text": [
      "Segmentation time for image 7491: 0.7569723129272461s\n"
     ]
    },
    {
     "name": "stderr",
     "output_type": "stream",
     "text": [
      "Segmentation progress::  12%|███████                                                  | 42/338 [00:50<05:55,  1.20s/it]"
     ]
    },
    {
     "name": "stdout",
     "output_type": "stream",
     "text": [
      "Segmentation time for image 7492: 0.6894385814666748s\n"
     ]
    },
    {
     "name": "stderr",
     "output_type": "stream",
     "text": [
      "Segmentation progress::  13%|███████▎                                                 | 43/338 [00:51<06:03,  1.23s/it]"
     ]
    },
    {
     "name": "stdout",
     "output_type": "stream",
     "text": [
      "Segmentation time for image 7493: 0.7961032390594482s\n"
     ]
    },
    {
     "name": "stderr",
     "output_type": "stream",
     "text": [
      "Segmentation progress::  13%|███████▍                                                 | 44/338 [00:53<06:58,  1.42s/it]"
     ]
    },
    {
     "name": "stdout",
     "output_type": "stream",
     "text": [
      "Segmentation time for image 7494: 0.6145656108856201s\n"
     ]
    },
    {
     "name": "stderr",
     "output_type": "stream",
     "text": [
      "Segmentation progress::  13%|███████▌                                                 | 45/338 [00:54<06:31,  1.34s/it]"
     ]
    },
    {
     "name": "stdout",
     "output_type": "stream",
     "text": [
      "Segmentation time for image 7495: 0.7317519187927246s\n"
     ]
    },
    {
     "name": "stderr",
     "output_type": "stream",
     "text": [
      "Segmentation progress::  14%|███████▊                                                 | 46/338 [00:55<06:18,  1.30s/it]"
     ]
    },
    {
     "name": "stdout",
     "output_type": "stream",
     "text": [
      "Segmentation time for image 7496: 0.7182080745697021s\n"
     ]
    },
    {
     "name": "stderr",
     "output_type": "stream",
     "text": [
      "Segmentation progress::  14%|███████▉                                                 | 47/338 [00:56<06:07,  1.26s/it]"
     ]
    },
    {
     "name": "stdout",
     "output_type": "stream",
     "text": [
      "Segmentation time for image 7497: 0.604872465133667s\n"
     ]
    },
    {
     "name": "stderr",
     "output_type": "stream",
     "text": [
      "Segmentation progress::  14%|████████                                                 | 48/338 [00:57<05:47,  1.20s/it]"
     ]
    },
    {
     "name": "stdout",
     "output_type": "stream",
     "text": [
      "Segmentation time for image 7498: 0.6182081699371338s\n"
     ]
    },
    {
     "name": "stderr",
     "output_type": "stream",
     "text": [
      "Segmentation progress::  14%|████████▎                                                | 49/338 [00:58<05:39,  1.18s/it]"
     ]
    },
    {
     "name": "stdout",
     "output_type": "stream",
     "text": [
      "Segmentation time for image 7499: 0.6207528114318848s\n"
     ]
    },
    {
     "name": "stderr",
     "output_type": "stream",
     "text": [
      "Segmentation progress::  15%|████████▍                                                | 50/338 [01:00<05:33,  1.16s/it]"
     ]
    },
    {
     "name": "stdout",
     "output_type": "stream",
     "text": [
      "Segmentation time for image 7500: 0.6523110866546631s\n"
     ]
    },
    {
     "name": "stderr",
     "output_type": "stream",
     "text": [
      "Segmentation progress::  15%|████████▌                                                | 51/338 [01:01<05:31,  1.16s/it]"
     ]
    },
    {
     "name": "stdout",
     "output_type": "stream",
     "text": [
      "Segmentation time for image 7501: 0.6143090724945068s\n"
     ]
    },
    {
     "name": "stderr",
     "output_type": "stream",
     "text": [
      "Segmentation progress::  15%|████████▊                                                | 52/338 [01:02<05:23,  1.13s/it]"
     ]
    },
    {
     "name": "stdout",
     "output_type": "stream",
     "text": [
      "Segmentation time for image 7502: 0.6636326313018799s\n"
     ]
    },
    {
     "name": "stderr",
     "output_type": "stream",
     "text": [
      "Segmentation progress::  16%|████████▉                                                | 53/338 [01:03<05:23,  1.13s/it]"
     ]
    },
    {
     "name": "stdout",
     "output_type": "stream",
     "text": [
      "Segmentation time for image 7503: 0.6622612476348877s\n"
     ]
    },
    {
     "name": "stderr",
     "output_type": "stream",
     "text": [
      "Segmentation progress::  16%|█████████                                                | 54/338 [01:04<05:20,  1.13s/it]"
     ]
    },
    {
     "name": "stdout",
     "output_type": "stream",
     "text": [
      "Segmentation time for image 7504: 0.7368795871734619s\n"
     ]
    },
    {
     "name": "stderr",
     "output_type": "stream",
     "text": [
      "Segmentation progress::  16%|█████████▎                                               | 55/338 [01:05<05:30,  1.17s/it]"
     ]
    },
    {
     "name": "stdout",
     "output_type": "stream",
     "text": [
      "Segmentation time for image 7505: 0.7376260757446289s\n"
     ]
    },
    {
     "name": "stderr",
     "output_type": "stream",
     "text": [
      "Segmentation progress::  17%|█████████▍                                               | 56/338 [01:07<05:35,  1.19s/it]"
     ]
    },
    {
     "name": "stdout",
     "output_type": "stream",
     "text": [
      "Segmentation time for image 7506: 1.1254608631134033s\n"
     ]
    },
    {
     "name": "stderr",
     "output_type": "stream",
     "text": [
      "Segmentation progress::  17%|█████████▌                                               | 57/338 [01:08<06:13,  1.33s/it]"
     ]
    },
    {
     "name": "stdout",
     "output_type": "stream",
     "text": [
      "Segmentation time for image 7507: 0.6415278911590576s\n"
     ]
    },
    {
     "name": "stderr",
     "output_type": "stream",
     "text": [
      "Segmentation progress::  17%|█████████▊                                               | 58/338 [01:09<05:54,  1.26s/it]"
     ]
    },
    {
     "name": "stdout",
     "output_type": "stream",
     "text": [
      "2023-12-09 15:41:54,381 [INFO] No cell pixels found.\n",
      "Segmentation time for image 7508: 0.6093523502349854s\n"
     ]
    },
    {
     "name": "stderr",
     "output_type": "stream",
     "text": [
      "Segmentation progress::  17%|█████████▉                                               | 59/338 [01:10<05:43,  1.23s/it]"
     ]
    },
    {
     "name": "stdout",
     "output_type": "stream",
     "text": [
      "Segmentation time for image 7509: 0.637678861618042s\n"
     ]
    },
    {
     "name": "stderr",
     "output_type": "stream",
     "text": [
      "Segmentation progress::  18%|██████████                                               | 60/338 [01:12<05:36,  1.21s/it]"
     ]
    },
    {
     "name": "stdout",
     "output_type": "stream",
     "text": [
      "Segmentation time for image 7510: 0.6574828624725342s\n"
     ]
    },
    {
     "name": "stderr",
     "output_type": "stream",
     "text": [
      "Segmentation progress::  18%|██████████▎                                              | 61/338 [01:13<05:35,  1.21s/it]"
     ]
    },
    {
     "name": "stdout",
     "output_type": "stream",
     "text": [
      "Segmentation time for image 7511: 0.6746864318847656s\n"
     ]
    },
    {
     "name": "stderr",
     "output_type": "stream",
     "text": [
      "Segmentation progress::  18%|██████████▍                                              | 62/338 [01:14<05:41,  1.24s/it]"
     ]
    },
    {
     "name": "stdout",
     "output_type": "stream",
     "text": [
      "Segmentation time for image 7512: 0.8356263637542725s\n"
     ]
    },
    {
     "name": "stderr",
     "output_type": "stream",
     "text": [
      "Segmentation progress::  19%|██████████▌                                              | 63/338 [01:16<05:58,  1.30s/it]"
     ]
    },
    {
     "name": "stdout",
     "output_type": "stream",
     "text": [
      "Segmentation time for image 7513: 1.0268723964691162s\n"
     ]
    },
    {
     "name": "stderr",
     "output_type": "stream",
     "text": [
      "Segmentation progress::  19%|██████████▊                                              | 64/338 [01:17<06:28,  1.42s/it]"
     ]
    },
    {
     "name": "stdout",
     "output_type": "stream",
     "text": [
      "Segmentation time for image 7514: 0.993152379989624s\n"
     ]
    },
    {
     "name": "stderr",
     "output_type": "stream",
     "text": [
      "Segmentation progress::  19%|██████████▉                                              | 65/338 [01:19<06:49,  1.50s/it]"
     ]
    },
    {
     "name": "stdout",
     "output_type": "stream",
     "text": [
      "Segmentation time for image 7515: 1.0620791912078857s\n"
     ]
    },
    {
     "name": "stderr",
     "output_type": "stream",
     "text": [
      "Segmentation progress::  20%|███████████▏                                             | 66/338 [01:21<07:44,  1.71s/it]"
     ]
    },
    {
     "name": "stdout",
     "output_type": "stream",
     "text": [
      "Segmentation time for image 7516: 1.3122620582580566s\n"
     ]
    },
    {
     "name": "stderr",
     "output_type": "stream",
     "text": [
      "Segmentation progress::  20%|███████████▎                                             | 67/338 [01:23<08:11,  1.81s/it]"
     ]
    },
    {
     "name": "stdout",
     "output_type": "stream",
     "text": [
      "Segmentation time for image 7517: 1.247978925704956s\n"
     ]
    },
    {
     "name": "stderr",
     "output_type": "stream",
     "text": [
      "Segmentation progress::  20%|███████████▍                                             | 68/338 [01:25<08:30,  1.89s/it]"
     ]
    },
    {
     "name": "stdout",
     "output_type": "stream",
     "text": [
      "Segmentation time for image 7518: 1.2066490650177002s\n"
     ]
    },
    {
     "name": "stderr",
     "output_type": "stream",
     "text": [
      "Segmentation progress::  20%|███████████▋                                             | 69/338 [01:27<08:27,  1.89s/it]"
     ]
    },
    {
     "name": "stdout",
     "output_type": "stream",
     "text": [
      "Segmentation time for image 7519: 0.8185708522796631s\n"
     ]
    },
    {
     "name": "stderr",
     "output_type": "stream",
     "text": [
      "Segmentation progress::  21%|███████████▊                                             | 70/338 [01:29<07:43,  1.73s/it]"
     ]
    },
    {
     "name": "stdout",
     "output_type": "stream",
     "text": [
      "Segmentation time for image 7520: 1.029142141342163s\n"
     ]
    },
    {
     "name": "stderr",
     "output_type": "stream",
     "text": [
      "Segmentation progress::  21%|███████████▉                                             | 71/338 [01:30<07:22,  1.66s/it]"
     ]
    },
    {
     "name": "stdout",
     "output_type": "stream",
     "text": [
      "Segmentation time for image 7521: 0.5684499740600586s\n"
     ]
    },
    {
     "name": "stderr",
     "output_type": "stream",
     "text": [
      "Segmentation progress::  21%|████████████▏                                            | 72/338 [01:31<06:31,  1.47s/it]"
     ]
    },
    {
     "name": "stdout",
     "output_type": "stream",
     "text": [
      "Segmentation time for image 7522: 0.490250825881958s\n"
     ]
    },
    {
     "name": "stderr",
     "output_type": "stream",
     "text": [
      "Segmentation progress::  22%|████████████▎                                            | 73/338 [01:32<05:45,  1.30s/it]"
     ]
    },
    {
     "name": "stdout",
     "output_type": "stream",
     "text": [
      "Segmentation time for image 7523: 0.5141446590423584s\n"
     ]
    },
    {
     "name": "stderr",
     "output_type": "stream",
     "text": [
      "Segmentation progress::  22%|████████████▍                                            | 74/338 [01:33<05:13,  1.19s/it]"
     ]
    },
    {
     "name": "stdout",
     "output_type": "stream",
     "text": [
      "Segmentation time for image 7524: 0.5425350666046143s\n"
     ]
    },
    {
     "name": "stderr",
     "output_type": "stream",
     "text": [
      "Segmentation progress::  22%|████████████▋                                            | 75/338 [01:34<04:54,  1.12s/it]"
     ]
    },
    {
     "name": "stdout",
     "output_type": "stream",
     "text": [
      "Segmentation time for image 7525: 0.4822559356689453s\n"
     ]
    },
    {
     "name": "stderr",
     "output_type": "stream",
     "text": [
      "Segmentation progress::  22%|████████████▊                                            | 76/338 [01:35<04:35,  1.05s/it]"
     ]
    },
    {
     "name": "stdout",
     "output_type": "stream",
     "text": [
      "Segmentation time for image 7526: 0.4614710807800293s\n"
     ]
    },
    {
     "name": "stderr",
     "output_type": "stream",
     "text": [
      "Segmentation progress::  23%|████████████▉                                            | 77/338 [01:36<04:23,  1.01s/it]"
     ]
    },
    {
     "name": "stdout",
     "output_type": "stream",
     "text": [
      "Segmentation time for image 7527: 0.5203742980957031s\n"
     ]
    },
    {
     "name": "stderr",
     "output_type": "stream",
     "text": [
      "Segmentation progress::  23%|█████████████▏                                           | 78/338 [01:37<04:17,  1.01it/s]"
     ]
    },
    {
     "name": "stdout",
     "output_type": "stream",
     "text": [
      "Segmentation time for image 7528: 0.5005922317504883s\n"
     ]
    },
    {
     "name": "stderr",
     "output_type": "stream",
     "text": [
      "Segmentation progress::  23%|█████████████▎                                           | 79/338 [01:38<04:11,  1.03it/s]"
     ]
    },
    {
     "name": "stdout",
     "output_type": "stream",
     "text": [
      "Segmentation time for image 7529: 0.5044581890106201s\n"
     ]
    },
    {
     "name": "stderr",
     "output_type": "stream",
     "text": [
      "Segmentation progress::  24%|█████████████▍                                           | 80/338 [01:38<04:07,  1.04it/s]"
     ]
    },
    {
     "name": "stdout",
     "output_type": "stream",
     "text": [
      "Segmentation time for image 7530: 0.5110588073730469s\n"
     ]
    },
    {
     "name": "stderr",
     "output_type": "stream",
     "text": [
      "Segmentation progress::  24%|█████████████▋                                           | 81/338 [01:39<04:07,  1.04it/s]"
     ]
    },
    {
     "name": "stdout",
     "output_type": "stream",
     "text": [
      "Segmentation time for image 7531: 0.5108840465545654s\n"
     ]
    },
    {
     "name": "stderr",
     "output_type": "stream",
     "text": [
      "Segmentation progress::  24%|█████████████▊                                           | 82/338 [01:40<04:05,  1.04it/s]"
     ]
    },
    {
     "name": "stdout",
     "output_type": "stream",
     "text": [
      "Segmentation time for image 7532: 0.5340418815612793s\n"
     ]
    },
    {
     "name": "stderr",
     "output_type": "stream",
     "text": [
      "Segmentation progress::  25%|█████████████▉                                           | 83/338 [01:41<04:06,  1.03it/s]"
     ]
    },
    {
     "name": "stdout",
     "output_type": "stream",
     "text": [
      "Segmentation time for image 7533: 0.535557746887207s\n"
     ]
    },
    {
     "name": "stderr",
     "output_type": "stream",
     "text": [
      "Segmentation progress::  25%|██████████████▏                                          | 84/338 [01:42<04:05,  1.03it/s]"
     ]
    },
    {
     "name": "stdout",
     "output_type": "stream",
     "text": [
      "Segmentation time for image 7534: 0.5764219760894775s\n"
     ]
    },
    {
     "name": "stderr",
     "output_type": "stream",
     "text": [
      "Segmentation progress::  25%|██████████████▎                                          | 85/338 [01:43<04:11,  1.01it/s]"
     ]
    },
    {
     "name": "stdout",
     "output_type": "stream",
     "text": [
      "Segmentation time for image 7535: 0.5021247863769531s\n"
     ]
    },
    {
     "name": "stderr",
     "output_type": "stream",
     "text": [
      "Segmentation progress::  25%|██████████████▌                                          | 86/338 [01:44<04:07,  1.02it/s]"
     ]
    },
    {
     "name": "stdout",
     "output_type": "stream",
     "text": [
      "Segmentation time for image 7536: 1.041724443435669s\n"
     ]
    },
    {
     "name": "stderr",
     "output_type": "stream",
     "text": [
      "Segmentation progress::  26%|██████████████▋                                          | 87/338 [01:46<04:52,  1.16s/it]"
     ]
    },
    {
     "name": "stdout",
     "output_type": "stream",
     "text": [
      "Segmentation time for image 7537: 0.6839666366577148s\n"
     ]
    },
    {
     "name": "stderr",
     "output_type": "stream",
     "text": [
      "Segmentation progress::  26%|██████████████▊                                          | 88/338 [01:47<04:52,  1.17s/it]"
     ]
    },
    {
     "name": "stdout",
     "output_type": "stream",
     "text": [
      "Segmentation time for image 7538: 0.7227675914764404s\n"
     ]
    },
    {
     "name": "stderr",
     "output_type": "stream",
     "text": [
      "Segmentation progress::  26%|███████████████                                          | 89/338 [01:48<04:56,  1.19s/it]"
     ]
    },
    {
     "name": "stdout",
     "output_type": "stream",
     "text": [
      "Segmentation time for image 7539: 0.6285159587860107s\n"
     ]
    },
    {
     "name": "stderr",
     "output_type": "stream",
     "text": [
      "Segmentation progress::  27%|███████████████▏                                         | 90/338 [01:49<04:50,  1.17s/it]"
     ]
    },
    {
     "name": "stdout",
     "output_type": "stream",
     "text": [
      "Segmentation time for image 7540: 0.6428399085998535s\n"
     ]
    },
    {
     "name": "stderr",
     "output_type": "stream",
     "text": [
      "Segmentation progress::  27%|███████████████▎                                         | 91/338 [01:51<04:46,  1.16s/it]"
     ]
    },
    {
     "name": "stdout",
     "output_type": "stream",
     "text": [
      "Segmentation time for image 7541: 0.6031467914581299s\n"
     ]
    },
    {
     "name": "stderr",
     "output_type": "stream",
     "text": [
      "Segmentation progress::  27%|███████████████▌                                         | 92/338 [01:52<04:41,  1.14s/it]"
     ]
    },
    {
     "name": "stdout",
     "output_type": "stream",
     "text": [
      "Segmentation time for image 7542: 0.5969882011413574s\n"
     ]
    },
    {
     "name": "stderr",
     "output_type": "stream",
     "text": [
      "Segmentation progress::  28%|███████████████▋                                         | 93/338 [01:53<04:37,  1.13s/it]"
     ]
    },
    {
     "name": "stdout",
     "output_type": "stream",
     "text": [
      "Segmentation time for image 7543: 0.5999140739440918s\n"
     ]
    },
    {
     "name": "stderr",
     "output_type": "stream",
     "text": [
      "Segmentation progress::  28%|███████████████▊                                         | 94/338 [01:54<04:32,  1.12s/it]"
     ]
    },
    {
     "name": "stdout",
     "output_type": "stream",
     "text": [
      "Segmentation time for image 7544: 0.6110348701477051s\n"
     ]
    },
    {
     "name": "stderr",
     "output_type": "stream",
     "text": [
      "Segmentation progress::  28%|████████████████                                         | 95/338 [01:55<04:26,  1.10s/it]"
     ]
    },
    {
     "name": "stdout",
     "output_type": "stream",
     "text": [
      "Segmentation time for image 7545: 0.5487930774688721s\n"
     ]
    },
    {
     "name": "stderr",
     "output_type": "stream",
     "text": [
      "Segmentation progress::  28%|████████████████▏                                        | 96/338 [01:56<04:19,  1.07s/it]"
     ]
    },
    {
     "name": "stdout",
     "output_type": "stream",
     "text": [
      "2023-12-09 15:42:40,930 [INFO] No cell pixels found.\n",
      "Segmentation time for image 7546: 0.4995899200439453s\n"
     ]
    },
    {
     "name": "stderr",
     "output_type": "stream",
     "text": [
      "Segmentation progress::  29%|████████████████▎                                        | 97/338 [01:57<04:07,  1.03s/it]"
     ]
    },
    {
     "name": "stdout",
     "output_type": "stream",
     "text": [
      "Segmentation time for image 7547: 0.5427632331848145s\n"
     ]
    },
    {
     "name": "stderr",
     "output_type": "stream",
     "text": [
      "Segmentation progress::  29%|████████████████▌                                        | 98/338 [01:58<04:04,  1.02s/it]"
     ]
    },
    {
     "name": "stdout",
     "output_type": "stream",
     "text": [
      "Segmentation time for image 7548: 0.5389213562011719s\n"
     ]
    },
    {
     "name": "stderr",
     "output_type": "stream",
     "text": [
      "Segmentation progress::  29%|████████████████▋                                        | 99/338 [01:59<03:59,  1.00s/it]"
     ]
    },
    {
     "name": "stdout",
     "output_type": "stream",
     "text": [
      "Segmentation time for image 7549: 0.5504686832427979s\n"
     ]
    },
    {
     "name": "stderr",
     "output_type": "stream",
     "text": [
      "Segmentation progress::  30%|████████████████▌                                       | 100/338 [02:00<03:57,  1.00it/s]"
     ]
    },
    {
     "name": "stdout",
     "output_type": "stream",
     "text": [
      "Segmentation time for image 7550: 0.5386028289794922s\n"
     ]
    },
    {
     "name": "stderr",
     "output_type": "stream",
     "text": [
      "Segmentation progress::  30%|████████████████▋                                       | 101/338 [02:01<03:52,  1.02it/s]"
     ]
    },
    {
     "name": "stdout",
     "output_type": "stream",
     "text": [
      "Segmentation time for image 7551: 0.5632069110870361s\n"
     ]
    },
    {
     "name": "stderr",
     "output_type": "stream",
     "text": [
      "Segmentation progress::  30%|████████████████▉                                       | 102/338 [02:02<03:51,  1.02it/s]"
     ]
    },
    {
     "name": "stdout",
     "output_type": "stream",
     "text": [
      "Segmentation time for image 7552: 0.5469346046447754s\n"
     ]
    },
    {
     "name": "stderr",
     "output_type": "stream",
     "text": [
      "Segmentation progress::  30%|█████████████████                                       | 103/338 [02:03<03:49,  1.02it/s]"
     ]
    },
    {
     "name": "stdout",
     "output_type": "stream",
     "text": [
      "Segmentation time for image 7553: 0.535064697265625s\n"
     ]
    },
    {
     "name": "stderr",
     "output_type": "stream",
     "text": [
      "Segmentation progress::  31%|█████████████████▏                                      | 104/338 [02:04<03:47,  1.03it/s]"
     ]
    },
    {
     "name": "stdout",
     "output_type": "stream",
     "text": [
      "Segmentation time for image 7554: 1.15702223777771s\n"
     ]
    },
    {
     "name": "stderr",
     "output_type": "stream",
     "text": [
      "Segmentation progress::  31%|█████████████████▍                                      | 105/338 [02:05<04:29,  1.16s/it]"
     ]
    },
    {
     "name": "stdout",
     "output_type": "stream",
     "text": [
      "2023-12-09 15:42:50,228 [INFO] No cell pixels found.\n",
      "Segmentation time for image 7555: 0.48976778984069824s\n"
     ]
    },
    {
     "name": "stderr",
     "output_type": "stream",
     "text": [
      "Segmentation progress::  31%|█████████████████▌                                      | 106/338 [02:06<04:11,  1.09s/it]"
     ]
    },
    {
     "name": "stdout",
     "output_type": "stream",
     "text": [
      "Segmentation time for image 7556: 0.4915900230407715s\n"
     ]
    },
    {
     "name": "stderr",
     "output_type": "stream",
     "text": [
      "Segmentation progress::  32%|█████████████████▋                                      | 107/338 [02:07<04:01,  1.04s/it]"
     ]
    },
    {
     "name": "stdout",
     "output_type": "stream",
     "text": [
      "Segmentation time for image 7557: 0.5436594486236572s\n"
     ]
    },
    {
     "name": "stderr",
     "output_type": "stream",
     "text": [
      "Segmentation progress::  32%|█████████████████▉                                      | 108/338 [02:08<03:55,  1.02s/it]"
     ]
    },
    {
     "name": "stdout",
     "output_type": "stream",
     "text": [
      "Segmentation time for image 7558: 0.559065580368042s\n"
     ]
    },
    {
     "name": "stderr",
     "output_type": "stream",
     "text": [
      "Segmentation progress::  32%|██████████████████                                      | 109/338 [02:09<03:52,  1.02s/it]"
     ]
    },
    {
     "name": "stdout",
     "output_type": "stream",
     "text": [
      "Segmentation time for image 7559: 0.553577184677124s\n"
     ]
    },
    {
     "name": "stderr",
     "output_type": "stream",
     "text": [
      "Segmentation progress::  33%|██████████████████▏                                     | 110/338 [02:10<03:48,  1.00s/it]"
     ]
    },
    {
     "name": "stdout",
     "output_type": "stream",
     "text": [
      "Segmentation time for image 7560: 0.5492579936981201s\n"
     ]
    },
    {
     "name": "stderr",
     "output_type": "stream",
     "text": [
      "Segmentation progress::  33%|██████████████████▍                                     | 111/338 [02:11<03:44,  1.01it/s]"
     ]
    },
    {
     "name": "stdout",
     "output_type": "stream",
     "text": [
      "Segmentation time for image 7561: 0.5518608093261719s\n"
     ]
    },
    {
     "name": "stderr",
     "output_type": "stream",
     "text": [
      "Segmentation progress::  33%|██████████████████▌                                     | 112/338 [02:12<03:43,  1.01it/s]"
     ]
    },
    {
     "name": "stdout",
     "output_type": "stream",
     "text": [
      "Segmentation time for image 7562: 0.5693373680114746s\n"
     ]
    },
    {
     "name": "stderr",
     "output_type": "stream",
     "text": [
      "Segmentation progress::  33%|██████████████████▋                                     | 113/338 [02:13<03:43,  1.01it/s]"
     ]
    },
    {
     "name": "stdout",
     "output_type": "stream",
     "text": [
      "Segmentation time for image 7563: 0.5978202819824219s\n"
     ]
    },
    {
     "name": "stderr",
     "output_type": "stream",
     "text": [
      "Segmentation progress::  34%|██████████████████▉                                     | 114/338 [02:14<03:47,  1.01s/it]"
     ]
    },
    {
     "name": "stdout",
     "output_type": "stream",
     "text": [
      "Segmentation time for image 7564: 0.5789563655853271s\n"
     ]
    },
    {
     "name": "stderr",
     "output_type": "stream",
     "text": [
      "Segmentation progress::  34%|███████████████████                                     | 115/338 [02:15<03:44,  1.01s/it]"
     ]
    },
    {
     "name": "stdout",
     "output_type": "stream",
     "text": [
      "Segmentation time for image 7565: 0.5599520206451416s\n"
     ]
    },
    {
     "name": "stderr",
     "output_type": "stream",
     "text": [
      "Segmentation progress::  34%|███████████████████▏                                    | 116/338 [02:16<03:47,  1.02s/it]"
     ]
    },
    {
     "name": "stdout",
     "output_type": "stream",
     "text": [
      "Segmentation time for image 7566: 0.6367933750152588s\n"
     ]
    },
    {
     "name": "stderr",
     "output_type": "stream",
     "text": [
      "Segmentation progress::  35%|███████████████████▍                                    | 117/338 [02:17<03:52,  1.05s/it]"
     ]
    },
    {
     "name": "stdout",
     "output_type": "stream",
     "text": [
      "Segmentation time for image 7567: 0.6061336994171143s\n"
     ]
    },
    {
     "name": "stderr",
     "output_type": "stream",
     "text": [
      "Segmentation progress::  35%|███████████████████▌                                    | 118/338 [02:18<03:53,  1.06s/it]"
     ]
    },
    {
     "name": "stdout",
     "output_type": "stream",
     "text": [
      "Segmentation time for image 7568: 0.6264193058013916s\n"
     ]
    },
    {
     "name": "stderr",
     "output_type": "stream",
     "text": [
      "Segmentation progress::  35%|███████████████████▋                                    | 119/338 [02:19<03:54,  1.07s/it]"
     ]
    },
    {
     "name": "stdout",
     "output_type": "stream",
     "text": [
      "Segmentation time for image 7569: 0.5865464210510254s\n"
     ]
    },
    {
     "name": "stderr",
     "output_type": "stream",
     "text": [
      "Segmentation progress::  36%|███████████████████▉                                    | 120/338 [02:20<03:51,  1.06s/it]"
     ]
    },
    {
     "name": "stdout",
     "output_type": "stream",
     "text": [
      "Segmentation time for image 7570: 0.5350477695465088s\n"
     ]
    },
    {
     "name": "stderr",
     "output_type": "stream",
     "text": [
      "Segmentation progress::  36%|████████████████████                                    | 121/338 [02:22<03:48,  1.05s/it]"
     ]
    },
    {
     "name": "stdout",
     "output_type": "stream",
     "text": [
      "Segmentation time for image 7571: 0.6161227226257324s\n"
     ]
    },
    {
     "name": "stderr",
     "output_type": "stream",
     "text": [
      "Segmentation progress::  36%|████████████████████▏                                   | 122/338 [02:23<03:48,  1.06s/it]"
     ]
    },
    {
     "name": "stdout",
     "output_type": "stream",
     "text": [
      "Segmentation time for image 7572: 0.5592880249023438s\n"
     ]
    },
    {
     "name": "stderr",
     "output_type": "stream",
     "text": [
      "Segmentation progress::  36%|████████████████████▍                                   | 123/338 [02:24<03:41,  1.03s/it]"
     ]
    },
    {
     "name": "stdout",
     "output_type": "stream",
     "text": [
      "Segmentation time for image 7573: 0.55098557472229s\n"
     ]
    },
    {
     "name": "stderr",
     "output_type": "stream",
     "text": [
      "Segmentation progress::  37%|████████████████████▌                                   | 124/338 [02:25<03:39,  1.03s/it]"
     ]
    },
    {
     "name": "stdout",
     "output_type": "stream",
     "text": [
      "Segmentation time for image 7574: 1.2413372993469238s\n"
     ]
    },
    {
     "name": "stderr",
     "output_type": "stream",
     "text": [
      "Segmentation progress::  37%|████████████████████▋                                   | 125/338 [02:26<04:19,  1.22s/it]"
     ]
    },
    {
     "name": "stdout",
     "output_type": "stream",
     "text": [
      "2023-12-09 15:43:11,225 [INFO] No cell pixels found.\n",
      "Segmentation time for image 7575: 0.5260152816772461s\n"
     ]
    },
    {
     "name": "stderr",
     "output_type": "stream",
     "text": [
      "Segmentation progress::  37%|████████████████████▉                                   | 126/338 [02:27<04:05,  1.16s/it]"
     ]
    },
    {
     "name": "stdout",
     "output_type": "stream",
     "text": [
      "Segmentation time for image 7576: 0.5937061309814453s\n"
     ]
    },
    {
     "name": "stderr",
     "output_type": "stream",
     "text": [
      "Segmentation progress::  38%|█████████████████████                                   | 127/338 [02:28<03:56,  1.12s/it]"
     ]
    },
    {
     "name": "stdout",
     "output_type": "stream",
     "text": [
      "Segmentation time for image 7577: 0.567152738571167s\n"
     ]
    },
    {
     "name": "stderr",
     "output_type": "stream",
     "text": [
      "Segmentation progress::  38%|█████████████████████▏                                  | 128/338 [02:29<03:53,  1.11s/it]"
     ]
    },
    {
     "name": "stdout",
     "output_type": "stream",
     "text": [
      "Segmentation time for image 7578: 0.5757265090942383s\n"
     ]
    },
    {
     "name": "stderr",
     "output_type": "stream",
     "text": [
      "Segmentation progress::  38%|█████████████████████▎                                  | 129/338 [02:30<03:47,  1.09s/it]"
     ]
    },
    {
     "name": "stdout",
     "output_type": "stream",
     "text": [
      "Segmentation time for image 7579: 0.5595402717590332s\n"
     ]
    },
    {
     "name": "stderr",
     "output_type": "stream",
     "text": [
      "Segmentation progress::  38%|█████████████████████▌                                  | 130/338 [02:31<03:40,  1.06s/it]"
     ]
    },
    {
     "name": "stdout",
     "output_type": "stream",
     "text": [
      "Segmentation time for image 7580: 0.5308401584625244s\n"
     ]
    },
    {
     "name": "stderr",
     "output_type": "stream",
     "text": [
      "Segmentation progress::  39%|█████████████████████▋                                  | 131/338 [02:32<03:34,  1.04s/it]"
     ]
    },
    {
     "name": "stdout",
     "output_type": "stream",
     "text": [
      "Segmentation time for image 7581: 0.5893523693084717s\n"
     ]
    },
    {
     "name": "stderr",
     "output_type": "stream",
     "text": [
      "Segmentation progress::  39%|█████████████████████▊                                  | 132/338 [02:33<03:35,  1.04s/it]"
     ]
    },
    {
     "name": "stdout",
     "output_type": "stream",
     "text": [
      "Segmentation time for image 7582: 0.5723261833190918s\n"
     ]
    },
    {
     "name": "stderr",
     "output_type": "stream",
     "text": [
      "Segmentation progress::  39%|██████████████████████                                  | 133/338 [02:35<03:35,  1.05s/it]"
     ]
    },
    {
     "name": "stdout",
     "output_type": "stream",
     "text": [
      "Segmentation time for image 7583: 0.5709114074707031s\n"
     ]
    },
    {
     "name": "stderr",
     "output_type": "stream",
     "text": [
      "Segmentation progress::  40%|██████████████████████▏                                 | 134/338 [02:36<03:33,  1.05s/it]"
     ]
    },
    {
     "name": "stdout",
     "output_type": "stream",
     "text": [
      "Segmentation time for image 7584: 0.5523371696472168s\n"
     ]
    },
    {
     "name": "stderr",
     "output_type": "stream",
     "text": [
      "Segmentation progress::  40%|██████████████████████▎                                 | 135/338 [02:37<03:30,  1.04s/it]"
     ]
    },
    {
     "name": "stdout",
     "output_type": "stream",
     "text": [
      "Segmentation time for image 7585: 0.5876164436340332s\n"
     ]
    },
    {
     "name": "stderr",
     "output_type": "stream",
     "text": [
      "Segmentation progress::  40%|██████████████████████▌                                 | 136/338 [02:38<03:31,  1.05s/it]"
     ]
    },
    {
     "name": "stdout",
     "output_type": "stream",
     "text": [
      "Segmentation time for image 7586: 0.6644992828369141s\n"
     ]
    },
    {
     "name": "stderr",
     "output_type": "stream",
     "text": [
      "Segmentation progress::  41%|██████████████████████▋                                 | 137/338 [02:39<03:35,  1.07s/it]"
     ]
    },
    {
     "name": "stdout",
     "output_type": "stream",
     "text": [
      "Segmentation time for image 7587: 0.5652029514312744s\n"
     ]
    },
    {
     "name": "stderr",
     "output_type": "stream",
     "text": [
      "Segmentation progress::  41%|██████████████████████▊                                 | 138/338 [02:40<03:31,  1.06s/it]"
     ]
    },
    {
     "name": "stdout",
     "output_type": "stream",
     "text": [
      "Segmentation time for image 7588: 0.5450916290283203s\n"
     ]
    },
    {
     "name": "stderr",
     "output_type": "stream",
     "text": [
      "Segmentation progress::  41%|███████████████████████                                 | 139/338 [02:41<03:25,  1.03s/it]"
     ]
    },
    {
     "name": "stdout",
     "output_type": "stream",
     "text": [
      "Segmentation time for image 7589: 0.5999550819396973s\n"
     ]
    },
    {
     "name": "stderr",
     "output_type": "stream",
     "text": [
      "Segmentation progress::  41%|███████████████████████▏                                | 140/338 [02:42<03:24,  1.03s/it]"
     ]
    },
    {
     "name": "stdout",
     "output_type": "stream",
     "text": [
      "Segmentation time for image 7590: 0.6303858757019043s\n"
     ]
    },
    {
     "name": "stderr",
     "output_type": "stream",
     "text": [
      "Segmentation progress::  42%|███████████████████████▎                                | 141/338 [02:43<03:33,  1.08s/it]"
     ]
    },
    {
     "name": "stdout",
     "output_type": "stream",
     "text": [
      "Segmentation time for image 7591: 0.6064419746398926s\n"
     ]
    },
    {
     "name": "stderr",
     "output_type": "stream",
     "text": [
      "Segmentation progress::  42%|███████████████████████▌                                | 142/338 [02:44<03:32,  1.08s/it]"
     ]
    },
    {
     "name": "stdout",
     "output_type": "stream",
     "text": [
      "Segmentation time for image 7592: 0.601463794708252s\n"
     ]
    },
    {
     "name": "stderr",
     "output_type": "stream",
     "text": [
      "Segmentation progress::  42%|███████████████████████▋                                | 143/338 [02:45<03:31,  1.08s/it]"
     ]
    },
    {
     "name": "stdout",
     "output_type": "stream",
     "text": [
      "Segmentation time for image 7593: 0.5968408584594727s\n"
     ]
    },
    {
     "name": "stderr",
     "output_type": "stream",
     "text": [
      "Segmentation progress::  43%|███████████████████████▊                                | 144/338 [02:46<03:30,  1.09s/it]"
     ]
    },
    {
     "name": "stdout",
     "output_type": "stream",
     "text": [
      "Segmentation time for image 7594: 0.5720400810241699s\n"
     ]
    },
    {
     "name": "stderr",
     "output_type": "stream",
     "text": [
      "Segmentation progress::  43%|████████████████████████                                | 145/338 [02:47<03:27,  1.08s/it]"
     ]
    },
    {
     "name": "stdout",
     "output_type": "stream",
     "text": [
      "Segmentation time for image 7595: 0.6291294097900391s\n"
     ]
    },
    {
     "name": "stderr",
     "output_type": "stream",
     "text": [
      "Segmentation progress::  43%|████████████████████████▏                               | 146/338 [02:49<03:34,  1.11s/it]"
     ]
    },
    {
     "name": "stdout",
     "output_type": "stream",
     "text": [
      "Segmentation time for image 7596: 0.6267571449279785s\n"
     ]
    },
    {
     "name": "stderr",
     "output_type": "stream",
     "text": [
      "Segmentation progress::  43%|████████████████████████▎                               | 147/338 [02:50<03:38,  1.14s/it]"
     ]
    },
    {
     "name": "stdout",
     "output_type": "stream",
     "text": [
      "Segmentation time for image 7597: 1.4663994312286377s\n"
     ]
    },
    {
     "name": "stderr",
     "output_type": "stream",
     "text": [
      "Segmentation progress::  44%|████████████████████████▌                               | 148/338 [02:52<04:24,  1.39s/it]"
     ]
    },
    {
     "name": "stdout",
     "output_type": "stream",
     "text": [
      "Segmentation time for image 7598: 0.5816338062286377s\n"
     ]
    },
    {
     "name": "stderr",
     "output_type": "stream",
     "text": [
      "Segmentation progress::  44%|████████████████████████▋                               | 149/338 [02:53<04:06,  1.30s/it]"
     ]
    },
    {
     "name": "stdout",
     "output_type": "stream",
     "text": [
      "Segmentation time for image 7599: 0.5765888690948486s\n"
     ]
    },
    {
     "name": "stderr",
     "output_type": "stream",
     "text": [
      "Segmentation progress::  44%|████████████████████████▊                               | 150/338 [02:54<03:50,  1.23s/it]"
     ]
    },
    {
     "name": "stdout",
     "output_type": "stream",
     "text": [
      "Segmentation time for image 7600: 0.5811424255371094s\n"
     ]
    },
    {
     "name": "stderr",
     "output_type": "stream",
     "text": [
      "Segmentation progress::  45%|█████████████████████████                               | 151/338 [02:55<03:40,  1.18s/it]"
     ]
    },
    {
     "name": "stdout",
     "output_type": "stream",
     "text": [
      "Segmentation time for image 7601: 0.690638542175293s\n"
     ]
    },
    {
     "name": "stderr",
     "output_type": "stream",
     "text": [
      "Segmentation progress::  45%|█████████████████████████▏                              | 152/338 [02:56<03:41,  1.19s/it]"
     ]
    },
    {
     "name": "stdout",
     "output_type": "stream",
     "text": [
      "Segmentation time for image 7602: 0.6102206707000732s\n"
     ]
    },
    {
     "name": "stderr",
     "output_type": "stream",
     "text": [
      "Segmentation progress::  45%|█████████████████████████▎                              | 153/338 [02:57<03:34,  1.16s/it]"
     ]
    },
    {
     "name": "stdout",
     "output_type": "stream",
     "text": [
      "Segmentation time for image 7603: 0.5971634387969971s\n"
     ]
    },
    {
     "name": "stderr",
     "output_type": "stream",
     "text": [
      "Segmentation progress::  46%|█████████████████████████▌                              | 154/338 [02:58<03:28,  1.13s/it]"
     ]
    },
    {
     "name": "stdout",
     "output_type": "stream",
     "text": [
      "Segmentation time for image 7604: 0.6165809631347656s\n"
     ]
    },
    {
     "name": "stderr",
     "output_type": "stream",
     "text": [
      "Segmentation progress::  46%|█████████████████████████▋                              | 155/338 [02:59<03:25,  1.12s/it]"
     ]
    },
    {
     "name": "stdout",
     "output_type": "stream",
     "text": [
      "Segmentation time for image 7605: 0.7141656875610352s\n"
     ]
    },
    {
     "name": "stderr",
     "output_type": "stream",
     "text": [
      "Segmentation progress::  46%|█████████████████████████▊                              | 156/338 [03:01<03:28,  1.14s/it]"
     ]
    },
    {
     "name": "stdout",
     "output_type": "stream",
     "text": [
      "Segmentation time for image 7606: 0.6230223178863525s\n"
     ]
    },
    {
     "name": "stderr",
     "output_type": "stream",
     "text": [
      "Segmentation progress::  46%|██████████████████████████                              | 157/338 [03:02<03:29,  1.16s/it]"
     ]
    },
    {
     "name": "stdout",
     "output_type": "stream",
     "text": [
      "Segmentation time for image 7607: 0.6109957695007324s\n"
     ]
    },
    {
     "name": "stderr",
     "output_type": "stream",
     "text": [
      "Segmentation progress::  47%|██████████████████████████▏                             | 158/338 [03:03<03:25,  1.14s/it]"
     ]
    },
    {
     "name": "stdout",
     "output_type": "stream",
     "text": [
      "Segmentation time for image 7608: 0.6425466537475586s\n"
     ]
    },
    {
     "name": "stderr",
     "output_type": "stream",
     "text": [
      "Segmentation progress::  47%|██████████████████████████▎                             | 159/338 [03:04<03:20,  1.12s/it]"
     ]
    },
    {
     "name": "stdout",
     "output_type": "stream",
     "text": [
      "2023-12-09 15:43:48,948 [INFO] No cell pixels found.\n",
      "Segmentation time for image 7609: 0.5390310287475586s\n"
     ]
    },
    {
     "name": "stderr",
     "output_type": "stream",
     "text": [
      "Segmentation progress::  47%|██████████████████████████▌                             | 160/338 [03:05<03:14,  1.10s/it]"
     ]
    },
    {
     "name": "stdout",
     "output_type": "stream",
     "text": [
      "2023-12-09 15:43:49,996 [INFO] No cell pixels found.\n",
      "Segmentation time for image 7610: 0.5491251945495605s\n"
     ]
    },
    {
     "name": "stderr",
     "output_type": "stream",
     "text": [
      "Segmentation progress::  48%|██████████████████████████▋                             | 161/338 [03:06<03:13,  1.09s/it]"
     ]
    },
    {
     "name": "stdout",
     "output_type": "stream",
     "text": [
      "2023-12-09 15:43:51,055 [INFO] No cell pixels found.\n",
      "Segmentation time for image 7611: 0.5268979072570801s\n"
     ]
    },
    {
     "name": "stderr",
     "output_type": "stream",
     "text": [
      "Segmentation progress::  48%|██████████████████████████▊                             | 162/338 [03:07<03:04,  1.05s/it]"
     ]
    },
    {
     "name": "stdout",
     "output_type": "stream",
     "text": [
      "2023-12-09 15:43:52,013 [INFO] No cell pixels found.\n",
      "Segmentation time for image 7612: 0.5305893421173096s\n"
     ]
    },
    {
     "name": "stderr",
     "output_type": "stream",
     "text": [
      "Segmentation progress::  48%|███████████████████████████                             | 163/338 [03:08<03:01,  1.03s/it]"
     ]
    },
    {
     "name": "stdout",
     "output_type": "stream",
     "text": [
      "2023-12-09 15:43:53,035 [INFO] No cell pixels found.\n",
      "Segmentation time for image 7613: 0.5546355247497559s\n"
     ]
    },
    {
     "name": "stderr",
     "output_type": "stream",
     "text": [
      "Segmentation progress::  49%|███████████████████████████▏                            | 164/338 [03:09<02:58,  1.03s/it]"
     ]
    },
    {
     "name": "stdout",
     "output_type": "stream",
     "text": [
      "Segmentation time for image 7614: 0.5770976543426514s\n"
     ]
    },
    {
     "name": "stderr",
     "output_type": "stream",
     "text": [
      "Segmentation progress::  49%|███████████████████████████▎                            | 165/338 [03:10<02:58,  1.03s/it]"
     ]
    },
    {
     "name": "stdout",
     "output_type": "stream",
     "text": [
      "Segmentation time for image 7615: 0.5715882778167725s\n"
     ]
    },
    {
     "name": "stderr",
     "output_type": "stream",
     "text": [
      "Segmentation progress::  49%|███████████████████████████▌                            | 166/338 [03:11<02:58,  1.04s/it]"
     ]
    },
    {
     "name": "stdout",
     "output_type": "stream",
     "text": [
      "Segmentation time for image 7616: 0.599292516708374s\n"
     ]
    },
    {
     "name": "stderr",
     "output_type": "stream",
     "text": [
      "Segmentation progress::  49%|███████████████████████████▋                            | 167/338 [03:12<02:58,  1.04s/it]"
     ]
    },
    {
     "name": "stdout",
     "output_type": "stream",
     "text": [
      "Segmentation time for image 7617: 0.5783524513244629s\n"
     ]
    },
    {
     "name": "stderr",
     "output_type": "stream",
     "text": [
      "Segmentation progress::  50%|███████████████████████████▊                            | 168/338 [03:13<02:57,  1.04s/it]"
     ]
    },
    {
     "name": "stdout",
     "output_type": "stream",
     "text": [
      "Segmentation time for image 7618: 0.5999162197113037s\n"
     ]
    },
    {
     "name": "stderr",
     "output_type": "stream",
     "text": [
      "Segmentation progress::  50%|████████████████████████████                            | 169/338 [03:14<02:57,  1.05s/it]"
     ]
    },
    {
     "name": "stdout",
     "output_type": "stream",
     "text": [
      "Segmentation time for image 7619: 0.5877959728240967s\n"
     ]
    },
    {
     "name": "stderr",
     "output_type": "stream",
     "text": [
      "Segmentation progress::  50%|████████████████████████████▏                           | 170/338 [03:15<02:56,  1.05s/it]"
     ]
    },
    {
     "name": "stdout",
     "output_type": "stream",
     "text": [
      "Segmentation time for image 7620: 0.6048448085784912s\n"
     ]
    },
    {
     "name": "stderr",
     "output_type": "stream",
     "text": [
      "Segmentation progress::  51%|████████████████████████████▎                           | 171/338 [03:16<02:57,  1.06s/it]"
     ]
    },
    {
     "name": "stdout",
     "output_type": "stream",
     "text": [
      "Segmentation time for image 7621: 0.57008957862854s\n"
     ]
    },
    {
     "name": "stderr",
     "output_type": "stream",
     "text": [
      "Segmentation progress::  51%|████████████████████████████▍                           | 172/338 [03:17<02:55,  1.06s/it]"
     ]
    },
    {
     "name": "stdout",
     "output_type": "stream",
     "text": [
      "Segmentation time for image 7622: 0.575831413269043s\n"
     ]
    },
    {
     "name": "stderr",
     "output_type": "stream",
     "text": [
      "Segmentation progress::  51%|████████████████████████████▋                           | 173/338 [03:19<02:54,  1.06s/it]"
     ]
    },
    {
     "name": "stdout",
     "output_type": "stream",
     "text": [
      "Segmentation time for image 7623: 1.341125726699829s\n"
     ]
    },
    {
     "name": "stderr",
     "output_type": "stream",
     "text": [
      "Segmentation progress::  51%|████████████████████████████▊                           | 174/338 [03:20<03:30,  1.29s/it]"
     ]
    },
    {
     "name": "stdout",
     "output_type": "stream",
     "text": [
      "Segmentation time for image 7624: 0.5696632862091064s\n"
     ]
    },
    {
     "name": "stderr",
     "output_type": "stream",
     "text": [
      "Segmentation progress::  52%|████████████████████████████▉                           | 175/338 [03:21<03:15,  1.20s/it]"
     ]
    },
    {
     "name": "stdout",
     "output_type": "stream",
     "text": [
      "Segmentation time for image 7625: 0.6119518280029297s\n"
     ]
    },
    {
     "name": "stderr",
     "output_type": "stream",
     "text": [
      "Segmentation progress::  52%|█████████████████████████████▏                          | 176/338 [03:22<03:06,  1.15s/it]"
     ]
    },
    {
     "name": "stdout",
     "output_type": "stream",
     "text": [
      "Segmentation time for image 7626: 0.6097321510314941s\n"
     ]
    },
    {
     "name": "stderr",
     "output_type": "stream",
     "text": [
      "Segmentation progress::  52%|█████████████████████████████▎                          | 177/338 [03:23<03:02,  1.13s/it]"
     ]
    },
    {
     "name": "stdout",
     "output_type": "stream",
     "text": [
      "Segmentation time for image 7627: 0.6170616149902344s\n"
     ]
    },
    {
     "name": "stderr",
     "output_type": "stream",
     "text": [
      "Segmentation progress::  53%|█████████████████████████████▍                          | 178/338 [03:25<03:00,  1.13s/it]"
     ]
    },
    {
     "name": "stdout",
     "output_type": "stream",
     "text": [
      "Segmentation time for image 7628: 0.5901131629943848s\n"
     ]
    },
    {
     "name": "stderr",
     "output_type": "stream",
     "text": [
      "Segmentation progress::  53%|█████████████████████████████▋                          | 179/338 [03:26<02:55,  1.11s/it]"
     ]
    },
    {
     "name": "stdout",
     "output_type": "stream",
     "text": [
      "Segmentation time for image 7629: 0.627349853515625s\n"
     ]
    },
    {
     "name": "stderr",
     "output_type": "stream",
     "text": [
      "Segmentation progress::  53%|█████████████████████████████▊                          | 180/338 [03:27<02:55,  1.11s/it]"
     ]
    },
    {
     "name": "stdout",
     "output_type": "stream",
     "text": [
      "Segmentation time for image 7630: 0.5873727798461914s\n"
     ]
    },
    {
     "name": "stderr",
     "output_type": "stream",
     "text": [
      "Segmentation progress::  54%|█████████████████████████████▉                          | 181/338 [03:28<02:49,  1.08s/it]"
     ]
    },
    {
     "name": "stdout",
     "output_type": "stream",
     "text": [
      "Segmentation time for image 7631: 0.5943813323974609s\n"
     ]
    },
    {
     "name": "stderr",
     "output_type": "stream",
     "text": [
      "Segmentation progress::  54%|██████████████████████████████▏                         | 182/338 [03:29<02:51,  1.10s/it]"
     ]
    },
    {
     "name": "stdout",
     "output_type": "stream",
     "text": [
      "Segmentation time for image 7632: 0.6710715293884277s\n"
     ]
    },
    {
     "name": "stderr",
     "output_type": "stream",
     "text": [
      "Segmentation progress::  54%|██████████████████████████████▎                         | 183/338 [03:30<02:52,  1.11s/it]"
     ]
    },
    {
     "name": "stdout",
     "output_type": "stream",
     "text": [
      "Segmentation time for image 7633: 0.5983757972717285s\n"
     ]
    },
    {
     "name": "stderr",
     "output_type": "stream",
     "text": [
      "Segmentation progress::  54%|██████████████████████████████▍                         | 184/338 [03:31<02:49,  1.10s/it]"
     ]
    },
    {
     "name": "stdout",
     "output_type": "stream",
     "text": [
      "Segmentation time for image 7634: 0.5938329696655273s\n"
     ]
    },
    {
     "name": "stderr",
     "output_type": "stream",
     "text": [
      "Segmentation progress::  55%|██████████████████████████████▋                         | 185/338 [03:32<02:47,  1.09s/it]"
     ]
    },
    {
     "name": "stdout",
     "output_type": "stream",
     "text": [
      "Segmentation time for image 7635: 0.5657782554626465s\n"
     ]
    },
    {
     "name": "stderr",
     "output_type": "stream",
     "text": [
      "Segmentation progress::  55%|██████████████████████████████▊                         | 186/338 [03:33<02:43,  1.07s/it]"
     ]
    },
    {
     "name": "stdout",
     "output_type": "stream",
     "text": [
      "Segmentation time for image 7636: 0.5636115074157715s\n"
     ]
    },
    {
     "name": "stderr",
     "output_type": "stream",
     "text": [
      "Segmentation progress::  55%|██████████████████████████████▉                         | 187/338 [03:34<02:39,  1.05s/it]"
     ]
    },
    {
     "name": "stdout",
     "output_type": "stream",
     "text": [
      "Segmentation time for image 7637: 0.6052451133728027s\n"
     ]
    },
    {
     "name": "stderr",
     "output_type": "stream",
     "text": [
      "Segmentation progress::  56%|███████████████████████████████▏                        | 188/338 [03:35<02:38,  1.06s/it]"
     ]
    },
    {
     "name": "stdout",
     "output_type": "stream",
     "text": [
      "Segmentation time for image 7638: 0.598846435546875s\n"
     ]
    },
    {
     "name": "stderr",
     "output_type": "stream",
     "text": [
      "Segmentation progress::  56%|███████████████████████████████▎                        | 189/338 [03:36<02:37,  1.06s/it]"
     ]
    },
    {
     "name": "stdout",
     "output_type": "stream",
     "text": [
      "Segmentation time for image 7639: 0.5757238864898682s\n"
     ]
    },
    {
     "name": "stderr",
     "output_type": "stream",
     "text": [
      "Segmentation progress::  56%|███████████████████████████████▍                        | 190/338 [03:37<02:36,  1.06s/it]"
     ]
    },
    {
     "name": "stdout",
     "output_type": "stream",
     "text": [
      "Segmentation time for image 7640: 0.6254539489746094s\n"
     ]
    },
    {
     "name": "stderr",
     "output_type": "stream",
     "text": [
      "Segmentation progress::  57%|███████████████████████████████▋                        | 191/338 [03:39<02:38,  1.08s/it]"
     ]
    },
    {
     "name": "stdout",
     "output_type": "stream",
     "text": [
      "Segmentation time for image 7641: 0.6028313636779785s\n"
     ]
    },
    {
     "name": "stderr",
     "output_type": "stream",
     "text": [
      "Segmentation progress::  57%|███████████████████████████████▊                        | 192/338 [03:40<02:35,  1.07s/it]"
     ]
    },
    {
     "name": "stdout",
     "output_type": "stream",
     "text": [
      "Segmentation time for image 7642: 0.605449914932251s\n"
     ]
    },
    {
     "name": "stderr",
     "output_type": "stream",
     "text": [
      "Segmentation progress::  57%|███████████████████████████████▉                        | 193/338 [03:41<02:36,  1.08s/it]"
     ]
    },
    {
     "name": "stdout",
     "output_type": "stream",
     "text": [
      "Segmentation time for image 7643: 0.6097846031188965s\n"
     ]
    },
    {
     "name": "stderr",
     "output_type": "stream",
     "text": [
      "Segmentation progress::  57%|████████████████████████████████▏                       | 194/338 [03:42<02:37,  1.10s/it]"
     ]
    },
    {
     "name": "stdout",
     "output_type": "stream",
     "text": [
      "Segmentation time for image 7644: 0.6359114646911621s\n"
     ]
    },
    {
     "name": "stderr",
     "output_type": "stream",
     "text": [
      "Segmentation progress::  58%|████████████████████████████████▎                       | 195/338 [03:43<02:37,  1.10s/it]"
     ]
    },
    {
     "name": "stdout",
     "output_type": "stream",
     "text": [
      "Segmentation time for image 7645: 0.6215295791625977s\n"
     ]
    },
    {
     "name": "stderr",
     "output_type": "stream",
     "text": [
      "Segmentation progress::  58%|████████████████████████████████▍                       | 196/338 [03:44<02:35,  1.10s/it]"
     ]
    },
    {
     "name": "stdout",
     "output_type": "stream",
     "text": [
      "Segmentation time for image 7646: 0.5820589065551758s\n"
     ]
    },
    {
     "name": "stderr",
     "output_type": "stream",
     "text": [
      "Segmentation progress::  58%|████████████████████████████████▋                       | 197/338 [03:45<02:33,  1.09s/it]"
     ]
    },
    {
     "name": "stdout",
     "output_type": "stream",
     "text": [
      "Segmentation time for image 7647: 0.6010468006134033s\n"
     ]
    },
    {
     "name": "stderr",
     "output_type": "stream",
     "text": [
      "Segmentation progress::  59%|████████████████████████████████▊                       | 198/338 [03:46<02:31,  1.08s/it]"
     ]
    },
    {
     "name": "stdout",
     "output_type": "stream",
     "text": [
      "Segmentation time for image 7648: 0.5763654708862305s\n"
     ]
    },
    {
     "name": "stderr",
     "output_type": "stream",
     "text": [
      "Segmentation progress::  59%|████████████████████████████████▉                       | 199/338 [03:47<02:28,  1.07s/it]"
     ]
    },
    {
     "name": "stdout",
     "output_type": "stream",
     "text": [
      "Segmentation time for image 7649: 0.5819962024688721s\n"
     ]
    },
    {
     "name": "stderr",
     "output_type": "stream",
     "text": [
      "Segmentation progress::  59%|█████████████████████████████████▏                      | 200/338 [03:48<02:26,  1.06s/it]"
     ]
    },
    {
     "name": "stdout",
     "output_type": "stream",
     "text": [
      "Segmentation time for image 7650: 0.5923783779144287s\n"
     ]
    },
    {
     "name": "stderr",
     "output_type": "stream",
     "text": [
      "Segmentation progress::  59%|█████████████████████████████████▎                      | 201/338 [03:49<02:29,  1.09s/it]"
     ]
    },
    {
     "name": "stdout",
     "output_type": "stream",
     "text": [
      "Segmentation time for image 7651: 0.6070652008056641s\n"
     ]
    },
    {
     "name": "stderr",
     "output_type": "stream",
     "text": [
      "Segmentation progress::  60%|█████████████████████████████████▍                      | 202/338 [03:50<02:26,  1.08s/it]"
     ]
    },
    {
     "name": "stdout",
     "output_type": "stream",
     "text": [
      "Segmentation time for image 7652: 0.6606988906860352s\n"
     ]
    },
    {
     "name": "stderr",
     "output_type": "stream",
     "text": [
      "Segmentation progress::  60%|█████████████████████████████████▋                      | 203/338 [03:53<03:09,  1.40s/it]"
     ]
    },
    {
     "name": "stdout",
     "output_type": "stream",
     "text": [
      "Segmentation time for image 7653: 0.6457309722900391s\n"
     ]
    },
    {
     "name": "stderr",
     "output_type": "stream",
     "text": [
      "Segmentation progress::  60%|█████████████████████████████████▊                      | 204/338 [03:54<02:58,  1.33s/it]"
     ]
    },
    {
     "name": "stdout",
     "output_type": "stream",
     "text": [
      "Segmentation time for image 7654: 0.6107659339904785s\n"
     ]
    },
    {
     "name": "stderr",
     "output_type": "stream",
     "text": [
      "Segmentation progress::  61%|█████████████████████████████████▉                      | 205/338 [03:55<02:47,  1.26s/it]"
     ]
    },
    {
     "name": "stdout",
     "output_type": "stream",
     "text": [
      "Segmentation time for image 7655: 0.6222019195556641s\n"
     ]
    },
    {
     "name": "stderr",
     "output_type": "stream",
     "text": [
      "Segmentation progress::  61%|██████████████████████████████████▏                     | 206/338 [03:56<02:38,  1.20s/it]"
     ]
    },
    {
     "name": "stdout",
     "output_type": "stream",
     "text": [
      "Segmentation time for image 7656: 0.6410086154937744s\n"
     ]
    },
    {
     "name": "stderr",
     "output_type": "stream",
     "text": [
      "Segmentation progress::  61%|██████████████████████████████████▎                     | 207/338 [03:57<02:36,  1.19s/it]"
     ]
    },
    {
     "name": "stdout",
     "output_type": "stream",
     "text": [
      "Segmentation time for image 7657: 0.7321493625640869s\n"
     ]
    },
    {
     "name": "stderr",
     "output_type": "stream",
     "text": [
      "Segmentation progress::  62%|██████████████████████████████████▍                     | 208/338 [03:58<02:37,  1.21s/it]"
     ]
    },
    {
     "name": "stdout",
     "output_type": "stream",
     "text": [
      "Segmentation time for image 7658: 0.7198741436004639s\n"
     ]
    },
    {
     "name": "stderr",
     "output_type": "stream",
     "text": [
      "Segmentation progress::  62%|██████████████████████████████████▋                     | 209/338 [04:00<02:37,  1.22s/it]"
     ]
    },
    {
     "name": "stdout",
     "output_type": "stream",
     "text": [
      "Segmentation time for image 7659: 0.6822028160095215s\n"
     ]
    },
    {
     "name": "stderr",
     "output_type": "stream",
     "text": [
      "Segmentation progress::  62%|██████████████████████████████████▊                     | 210/338 [04:01<02:37,  1.23s/it]"
     ]
    },
    {
     "name": "stdout",
     "output_type": "stream",
     "text": [
      "Segmentation time for image 7660: 0.7199954986572266s\n"
     ]
    },
    {
     "name": "stderr",
     "output_type": "stream",
     "text": [
      "Segmentation progress::  62%|██████████████████████████████████▉                     | 211/338 [04:02<02:39,  1.26s/it]"
     ]
    },
    {
     "name": "stdout",
     "output_type": "stream",
     "text": [
      "Segmentation time for image 7661: 0.595794677734375s\n"
     ]
    },
    {
     "name": "stderr",
     "output_type": "stream",
     "text": [
      "Segmentation progress::  63%|███████████████████████████████████                     | 212/338 [04:03<02:32,  1.21s/it]"
     ]
    },
    {
     "name": "stdout",
     "output_type": "stream",
     "text": [
      "Segmentation time for image 7662: 0.5940835475921631s\n"
     ]
    },
    {
     "name": "stderr",
     "output_type": "stream",
     "text": [
      "Segmentation progress::  63%|███████████████████████████████████▎                    | 213/338 [04:04<02:26,  1.17s/it]"
     ]
    },
    {
     "name": "stdout",
     "output_type": "stream",
     "text": [
      "Segmentation time for image 7663: 0.6257154941558838s\n"
     ]
    },
    {
     "name": "stderr",
     "output_type": "stream",
     "text": [
      "Segmentation progress::  63%|███████████████████████████████████▍                    | 214/338 [04:05<02:23,  1.16s/it]"
     ]
    },
    {
     "name": "stdout",
     "output_type": "stream",
     "text": [
      "Segmentation time for image 7664: 0.715378999710083s\n"
     ]
    },
    {
     "name": "stderr",
     "output_type": "stream",
     "text": [
      "Segmentation progress::  64%|███████████████████████████████████▌                    | 215/338 [04:07<02:24,  1.17s/it]"
     ]
    },
    {
     "name": "stdout",
     "output_type": "stream",
     "text": [
      "Segmentation time for image 7665: 0.6184496879577637s\n"
     ]
    },
    {
     "name": "stderr",
     "output_type": "stream",
     "text": [
      "Segmentation progress::  64%|███████████████████████████████████▊                    | 216/338 [04:08<02:23,  1.17s/it]"
     ]
    },
    {
     "name": "stdout",
     "output_type": "stream",
     "text": [
      "Segmentation time for image 7666: 0.6376805305480957s\n"
     ]
    },
    {
     "name": "stderr",
     "output_type": "stream",
     "text": [
      "Segmentation progress::  64%|███████████████████████████████████▉                    | 217/338 [04:09<02:20,  1.16s/it]"
     ]
    },
    {
     "name": "stdout",
     "output_type": "stream",
     "text": [
      "Segmentation time for image 7667: 0.6148560047149658s\n"
     ]
    },
    {
     "name": "stderr",
     "output_type": "stream",
     "text": [
      "Segmentation progress::  64%|████████████████████████████████████                    | 218/338 [04:10<02:16,  1.14s/it]"
     ]
    },
    {
     "name": "stdout",
     "output_type": "stream",
     "text": [
      "Segmentation time for image 7668: 0.687612771987915s\n"
     ]
    },
    {
     "name": "stderr",
     "output_type": "stream",
     "text": [
      "Segmentation progress::  65%|████████████████████████████████████▎                   | 219/338 [04:11<02:16,  1.15s/it]"
     ]
    },
    {
     "name": "stdout",
     "output_type": "stream",
     "text": [
      "Segmentation time for image 7669: 0.6380281448364258s\n"
     ]
    },
    {
     "name": "stderr",
     "output_type": "stream",
     "text": [
      "Segmentation progress::  65%|████████████████████████████████████▍                   | 220/338 [04:12<02:14,  1.14s/it]"
     ]
    },
    {
     "name": "stdout",
     "output_type": "stream",
     "text": [
      "Segmentation time for image 7670: 0.6260919570922852s\n"
     ]
    },
    {
     "name": "stderr",
     "output_type": "stream",
     "text": [
      "Segmentation progress::  65%|████████████████████████████████████▌                   | 221/338 [04:14<02:13,  1.15s/it]"
     ]
    },
    {
     "name": "stdout",
     "output_type": "stream",
     "text": [
      "Segmentation time for image 7671: 0.6494045257568359s\n"
     ]
    },
    {
     "name": "stderr",
     "output_type": "stream",
     "text": [
      "Segmentation progress::  66%|████████████████████████████████████▊                   | 222/338 [04:15<02:13,  1.15s/it]"
     ]
    },
    {
     "name": "stdout",
     "output_type": "stream",
     "text": [
      "Segmentation time for image 7672: 0.659367561340332s\n"
     ]
    },
    {
     "name": "stderr",
     "output_type": "stream",
     "text": [
      "Segmentation progress::  66%|████████████████████████████████████▉                   | 223/338 [04:16<02:11,  1.14s/it]"
     ]
    },
    {
     "name": "stdout",
     "output_type": "stream",
     "text": [
      "Segmentation time for image 7673: 0.6598110198974609s\n"
     ]
    },
    {
     "name": "stderr",
     "output_type": "stream",
     "text": [
      "Segmentation progress::  66%|█████████████████████████████████████                   | 224/338 [04:17<02:12,  1.17s/it]"
     ]
    },
    {
     "name": "stdout",
     "output_type": "stream",
     "text": [
      "Segmentation time for image 7674: 0.6182060241699219s\n"
     ]
    },
    {
     "name": "stderr",
     "output_type": "stream",
     "text": [
      "Segmentation progress::  67%|█████████████████████████████████████▎                  | 225/338 [04:18<02:10,  1.15s/it]"
     ]
    },
    {
     "name": "stdout",
     "output_type": "stream",
     "text": [
      "Segmentation time for image 7675: 0.579784631729126s\n"
     ]
    },
    {
     "name": "stderr",
     "output_type": "stream",
     "text": [
      "Segmentation progress::  67%|█████████████████████████████████████▍                  | 226/338 [04:19<02:06,  1.13s/it]"
     ]
    },
    {
     "name": "stdout",
     "output_type": "stream",
     "text": [
      "Segmentation time for image 7676: 0.8710145950317383s\n"
     ]
    },
    {
     "name": "stderr",
     "output_type": "stream",
     "text": [
      "Segmentation progress::  67%|█████████████████████████████████████▌                  | 227/338 [04:21<02:16,  1.23s/it]"
     ]
    },
    {
     "name": "stdout",
     "output_type": "stream",
     "text": [
      "Segmentation time for image 7677: 0.6814916133880615s\n"
     ]
    },
    {
     "name": "stderr",
     "output_type": "stream",
     "text": [
      "Segmentation progress::  67%|█████████████████████████████████████▊                  | 228/338 [04:22<02:14,  1.22s/it]"
     ]
    },
    {
     "name": "stdout",
     "output_type": "stream",
     "text": [
      "Segmentation time for image 7678: 0.6097562313079834s\n"
     ]
    },
    {
     "name": "stderr",
     "output_type": "stream",
     "text": [
      "Segmentation progress::  68%|█████████████████████████████████████▉                  | 229/338 [04:23<02:09,  1.19s/it]"
     ]
    },
    {
     "name": "stdout",
     "output_type": "stream",
     "text": [
      "Segmentation time for image 7679: 0.6796820163726807s\n"
     ]
    },
    {
     "name": "stderr",
     "output_type": "stream",
     "text": [
      "Segmentation progress::  68%|██████████████████████████████████████                  | 230/338 [04:24<02:09,  1.20s/it]"
     ]
    },
    {
     "name": "stdout",
     "output_type": "stream",
     "text": [
      "Segmentation time for image 7680: 0.6803874969482422s\n"
     ]
    },
    {
     "name": "stderr",
     "output_type": "stream",
     "text": [
      "Segmentation progress::  68%|██████████████████████████████████████▎                 | 231/338 [04:25<02:07,  1.19s/it]"
     ]
    },
    {
     "name": "stdout",
     "output_type": "stream",
     "text": [
      "Segmentation time for image 7681: 0.719740629196167s\n"
     ]
    },
    {
     "name": "stderr",
     "output_type": "stream",
     "text": [
      "Segmentation progress::  69%|██████████████████████████████████████▍                 | 232/338 [04:27<02:08,  1.21s/it]"
     ]
    },
    {
     "name": "stdout",
     "output_type": "stream",
     "text": [
      "Segmentation time for image 7682: 0.9361121654510498s\n"
     ]
    },
    {
     "name": "stderr",
     "output_type": "stream",
     "text": [
      "Segmentation progress::  69%|██████████████████████████████████████▌                 | 233/338 [04:28<02:22,  1.36s/it]"
     ]
    },
    {
     "name": "stdout",
     "output_type": "stream",
     "text": [
      "Segmentation time for image 7683: 1.2957942485809326s\n"
     ]
    },
    {
     "name": "stderr",
     "output_type": "stream",
     "text": [
      "Segmentation progress::  69%|██████████████████████████████████████▊                 | 234/338 [04:30<02:38,  1.53s/it]"
     ]
    },
    {
     "name": "stdout",
     "output_type": "stream",
     "text": [
      "Segmentation time for image 7684: 0.9159038066864014s\n"
     ]
    },
    {
     "name": "stderr",
     "output_type": "stream",
     "text": [
      "Segmentation progress::  70%|██████████████████████████████████████▉                 | 235/338 [04:32<02:36,  1.52s/it]"
     ]
    },
    {
     "name": "stdout",
     "output_type": "stream",
     "text": [
      "Segmentation time for image 7685: 0.8437066078186035s\n"
     ]
    },
    {
     "name": "stderr",
     "output_type": "stream",
     "text": [
      "Segmentation progress::  70%|███████████████████████████████████████                 | 236/338 [04:33<02:31,  1.49s/it]"
     ]
    },
    {
     "name": "stdout",
     "output_type": "stream",
     "text": [
      "Segmentation time for image 7686: 0.8911254405975342s\n"
     ]
    },
    {
     "name": "stderr",
     "output_type": "stream",
     "text": [
      "Segmentation progress::  70%|███████████████████████████████████████▎                | 237/338 [04:36<03:03,  1.82s/it]"
     ]
    },
    {
     "name": "stdout",
     "output_type": "stream",
     "text": [
      "Segmentation time for image 7687: 0.7490482330322266s\n"
     ]
    },
    {
     "name": "stderr",
     "output_type": "stream",
     "text": [
      "Segmentation progress::  70%|███████████████████████████████████████▍                | 238/338 [04:37<02:46,  1.66s/it]"
     ]
    },
    {
     "name": "stdout",
     "output_type": "stream",
     "text": [
      "Segmentation time for image 7688: 0.6727313995361328s\n"
     ]
    },
    {
     "name": "stderr",
     "output_type": "stream",
     "text": [
      "Segmentation progress::  71%|███████████████████████████████████████▌                | 239/338 [04:38<02:29,  1.51s/it]"
     ]
    },
    {
     "name": "stdout",
     "output_type": "stream",
     "text": [
      "Segmentation time for image 7689: 0.6749119758605957s\n"
     ]
    },
    {
     "name": "stderr",
     "output_type": "stream",
     "text": [
      "Segmentation progress::  71%|███████████████████████████████████████▊                | 240/338 [04:39<02:19,  1.43s/it]"
     ]
    },
    {
     "name": "stdout",
     "output_type": "stream",
     "text": [
      "Segmentation time for image 7690: 0.656466007232666s\n"
     ]
    },
    {
     "name": "stderr",
     "output_type": "stream",
     "text": [
      "Segmentation progress::  71%|███████████████████████████████████████▉                | 241/338 [04:41<02:11,  1.36s/it]"
     ]
    },
    {
     "name": "stdout",
     "output_type": "stream",
     "text": [
      "Segmentation time for image 7691: 0.8480069637298584s\n"
     ]
    },
    {
     "name": "stderr",
     "output_type": "stream",
     "text": [
      "Segmentation progress::  72%|████████████████████████████████████████                | 242/338 [04:42<02:10,  1.36s/it]"
     ]
    },
    {
     "name": "stdout",
     "output_type": "stream",
     "text": [
      "Segmentation time for image 7692: 0.7035083770751953s\n"
     ]
    },
    {
     "name": "stderr",
     "output_type": "stream",
     "text": [
      "Segmentation progress::  72%|████████████████████████████████████████▎               | 243/338 [04:43<02:05,  1.32s/it]"
     ]
    },
    {
     "name": "stdout",
     "output_type": "stream",
     "text": [
      "Segmentation time for image 7693: 0.706411600112915s\n"
     ]
    },
    {
     "name": "stderr",
     "output_type": "stream",
     "text": [
      "Segmentation progress::  72%|████████████████████████████████████████▍               | 244/338 [04:45<02:01,  1.30s/it]"
     ]
    },
    {
     "name": "stdout",
     "output_type": "stream",
     "text": [
      "Segmentation time for image 7694: 0.7601058483123779s\n"
     ]
    },
    {
     "name": "stderr",
     "output_type": "stream",
     "text": [
      "Segmentation progress::  72%|████████████████████████████████████████▌               | 245/338 [04:46<02:01,  1.31s/it]"
     ]
    },
    {
     "name": "stdout",
     "output_type": "stream",
     "text": [
      "Segmentation time for image 7695: 0.689429759979248s\n"
     ]
    },
    {
     "name": "stderr",
     "output_type": "stream",
     "text": [
      "Segmentation progress::  73%|████████████████████████████████████████▊               | 246/338 [04:47<01:58,  1.29s/it]"
     ]
    },
    {
     "name": "stdout",
     "output_type": "stream",
     "text": [
      "Segmentation time for image 7696: 0.8444600105285645s\n"
     ]
    },
    {
     "name": "stderr",
     "output_type": "stream",
     "text": [
      "Segmentation progress::  73%|████████████████████████████████████████▉               | 247/338 [04:48<02:00,  1.32s/it]"
     ]
    },
    {
     "name": "stdout",
     "output_type": "stream",
     "text": [
      "Segmentation time for image 7697: 0.7387521266937256s\n"
     ]
    },
    {
     "name": "stderr",
     "output_type": "stream",
     "text": [
      "Segmentation progress::  73%|█████████████████████████████████████████               | 248/338 [04:50<01:57,  1.31s/it]"
     ]
    },
    {
     "name": "stdout",
     "output_type": "stream",
     "text": [
      "Segmentation time for image 7698: 0.8246068954467773s\n"
     ]
    },
    {
     "name": "stderr",
     "output_type": "stream",
     "text": [
      "Segmentation progress::  74%|█████████████████████████████████████████▎              | 249/338 [04:51<01:58,  1.33s/it]"
     ]
    },
    {
     "name": "stdout",
     "output_type": "stream",
     "text": [
      "Segmentation time for image 7699: 0.7764263153076172s\n"
     ]
    },
    {
     "name": "stderr",
     "output_type": "stream",
     "text": [
      "Segmentation progress::  74%|█████████████████████████████████████████▍              | 250/338 [04:53<01:58,  1.34s/it]"
     ]
    },
    {
     "name": "stdout",
     "output_type": "stream",
     "text": [
      "Segmentation time for image 7700: 0.9714646339416504s\n"
     ]
    },
    {
     "name": "stderr",
     "output_type": "stream",
     "text": [
      "Segmentation progress::  74%|█████████████████████████████████████████▌              | 251/338 [04:54<02:01,  1.39s/it]"
     ]
    },
    {
     "name": "stdout",
     "output_type": "stream",
     "text": [
      "Segmentation time for image 7701: 0.8718252182006836s\n"
     ]
    },
    {
     "name": "stderr",
     "output_type": "stream",
     "text": [
      "Segmentation progress::  75%|█████████████████████████████████████████▊              | 252/338 [04:56<02:02,  1.42s/it]"
     ]
    },
    {
     "name": "stdout",
     "output_type": "stream",
     "text": [
      "Segmentation time for image 7702: 0.9777436256408691s\n"
     ]
    },
    {
     "name": "stderr",
     "output_type": "stream",
     "text": [
      "Segmentation progress::  75%|█████████████████████████████████████████▉              | 253/338 [04:57<02:06,  1.49s/it]"
     ]
    },
    {
     "name": "stdout",
     "output_type": "stream",
     "text": [
      "Segmentation time for image 7703: 0.9890031814575195s\n"
     ]
    },
    {
     "name": "stderr",
     "output_type": "stream",
     "text": [
      "Segmentation progress::  75%|██████████████████████████████████████████              | 254/338 [04:59<02:07,  1.52s/it]"
     ]
    },
    {
     "name": "stdout",
     "output_type": "stream",
     "text": [
      "Segmentation time for image 7704: 0.8932480812072754s\n"
     ]
    },
    {
     "name": "stderr",
     "output_type": "stream",
     "text": [
      "Segmentation progress::  75%|██████████████████████████████████████████▏             | 255/338 [05:00<02:04,  1.49s/it]"
     ]
    },
    {
     "name": "stdout",
     "output_type": "stream",
     "text": [
      "Segmentation time for image 7705: 0.7838132381439209s\n"
     ]
    },
    {
     "name": "stderr",
     "output_type": "stream",
     "text": [
      "Segmentation progress::  76%|██████████████████████████████████████████▍             | 256/338 [05:01<01:57,  1.43s/it]"
     ]
    },
    {
     "name": "stdout",
     "output_type": "stream",
     "text": [
      "Segmentation time for image 7706: 0.7303318977355957s\n"
     ]
    },
    {
     "name": "stderr",
     "output_type": "stream",
     "text": [
      "Segmentation progress::  76%|██████████████████████████████████████████▌             | 257/338 [05:03<01:52,  1.38s/it]"
     ]
    },
    {
     "name": "stdout",
     "output_type": "stream",
     "text": [
      "Segmentation time for image 7707: 0.7161591053009033s\n"
     ]
    },
    {
     "name": "stderr",
     "output_type": "stream",
     "text": [
      "Segmentation progress::  76%|██████████████████████████████████████████▋             | 258/338 [05:04<01:47,  1.35s/it]"
     ]
    },
    {
     "name": "stdout",
     "output_type": "stream",
     "text": [
      "Segmentation time for image 7708: 0.7232048511505127s\n"
     ]
    },
    {
     "name": "stderr",
     "output_type": "stream",
     "text": [
      "Segmentation progress::  77%|██████████████████████████████████████████▉             | 259/338 [05:05<01:44,  1.32s/it]"
     ]
    },
    {
     "name": "stdout",
     "output_type": "stream",
     "text": [
      "Segmentation time for image 7709: 0.7351212501525879s\n"
     ]
    },
    {
     "name": "stderr",
     "output_type": "stream",
     "text": [
      "Segmentation progress::  77%|███████████████████████████████████████████             | 260/338 [05:07<01:41,  1.30s/it]"
     ]
    },
    {
     "name": "stdout",
     "output_type": "stream",
     "text": [
      "Segmentation time for image 7710: 0.7316932678222656s\n"
     ]
    },
    {
     "name": "stderr",
     "output_type": "stream",
     "text": [
      "Segmentation progress::  77%|███████████████████████████████████████████▏            | 261/338 [05:08<01:40,  1.30s/it]"
     ]
    },
    {
     "name": "stdout",
     "output_type": "stream",
     "text": [
      "Segmentation time for image 7711: 0.7792279720306396s\n"
     ]
    },
    {
     "name": "stderr",
     "output_type": "stream",
     "text": [
      "Segmentation progress::  78%|███████████████████████████████████████████▍            | 262/338 [05:09<01:39,  1.31s/it]"
     ]
    },
    {
     "name": "stdout",
     "output_type": "stream",
     "text": [
      "Segmentation time for image 7712: 0.8176414966583252s\n"
     ]
    },
    {
     "name": "stderr",
     "output_type": "stream",
     "text": [
      "Segmentation progress::  78%|███████████████████████████████████████████▌            | 263/338 [05:11<01:39,  1.33s/it]"
     ]
    },
    {
     "name": "stdout",
     "output_type": "stream",
     "text": [
      "Segmentation time for image 7713: 0.7741332054138184s\n"
     ]
    },
    {
     "name": "stderr",
     "output_type": "stream",
     "text": [
      "Segmentation progress::  78%|███████████████████████████████████████████▋            | 264/338 [05:12<01:38,  1.33s/it]"
     ]
    },
    {
     "name": "stdout",
     "output_type": "stream",
     "text": [
      "Segmentation time for image 7714: 0.742919921875s\n"
     ]
    },
    {
     "name": "stderr",
     "output_type": "stream",
     "text": [
      "Segmentation progress::  78%|███████████████████████████████████████████▉            | 265/338 [05:13<01:35,  1.30s/it]"
     ]
    },
    {
     "name": "stdout",
     "output_type": "stream",
     "text": [
      "Segmentation time for image 7715: 0.7449069023132324s\n"
     ]
    },
    {
     "name": "stderr",
     "output_type": "stream",
     "text": [
      "Segmentation progress::  79%|████████████████████████████████████████████            | 266/338 [05:14<01:33,  1.29s/it]"
     ]
    },
    {
     "name": "stdout",
     "output_type": "stream",
     "text": [
      "Segmentation time for image 7716: 0.8334751129150391s\n"
     ]
    },
    {
     "name": "stderr",
     "output_type": "stream",
     "text": [
      "Segmentation progress::  79%|████████████████████████████████████████████▏           | 267/338 [05:16<01:33,  1.32s/it]"
     ]
    },
    {
     "name": "stdout",
     "output_type": "stream",
     "text": [
      "Segmentation time for image 7717: 0.7842180728912354s\n"
     ]
    },
    {
     "name": "stderr",
     "output_type": "stream",
     "text": [
      "Segmentation progress::  79%|████████████████████████████████████████████▍           | 268/338 [05:17<01:32,  1.31s/it]"
     ]
    },
    {
     "name": "stdout",
     "output_type": "stream",
     "text": [
      "Segmentation time for image 7718: 0.8066627979278564s\n"
     ]
    },
    {
     "name": "stderr",
     "output_type": "stream",
     "text": [
      "Segmentation progress::  80%|████████████████████████████████████████████▌           | 269/338 [05:18<01:31,  1.32s/it]"
     ]
    },
    {
     "name": "stdout",
     "output_type": "stream",
     "text": [
      "Segmentation time for image 7719: 0.8833045959472656s\n"
     ]
    },
    {
     "name": "stderr",
     "output_type": "stream",
     "text": [
      "Segmentation progress::  80%|████████████████████████████████████████████▋           | 270/338 [05:20<01:32,  1.36s/it]"
     ]
    },
    {
     "name": "stdout",
     "output_type": "stream",
     "text": [
      "Segmentation time for image 7720: 0.8641455173492432s\n"
     ]
    },
    {
     "name": "stderr",
     "output_type": "stream",
     "text": [
      "Segmentation progress::  80%|████████████████████████████████████████████▉           | 271/338 [05:21<01:31,  1.37s/it]"
     ]
    },
    {
     "name": "stdout",
     "output_type": "stream",
     "text": [
      "Segmentation time for image 7721: 0.9367189407348633s\n"
     ]
    },
    {
     "name": "stderr",
     "output_type": "stream",
     "text": [
      "Segmentation progress::  80%|█████████████████████████████████████████████           | 272/338 [05:23<01:34,  1.44s/it]"
     ]
    },
    {
     "name": "stdout",
     "output_type": "stream",
     "text": [
      "Segmentation time for image 7722: 0.961869478225708s\n"
     ]
    },
    {
     "name": "stderr",
     "output_type": "stream",
     "text": [
      "Segmentation progress::  81%|█████████████████████████████████████████████▏          | 273/338 [05:24<01:35,  1.47s/it]"
     ]
    },
    {
     "name": "stdout",
     "output_type": "stream",
     "text": [
      "Segmentation time for image 7723: 0.8631746768951416s\n"
     ]
    },
    {
     "name": "stderr",
     "output_type": "stream",
     "text": [
      "Segmentation progress::  81%|█████████████████████████████████████████████▍          | 274/338 [05:26<01:33,  1.46s/it]"
     ]
    },
    {
     "name": "stdout",
     "output_type": "stream",
     "text": [
      "Segmentation time for image 7724: 0.7020690441131592s\n"
     ]
    },
    {
     "name": "stderr",
     "output_type": "stream",
     "text": [
      "Segmentation progress::  81%|█████████████████████████████████████████████▌          | 275/338 [05:28<01:53,  1.80s/it]"
     ]
    },
    {
     "name": "stdout",
     "output_type": "stream",
     "text": [
      "Segmentation time for image 7725: 0.6448752880096436s\n"
     ]
    },
    {
     "name": "stderr",
     "output_type": "stream",
     "text": [
      "Segmentation progress::  82%|█████████████████████████████████████████████▋          | 276/338 [05:30<01:38,  1.59s/it]"
     ]
    },
    {
     "name": "stdout",
     "output_type": "stream",
     "text": [
      "Segmentation time for image 7726: 0.61189866065979s\n"
     ]
    },
    {
     "name": "stderr",
     "output_type": "stream",
     "text": [
      "Segmentation progress::  82%|█████████████████████████████████████████████▉          | 277/338 [05:31<01:28,  1.44s/it]"
     ]
    },
    {
     "name": "stdout",
     "output_type": "stream",
     "text": [
      "Segmentation time for image 7727: 0.7889938354492188s\n"
     ]
    },
    {
     "name": "stderr",
     "output_type": "stream",
     "text": [
      "Segmentation progress::  82%|██████████████████████████████████████████████          | 278/338 [05:32<01:25,  1.42s/it]"
     ]
    },
    {
     "name": "stdout",
     "output_type": "stream",
     "text": [
      "Segmentation time for image 7728: 0.8823807239532471s\n"
     ]
    },
    {
     "name": "stderr",
     "output_type": "stream",
     "text": [
      "Segmentation progress::  83%|██████████████████████████████████████████████▏         | 279/338 [05:33<01:24,  1.43s/it]"
     ]
    },
    {
     "name": "stdout",
     "output_type": "stream",
     "text": [
      "Segmentation time for image 7729: 0.8266739845275879s\n"
     ]
    },
    {
     "name": "stderr",
     "output_type": "stream",
     "text": [
      "Segmentation progress::  83%|██████████████████████████████████████████████▍         | 280/338 [05:35<01:21,  1.41s/it]"
     ]
    },
    {
     "name": "stdout",
     "output_type": "stream",
     "text": [
      "Segmentation time for image 7730: 0.7334411144256592s\n"
     ]
    },
    {
     "name": "stderr",
     "output_type": "stream",
     "text": [
      "Segmentation progress::  83%|██████████████████████████████████████████████▌         | 281/338 [05:36<01:18,  1.38s/it]"
     ]
    },
    {
     "name": "stdout",
     "output_type": "stream",
     "text": [
      "Segmentation time for image 7731: 0.7971498966217041s\n"
     ]
    },
    {
     "name": "stderr",
     "output_type": "stream",
     "text": [
      "Segmentation progress::  83%|██████████████████████████████████████████████▋         | 282/338 [05:37<01:17,  1.38s/it]"
     ]
    },
    {
     "name": "stdout",
     "output_type": "stream",
     "text": [
      "Segmentation time for image 7732: 0.7145066261291504s\n"
     ]
    },
    {
     "name": "stderr",
     "output_type": "stream",
     "text": [
      "Segmentation progress::  84%|██████████████████████████████████████████████▉         | 283/338 [05:39<01:13,  1.34s/it]"
     ]
    },
    {
     "name": "stdout",
     "output_type": "stream",
     "text": [
      "Segmentation time for image 7733: 0.7377407550811768s\n"
     ]
    },
    {
     "name": "stderr",
     "output_type": "stream",
     "text": [
      "Segmentation progress::  84%|███████████████████████████████████████████████         | 284/338 [05:40<01:11,  1.32s/it]"
     ]
    },
    {
     "name": "stdout",
     "output_type": "stream",
     "text": [
      "Segmentation time for image 7734: 0.8109960556030273s\n"
     ]
    },
    {
     "name": "stderr",
     "output_type": "stream",
     "text": [
      "Segmentation progress::  84%|███████████████████████████████████████████████▏        | 285/338 [05:41<01:09,  1.32s/it]"
     ]
    },
    {
     "name": "stdout",
     "output_type": "stream",
     "text": [
      "Segmentation time for image 7735: 0.745781421661377s\n"
     ]
    },
    {
     "name": "stderr",
     "output_type": "stream",
     "text": [
      "Segmentation progress::  85%|███████████████████████████████████████████████▍        | 286/338 [05:43<01:07,  1.30s/it]"
     ]
    },
    {
     "name": "stdout",
     "output_type": "stream",
     "text": [
      "Segmentation time for image 7736: 0.7299966812133789s\n"
     ]
    },
    {
     "name": "stderr",
     "output_type": "stream",
     "text": [
      "Segmentation progress::  85%|███████████████████████████████████████████████▌        | 287/338 [05:44<01:06,  1.29s/it]"
     ]
    },
    {
     "name": "stdout",
     "output_type": "stream",
     "text": [
      "Segmentation time for image 7737: 0.743828296661377s\n"
     ]
    },
    {
     "name": "stderr",
     "output_type": "stream",
     "text": [
      "Segmentation progress::  85%|███████████████████████████████████████████████▋        | 288/338 [05:45<01:04,  1.29s/it]"
     ]
    },
    {
     "name": "stdout",
     "output_type": "stream",
     "text": [
      "Segmentation time for image 7738: 0.7318539619445801s\n"
     ]
    },
    {
     "name": "stderr",
     "output_type": "stream",
     "text": [
      "Segmentation progress::  86%|███████████████████████████████████████████████▉        | 289/338 [05:46<01:02,  1.29s/it]"
     ]
    },
    {
     "name": "stdout",
     "output_type": "stream",
     "text": [
      "Segmentation time for image 7739: 0.7672595977783203s\n"
     ]
    },
    {
     "name": "stderr",
     "output_type": "stream",
     "text": [
      "Segmentation progress::  86%|████████████████████████████████████████████████        | 290/338 [05:48<01:01,  1.29s/it]"
     ]
    },
    {
     "name": "stdout",
     "output_type": "stream",
     "text": [
      "Segmentation time for image 7740: 0.8096785545349121s\n"
     ]
    },
    {
     "name": "stderr",
     "output_type": "stream",
     "text": [
      "Segmentation progress::  86%|████████████████████████████████████████████████▏       | 291/338 [05:49<01:01,  1.31s/it]"
     ]
    },
    {
     "name": "stdout",
     "output_type": "stream",
     "text": [
      "Segmentation time for image 7741: 0.7453792095184326s\n"
     ]
    },
    {
     "name": "stderr",
     "output_type": "stream",
     "text": [
      "Segmentation progress::  86%|████████████████████████████████████████████████▍       | 292/338 [05:50<00:59,  1.30s/it]"
     ]
    },
    {
     "name": "stdout",
     "output_type": "stream",
     "text": [
      "Segmentation time for image 7742: 0.7781260013580322s\n"
     ]
    },
    {
     "name": "stderr",
     "output_type": "stream",
     "text": [
      "Segmentation progress::  87%|████████████████████████████████████████████████▌       | 293/338 [05:52<00:58,  1.31s/it]"
     ]
    },
    {
     "name": "stdout",
     "output_type": "stream",
     "text": [
      "Segmentation time for image 7743: 0.8080911636352539s\n"
     ]
    },
    {
     "name": "stderr",
     "output_type": "stream",
     "text": [
      "Segmentation progress::  87%|████████████████████████████████████████████████▋       | 294/338 [05:53<00:58,  1.32s/it]"
     ]
    },
    {
     "name": "stdout",
     "output_type": "stream",
     "text": [
      "Segmentation time for image 7744: 0.752690315246582s\n"
     ]
    },
    {
     "name": "stderr",
     "output_type": "stream",
     "text": [
      "Segmentation progress::  87%|████████████████████████████████████████████████▉       | 295/338 [05:54<00:56,  1.31s/it]"
     ]
    },
    {
     "name": "stdout",
     "output_type": "stream",
     "text": [
      "Segmentation time for image 7745: 0.7358362674713135s\n"
     ]
    },
    {
     "name": "stderr",
     "output_type": "stream",
     "text": [
      "Segmentation progress::  88%|█████████████████████████████████████████████████       | 296/338 [05:56<00:54,  1.30s/it]"
     ]
    },
    {
     "name": "stdout",
     "output_type": "stream",
     "text": [
      "Segmentation time for image 7746: 0.7410242557525635s\n"
     ]
    },
    {
     "name": "stderr",
     "output_type": "stream",
     "text": [
      "Segmentation progress::  88%|█████████████████████████████████████████████████▏      | 297/338 [05:57<00:54,  1.32s/it]"
     ]
    },
    {
     "name": "stdout",
     "output_type": "stream",
     "text": [
      "Segmentation time for image 7747: 0.761232852935791s\n"
     ]
    },
    {
     "name": "stderr",
     "output_type": "stream",
     "text": [
      "Segmentation progress::  88%|█████████████████████████████████████████████████▎      | 298/338 [05:58<00:52,  1.32s/it]"
     ]
    },
    {
     "name": "stdout",
     "output_type": "stream",
     "text": [
      "Segmentation time for image 7748: 0.7576398849487305s\n"
     ]
    },
    {
     "name": "stderr",
     "output_type": "stream",
     "text": [
      "Segmentation progress::  88%|█████████████████████████████████████████████████▌      | 299/338 [06:00<00:50,  1.30s/it]"
     ]
    },
    {
     "name": "stdout",
     "output_type": "stream",
     "text": [
      "Segmentation time for image 7749: 0.7088203430175781s\n"
     ]
    },
    {
     "name": "stderr",
     "output_type": "stream",
     "text": [
      "Segmentation progress::  89%|█████████████████████████████████████████████████▋      | 300/338 [06:01<00:49,  1.30s/it]"
     ]
    },
    {
     "name": "stdout",
     "output_type": "stream",
     "text": [
      "Segmentation time for image 7750: 0.7611699104309082s\n"
     ]
    },
    {
     "name": "stderr",
     "output_type": "stream",
     "text": [
      "Segmentation progress::  89%|█████████████████████████████████████████████████▊      | 301/338 [06:02<00:48,  1.30s/it]"
     ]
    },
    {
     "name": "stdout",
     "output_type": "stream",
     "text": [
      "Segmentation time for image 7751: 0.7651195526123047s\n"
     ]
    },
    {
     "name": "stderr",
     "output_type": "stream",
     "text": [
      "Segmentation progress::  89%|██████████████████████████████████████████████████      | 302/338 [06:03<00:47,  1.31s/it]"
     ]
    },
    {
     "name": "stdout",
     "output_type": "stream",
     "text": [
      "Segmentation time for image 7752: 0.7649896144866943s\n"
     ]
    },
    {
     "name": "stderr",
     "output_type": "stream",
     "text": [
      "Segmentation progress::  90%|██████████████████████████████████████████████████▏     | 303/338 [06:05<00:45,  1.30s/it]"
     ]
    },
    {
     "name": "stdout",
     "output_type": "stream",
     "text": [
      "Segmentation time for image 7753: 0.9152374267578125s\n"
     ]
    },
    {
     "name": "stderr",
     "output_type": "stream",
     "text": [
      "Segmentation progress::  90%|██████████████████████████████████████████████████▎     | 304/338 [06:06<00:47,  1.38s/it]"
     ]
    },
    {
     "name": "stdout",
     "output_type": "stream",
     "text": [
      "Segmentation time for image 7754: 0.9427895545959473s\n"
     ]
    },
    {
     "name": "stderr",
     "output_type": "stream",
     "text": [
      "Segmentation progress::  90%|██████████████████████████████████████████████████▌     | 305/338 [06:08<00:47,  1.43s/it]"
     ]
    },
    {
     "name": "stdout",
     "output_type": "stream",
     "text": [
      "Segmentation time for image 7755: 0.8959743976593018s\n"
     ]
    },
    {
     "name": "stderr",
     "output_type": "stream",
     "text": [
      "Segmentation progress::  91%|██████████████████████████████████████████████████▋     | 306/338 [06:09<00:46,  1.44s/it]"
     ]
    },
    {
     "name": "stdout",
     "output_type": "stream",
     "text": [
      "Segmentation time for image 7756: 0.8654325008392334s\n"
     ]
    },
    {
     "name": "stderr",
     "output_type": "stream",
     "text": [
      "Segmentation progress::  91%|██████████████████████████████████████████████████▊     | 307/338 [06:11<00:45,  1.45s/it]"
     ]
    },
    {
     "name": "stdout",
     "output_type": "stream",
     "text": [
      "Segmentation time for image 7757: 0.8506889343261719s\n"
     ]
    },
    {
     "name": "stderr",
     "output_type": "stream",
     "text": [
      "Segmentation progress::  91%|███████████████████████████████████████████████████     | 308/338 [06:12<00:43,  1.44s/it]"
     ]
    },
    {
     "name": "stdout",
     "output_type": "stream",
     "text": [
      "Segmentation time for image 7758: 0.7966961860656738s\n"
     ]
    },
    {
     "name": "stderr",
     "output_type": "stream",
     "text": [
      "Segmentation progress::  91%|███████████████████████████████████████████████████▏    | 309/338 [06:14<00:40,  1.41s/it]"
     ]
    },
    {
     "name": "stdout",
     "output_type": "stream",
     "text": [
      "Segmentation time for image 7759: 0.7737236022949219s\n"
     ]
    },
    {
     "name": "stderr",
     "output_type": "stream",
     "text": [
      "Segmentation progress::  92%|███████████████████████████████████████████████████▎    | 310/338 [06:15<00:38,  1.38s/it]"
     ]
    },
    {
     "name": "stdout",
     "output_type": "stream",
     "text": [
      "Segmentation time for image 7760: 0.6990530490875244s\n"
     ]
    },
    {
     "name": "stderr",
     "output_type": "stream",
     "text": [
      "Segmentation progress::  92%|███████████████████████████████████████████████████▌    | 311/338 [06:16<00:36,  1.34s/it]"
     ]
    },
    {
     "name": "stdout",
     "output_type": "stream",
     "text": [
      "Segmentation time for image 7761: 0.7109696865081787s\n"
     ]
    },
    {
     "name": "stderr",
     "output_type": "stream",
     "text": [
      "Segmentation progress::  92%|███████████████████████████████████████████████████▋    | 312/338 [06:17<00:34,  1.31s/it]"
     ]
    },
    {
     "name": "stdout",
     "output_type": "stream",
     "text": [
      "Segmentation time for image 7762: 0.720435380935669s\n"
     ]
    },
    {
     "name": "stderr",
     "output_type": "stream",
     "text": [
      "Segmentation progress::  93%|███████████████████████████████████████████████████▊    | 313/338 [06:19<00:32,  1.28s/it]"
     ]
    },
    {
     "name": "stdout",
     "output_type": "stream",
     "text": [
      "Segmentation time for image 7763: 0.6799936294555664s\n"
     ]
    },
    {
     "name": "stderr",
     "output_type": "stream",
     "text": [
      "Segmentation progress::  93%|████████████████████████████████████████████████████    | 314/338 [06:20<00:30,  1.25s/it]"
     ]
    },
    {
     "name": "stdout",
     "output_type": "stream",
     "text": [
      "Segmentation time for image 7764: 0.7158546447753906s\n"
     ]
    },
    {
     "name": "stderr",
     "output_type": "stream",
     "text": [
      "Segmentation progress::  93%|████████████████████████████████████████████████████▏   | 315/338 [06:21<00:28,  1.23s/it]"
     ]
    },
    {
     "name": "stdout",
     "output_type": "stream",
     "text": [
      "Segmentation time for image 7765: 0.7129836082458496s\n"
     ]
    },
    {
     "name": "stderr",
     "output_type": "stream",
     "text": [
      "Segmentation progress::  93%|████████████████████████████████████████████████████▎   | 316/338 [06:22<00:26,  1.23s/it]"
     ]
    },
    {
     "name": "stdout",
     "output_type": "stream",
     "text": [
      "Segmentation time for image 7766: 0.7514650821685791s\n"
     ]
    },
    {
     "name": "stderr",
     "output_type": "stream",
     "text": [
      "Segmentation progress::  94%|████████████████████████████████████████████████████▌   | 317/338 [06:23<00:25,  1.23s/it]"
     ]
    },
    {
     "name": "stdout",
     "output_type": "stream",
     "text": [
      "Segmentation time for image 7767: 0.6539735794067383s\n"
     ]
    },
    {
     "name": "stderr",
     "output_type": "stream",
     "text": [
      "Segmentation progress::  94%|████████████████████████████████████████████████████▋   | 318/338 [06:25<00:24,  1.21s/it]"
     ]
    },
    {
     "name": "stdout",
     "output_type": "stream",
     "text": [
      "Segmentation time for image 7768: 0.6880407333374023s\n"
     ]
    },
    {
     "name": "stderr",
     "output_type": "stream",
     "text": [
      "Segmentation progress::  94%|████████████████████████████████████████████████████▊   | 319/338 [06:28<00:32,  1.73s/it]"
     ]
    },
    {
     "name": "stdout",
     "output_type": "stream",
     "text": [
      "Segmentation time for image 7769: 0.508324384689331s\n"
     ]
    },
    {
     "name": "stderr",
     "output_type": "stream",
     "text": [
      "Segmentation progress::  95%|█████████████████████████████████████████████████████   | 320/338 [06:28<00:27,  1.50s/it]"
     ]
    },
    {
     "name": "stdout",
     "output_type": "stream",
     "text": [
      "Segmentation time for image 7770: 0.5903754234313965s\n"
     ]
    },
    {
     "name": "stderr",
     "output_type": "stream",
     "text": [
      "Segmentation progress::  95%|█████████████████████████████████████████████████████▏  | 321/338 [06:30<00:23,  1.37s/it]"
     ]
    },
    {
     "name": "stdout",
     "output_type": "stream",
     "text": [
      "Segmentation time for image 7771: 0.8053109645843506s\n"
     ]
    },
    {
     "name": "stderr",
     "output_type": "stream",
     "text": [
      "Segmentation progress::  95%|█████████████████████████████████████████████████████▎  | 322/338 [06:31<00:21,  1.36s/it]"
     ]
    },
    {
     "name": "stdout",
     "output_type": "stream",
     "text": [
      "Segmentation time for image 7772: 0.8464405536651611s\n"
     ]
    },
    {
     "name": "stderr",
     "output_type": "stream",
     "text": [
      "Segmentation progress::  96%|█████████████████████████████████████████████████████▌  | 323/338 [06:32<00:20,  1.37s/it]"
     ]
    },
    {
     "name": "stdout",
     "output_type": "stream",
     "text": [
      "Segmentation time for image 7773: 0.876884937286377s\n"
     ]
    },
    {
     "name": "stderr",
     "output_type": "stream",
     "text": [
      "Segmentation progress::  96%|█████████████████████████████████████████████████████▋  | 324/338 [06:34<00:19,  1.38s/it]"
     ]
    },
    {
     "name": "stdout",
     "output_type": "stream",
     "text": [
      "Segmentation time for image 7774: 0.7662696838378906s\n"
     ]
    },
    {
     "name": "stderr",
     "output_type": "stream",
     "text": [
      "Segmentation progress::  96%|█████████████████████████████████████████████████████▊  | 325/338 [06:35<00:17,  1.36s/it]"
     ]
    },
    {
     "name": "stdout",
     "output_type": "stream",
     "text": [
      "Segmentation time for image 7775: 0.8291566371917725s\n"
     ]
    },
    {
     "name": "stderr",
     "output_type": "stream",
     "text": [
      "Segmentation progress::  96%|██████████████████████████████████████████████████████  | 326/338 [06:37<00:17,  1.43s/it]"
     ]
    },
    {
     "name": "stdout",
     "output_type": "stream",
     "text": [
      "Segmentation time for image 7776: 1.3906707763671875s\n"
     ]
    },
    {
     "name": "stderr",
     "output_type": "stream",
     "text": [
      "Segmentation progress::  97%|██████████████████████████████████████████████████████▏ | 327/338 [06:39<00:18,  1.66s/it]"
     ]
    },
    {
     "name": "stdout",
     "output_type": "stream",
     "text": [
      "Segmentation time for image 7777: 1.213681697845459s\n"
     ]
    },
    {
     "name": "stderr",
     "output_type": "stream",
     "text": [
      "Segmentation progress::  97%|██████████████████████████████████████████████████████▎ | 328/338 [06:41<00:17,  1.71s/it]"
     ]
    },
    {
     "name": "stdout",
     "output_type": "stream",
     "text": [
      "Segmentation time for image 7778: 0.960613489151001s\n"
     ]
    },
    {
     "name": "stderr",
     "output_type": "stream",
     "text": [
      "Segmentation progress::  97%|██████████████████████████████████████████████████████▌ | 329/338 [06:42<00:15,  1.67s/it]"
     ]
    },
    {
     "name": "stdout",
     "output_type": "stream",
     "text": [
      "Segmentation time for image 7779: 1.2898714542388916s\n"
     ]
    },
    {
     "name": "stderr",
     "output_type": "stream",
     "text": [
      "Segmentation progress::  98%|██████████████████████████████████████████████████████▋ | 330/338 [06:44<00:14,  1.85s/it]"
     ]
    },
    {
     "name": "stdout",
     "output_type": "stream",
     "text": [
      "Segmentation time for image 7780: 1.29610276222229s\n"
     ]
    },
    {
     "name": "stderr",
     "output_type": "stream",
     "text": [
      "Segmentation progress::  98%|██████████████████████████████████████████████████████▊ | 331/338 [06:46<00:13,  1.88s/it]"
     ]
    },
    {
     "name": "stdout",
     "output_type": "stream",
     "text": [
      "Segmentation time for image 7781: 1.207270622253418s\n"
     ]
    },
    {
     "name": "stderr",
     "output_type": "stream",
     "text": [
      "Segmentation progress::  98%|███████████████████████████████████████████████████████ | 332/338 [06:48<00:11,  1.87s/it]"
     ]
    },
    {
     "name": "stdout",
     "output_type": "stream",
     "text": [
      "Segmentation time for image 7782: 0.8014249801635742s\n"
     ]
    },
    {
     "name": "stderr",
     "output_type": "stream",
     "text": [
      "Segmentation progress::  99%|███████████████████████████████████████████████████████▏| 333/338 [06:50<00:08,  1.75s/it]"
     ]
    },
    {
     "name": "stdout",
     "output_type": "stream",
     "text": [
      "Segmentation time for image 7783: 1.0694255828857422s\n"
     ]
    },
    {
     "name": "stderr",
     "output_type": "stream",
     "text": [
      "Segmentation progress::  99%|███████████████████████████████████████████████████████▎| 334/338 [06:51<00:06,  1.71s/it]"
     ]
    },
    {
     "name": "stdout",
     "output_type": "stream",
     "text": [
      "Segmentation time for image 7784: 0.9100871086120605s\n"
     ]
    },
    {
     "name": "stderr",
     "output_type": "stream",
     "text": [
      "Segmentation progress::  99%|███████████████████████████████████████████████████████▌| 335/338 [06:53<00:04,  1.65s/it]"
     ]
    },
    {
     "name": "stdout",
     "output_type": "stream",
     "text": [
      "Segmentation time for image 7785: 0.879993200302124s\n"
     ]
    },
    {
     "name": "stderr",
     "output_type": "stream",
     "text": [
      "Segmentation progress::  99%|███████████████████████████████████████████████████████▋| 336/338 [06:54<00:03,  1.57s/it]"
     ]
    },
    {
     "name": "stdout",
     "output_type": "stream",
     "text": [
      "Segmentation time for image 7786: 0.8744468688964844s\n"
     ]
    },
    {
     "name": "stderr",
     "output_type": "stream",
     "text": [
      "Segmentation progress:: 100%|███████████████████████████████████████████████████████▊| 337/338 [06:56<00:01,  1.54s/it]"
     ]
    },
    {
     "name": "stdout",
     "output_type": "stream",
     "text": [
      "Segmentation time for image 7787: 0.9694254398345947s\n"
     ]
    },
    {
     "name": "stderr",
     "output_type": "stream",
     "text": [
      "Segmentation progress:: 100%|████████████████████████████████████████████████████████| 338/338 [06:57<00:00,  1.24s/it]"
     ]
    },
    {
     "name": "stdout",
     "output_type": "stream",
     "text": [
      "Total segmentation time for all images: 237.22803950309753s\n",
      "Expected total time for segmenting all images: 5466.070922041786s\n"
     ]
    },
    {
     "name": "stderr",
     "output_type": "stream",
     "text": [
      "\n"
     ]
    }
   ],
   "source": [
    "import time\n",
    "from tqdm import tqdm\n",
    "import numpy as np\n",
    "from skimage.measure import label, regionprops\n",
    "from skimage.filters import threshold_otsu, threshold_local\n",
    "from skimage.morphology import closing, square\n",
    "\n",
    "chans = [0,0]  # this means segment based on first channel, no second channel\n",
    "\n",
    "#n=[] # make a list of integers to select which images you want to segment\n",
    "n = range(nimg) # or just segment them all \n",
    "\n",
    "# Parameters for segmentation\n",
    "params = {'channels':chans, # always define this with the model\n",
    "          'rescale': None, #rescaling_factor, # upscale or downscale your images, None = no rescaling \n",
    "          'mask_threshold': 3.5, # erode or dilate masks with higher or lower values \n",
    "          'flow_threshold': 0.85, # default is .4, but only needed if there are spurious masks to clean up; slows down output\n",
    "          'transparency': True, # transparency in flow output\n",
    "          'omni': True, # we can turn off Omnipose mask reconstruction, not advised \n",
    "          'cluster': True, # use DBSCAN clustering\n",
    "          'resample': True, # whether or not to run dynamics on rescaled grid or original grid \n",
    "          #'verbose': False, # turn on if you want to see more output \n",
    "          'tile': False, # average the outputs from flipped (augmented) images; slower, usually not needed \n",
    "          'niter': None, # None lets Omnipose calculate # of Euler iterations (usually <20) but you can tune it for over/under segmentation \n",
    "          'augment': False, # Can optionally rotate the image and average outputs, usually not needed \n",
    "          'affinity_seg': True, # new feature, stay tuned...\n",
    "          'diameter': 60 # Default diameter\n",
    "\n",
    "}\n",
    "\n",
    "\n",
    "\n",
    "total_segmentation_time = 0\n",
    "\n",
    "# Loop through each image, segment and save\n",
    "for i in tqdm(n, 'Segmentation progress:'):\n",
    "    tic = time.time()  # Start time for this iteration\n",
    "\n",
    "    # Perform segmentation on the i-th image\n",
    "    mask, flow, style = model.eval(imgs[i], **params)\n",
    "\n",
    "    # Calculate segmentation time for this image\n",
    "    seg_time = time.time() - tic\n",
    "    total_segmentation_time += seg_time\n",
    "    print(f'Segmentation time for image {i}: {seg_time}s')\n",
    "\n",
    "    # Define the file path for saving the results\n",
    "    file_path = files[i]\n",
    "\n",
    "    # Save the masks for the i-th image\n",
    "    io.save_masks([imgs[i]], [mask], [flow], [file_path],\n",
    "                  png=True, tif=True, suffix='',\n",
    "                  save_flows=False, save_outlines=True,\n",
    "                  dir_above=0, in_folders=True,\n",
    "                  save_txt=True, save_ncolor=False)\n",
    "\n",
    "print(f'Total segmentation time for all images: {total_segmentation_time}s')\n",
    "\n",
    "average_time_per_image = total_segmentation_time / len(n)\n",
    "expected_total_time = average_time_per_image * len(imgs)\n",
    "print(f'Expected total time for segmenting all images: {expected_total_time}s')\n"
   ]
  },
  {
   "cell_type": "code",
   "execution_count": 7,
   "id": "fc23f7dc-3881-43b6-b00e-7071b5510ecf",
   "metadata": {},
   "outputs": [
    {
     "name": "stderr",
     "output_type": "stream",
     "text": [
      "Creating video CellB_GFP_masks_video_png.avi: 100%|███████████████████████████████| 7788/7788 [00:52<00:00, 147.89it/s]\n",
      "Creating video CellB_GFP_masks_video_tif.avi: 100%|███████████████████████████████| 7788/7788 [00:54<00:00, 143.12it/s]\n",
      "Creating video CellB_GFP_cp_output_video.avi: 100%|████████████████████████████████| 7788/7788 [11:28<00:00, 11.32it/s]\n",
      "Creating video CellB_GFP_outlines_video.avi: 100%|████████████████████████████████| 7788/7788 [01:01<00:00, 127.35it/s]\n"
     ]
    }
   ],
   "source": [
    "import cv2\n",
    "import os\n",
    "from natsort import natsorted\n",
    "from tqdm import tqdm\n",
    "from pathlib import Path\n",
    "\n",
    "def create_video_from_images(image_folder, output_video_folder, output_video_file, fps=1, extension='.png'):\n",
    "    # Get all image paths with the specified extension and sort them\n",
    "    image_paths = natsorted(\n",
    "        [os.path.join(image_folder, img) for img in os.listdir(image_folder) if img.endswith(extension)]\n",
    "    )\n",
    "\n",
    "    # Check if we have any images to process\n",
    "    if not image_paths:\n",
    "        print(f\"No images with extension {extension} found in {image_folder}.\")\n",
    "        return\n",
    "\n",
    "    # Full path for the output video file\n",
    "    full_output_path = os.path.join(output_video_folder, output_video_file)\n",
    "\n",
    "    # Read the first image to determine the size\n",
    "    frame = cv2.imread(image_paths[0])\n",
    "    height, width, layers = frame.shape\n",
    "\n",
    "    # Define the codec for AVI format\n",
    "    fourcc = cv2.VideoWriter_fourcc('M','J','P','G')\n",
    "\n",
    "    # Create VideoWriter object\n",
    "    video = cv2.VideoWriter(full_output_path, fourcc, fps, (width, height), isColor=True)\n",
    "\n",
    "    # Iterate over each image and add it to the video\n",
    "    for image_path in tqdm(image_paths, desc=f'Creating video {output_video_file}'):\n",
    "        video.write(cv2.imread(image_path))\n",
    "\n",
    "    # Release the video writer\n",
    "    video.release()\n",
    "\n",
    "def create_masks_video_from_images(image_folder, output_video_folder, output_video_file, fps=1, extension='.png'):\n",
    "    # Get all image paths with the specified extension and sort them\n",
    "    image_paths = natsorted(\n",
    "        [os.path.join(image_folder, img) for img in os.listdir(image_folder) if img.endswith(extension)]\n",
    "    )\n",
    "\n",
    "    # Check if we have any images to process\n",
    "    if not image_paths:\n",
    "        print(f\"No images with extension {extension} found in {image_folder}.\")\n",
    "        return\n",
    "\n",
    "    # Full path for the output video file\n",
    "    full_output_path = os.path.join(output_video_folder, output_video_file)\n",
    "\n",
    "    # Read the first image to determine the size\n",
    "    frame = cv2.imread(image_paths[0])\n",
    "    height, width, layers = frame.shape\n",
    "\n",
    "    # Define the codec for AVI format\n",
    "    fourcc = cv2.VideoWriter_fourcc(*'DIVX')\n",
    "\n",
    "    # Create VideoWriter object\n",
    "    video = cv2.VideoWriter(full_output_path, fourcc, fps, (width, height), isColor=True)\n",
    "\n",
    "\n",
    "    # Iterate over each image and add it to the video\n",
    "    for image_path in tqdm(image_paths, desc=f'Creating video {output_video_file}'):\n",
    "        imread=cv2.imread(image_path)\n",
    "        imread = np.where(imread > 0, 255, imread)\n",
    "        video.write(imread)\n",
    "\n",
    "    # Release the video writer\n",
    "    video.release()\n",
    "\n",
    "# Define the directories for masks, cp_output, and outlines\n",
    "masks_dir = base_mask_dir / 'masks'\n",
    "cp_output_dir = base_mask_dir / 'cp_output'\n",
    "outlines_dir = base_mask_dir / 'outlines'\n",
    "\n",
    "video_output_dir = base_mask_dir.parent / video_name\n",
    "\n",
    "\n",
    "# Create the output video file names using the video_name\n",
    "output_video_name_png = f\"{video_name}_masks_video_png.avi\"\n",
    "output_video_name_tif = f\"{video_name}_masks_video_tif.avi\"\n",
    "output_cp_output_name = f\"{video_name}_cp_output_video.avi\"\n",
    "output_outlines_name = f\"{video_name}_outlines_video.avi\"\n",
    "\n",
    "# Create videos in the video_output_dir directory\n",
    "create_masks_video_from_images(masks_dir, video_output_dir, output_video_name_png, fps=1, extension='.png')\n",
    "create_masks_video_from_images(masks_dir, video_output_dir, output_video_name_tif, fps=1, extension='.tif')\n",
    "create_video_from_images(cp_output_dir, video_output_dir, output_cp_output_name, fps=1, extension='.png')\n",
    "create_video_from_images(outlines_dir, video_output_dir, output_outlines_name, fps=1, extension='.png')"
   ]
  },
  {
   "cell_type": "code",
   "execution_count": null,
   "id": "9e78d9bb-2f96-4dd2-9375-aeda9cffc56e",
   "metadata": {},
   "outputs": [],
   "source": []
  },
  {
   "cell_type": "code",
   "execution_count": null,
   "id": "0ba90a8e-e82a-4cc5-80e6-76f8470014b9",
   "metadata": {},
   "outputs": [],
   "source": []
  }
 ],
 "metadata": {
  "keep_output": true,
  "kernelspec": {
   "display_name": "Python 3 (ipykernel)",
   "language": "python",
   "name": "python3"
  },
  "language_info": {
   "codemirror_mode": {
    "name": "ipython",
    "version": 3
   },
   "file_extension": ".py",
   "mimetype": "text/x-python",
   "name": "python",
   "nbconvert_exporter": "python",
   "pygments_lexer": "ipython3",
   "version": "3.10.12"
  }
 },
 "nbformat": 4,
 "nbformat_minor": 5
}
