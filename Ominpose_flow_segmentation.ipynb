{
 "cells": [
  {
   "cell_type": "markdown",
   "id": "7c44b8da-5cb6-463f-b275-0be5085026fa",
   "metadata": {},
   "source": [
    "2D Omnipose segmentation\n",
    "============================\n",
    "\n",
    "Before running this notebook, install the latest version of Omnipose from GitHub. This automatically installs our Cellpose fork. "
   ]
  },
  {
   "cell_type": "code",
   "execution_count": 1,
   "id": "281bf04d-fcc3-4f83-acc0-2476c9ebe310",
   "metadata": {
    "tags": [
     "remove-output",
     "remove-cell"
    ]
   },
   "outputs": [],
   "source": [
    "# make local editable packages automatically reload\n",
    "%load_ext autoreload\n",
    "%autoreload 2"
   ]
  },
  {
   "cell_type": "code",
   "execution_count": 2,
   "id": "df70baa5-f9e8-47cc-a419-ff637a925f33",
   "metadata": {
    "tags": []
   },
   "outputs": [
    {
     "name": "stdout",
     "output_type": "stream",
     "text": [
      "2023-11-30 13:22:23,719 [INFO] TORCH GPU version not installed/working.\n",
      ">>> GPU activated? False\n"
     ]
    },
    {
     "name": "stderr",
     "output_type": "stream",
     "text": [
      "C:\\Users\\Giona\\anaconda3\\envs\\omnipose\\lib\\site-packages\\tqdm\\auto.py:21: TqdmWarning: IProgress not found. Please update jupyter and ipywidgets. See https://ipywidgets.readthedocs.io/en/stable/user_install.html\n",
      "  from .autonotebook import tqdm as notebook_tqdm\n"
     ]
    }
   ],
   "source": [
    "# Import dependencies\n",
    "import numpy as np\n",
    "from cellpose_omni import models, core\n",
    "\n",
    "# This checks to see if you have set up your GPU properly.\n",
    "# CPU performance is a lot slower, but not a problem if you \n",
    "# are only processing a few images.\n",
    "use_GPU = core.use_gpu()\n",
    "print('>>> GPU activated? {}'.format(use_GPU))\n",
    "\n",
    "# for plotting\n",
    "import matplotlib as mpl\n",
    "import matplotlib.pyplot as plt\n",
    "mpl.rcParams['figure.dpi'] = 300\n",
    "plt.style.use('dark_background')\n",
    "%matplotlib inline"
   ]
  },
  {
   "cell_type": "code",
   "execution_count": 43,
   "id": "1452d605-54d0-417e-a720-33436e319231",
   "metadata": {
    "tags": []
   },
   "outputs": [],
   "source": [
    "from pathlib import Path\n",
    "import os\n",
    "from cellpose_omni import io\n",
    "import omnipose\n",
    "import imageio\n",
    "\n",
    "# Set the path to the desired folder\n",
    "#basedir = 'CellA_ShME480'\n",
    "\n",
    "# Get the list of image files from the folder\n",
    "#files = io.get_image_files(basedir)\n",
    "\n",
    "# Now that we're in the correct directory, we can use the relative path\n",
    "video_path = 'CellA_ShME480.avi'\n",
    "\n",
    "# Create a reader to read the video file\n",
    "reader = imageio.get_reader(video_path, 'ffmpeg')\n",
    "\n",
    "# Read all frames in a list\n",
    "frames = [im for im in reader]\n",
    "\n",
    "# Prepare file paths for saving the segmentation masks\n",
    "mask_dir = Path('C:/Users/Giona/ME-480/Progetto 2/masks')  # Directory to save masks\n",
    "if not mask_dir.exists():\n",
    "    mask_dir.mkdir(parents=True, exist_ok=True)\n",
    "\n",
    "# Generate file paths for each frame\n",
    "files = [mask_dir / f\"frame_{i:04d}.tif\" for i in range(len(frames))]"
   ]
  },
  {
   "cell_type": "code",
   "execution_count": 44,
   "id": "acf5d498-933a-45bf-82c9-df7c4a735cd5",
   "metadata": {},
   "outputs": [
    {
     "name": "stdout",
     "output_type": "stream",
     "text": [
      "\n",
      "number of images: 4852\n"
     ]
    }
   ],
   "source": [
    "from cellpose_omni import io, transforms\n",
    "from omnipose.utils import normalize99\n",
    "import numpy as np\n",
    "import cv2\n",
    "\n",
    "# Assuming 'frames' contains the frames extracted from the video file\n",
    "imgs = []\n",
    "for frame in frames:\n",
    "    # Convert BGR to grayscale if your frames are in color\n",
    "    # If your frames are already grayscale, you can skip this conversion\n",
    "    if len(frame.shape) == 3:  # Check if the frame is colored\n",
    "        frame_gray = cv2.cvtColor(frame, cv2.COLOR_BGR2GRAY)\n",
    "    else:\n",
    "        frame_gray = frame  # If the frame is already in grayscale\n",
    "\n",
    "    # Normalize and preprocess the frame\n",
    "    frame_processed = normalize99(frame_gray)\n",
    "    #frame_processed = np.pad(frame_processed, 10, 'constant', constant_values=0)  # Pad with zeros\n",
    "\n",
    "    imgs.append(frame_processed)\n",
    "\n",
    "nimg = len(imgs)\n",
    "print('\\nnumber of images:', nimg)"
   ]
  },
  {
   "cell_type": "markdown",
   "id": "f635d57e-72e7-415b-aea5-73990f9450e2",
   "metadata": {},
   "source": [
    "## Initialize model\n",
    "Here we use one of the built-in model names. We will choose the `bact_phase_omni` model. "
   ]
  },
  {
   "cell_type": "code",
   "execution_count": 151,
   "id": "33f645d6-c2cc-45bb-80da-22efa8cb4901",
   "metadata": {
    "tags": []
   },
   "outputs": [
    {
     "name": "stdout",
     "output_type": "stream",
     "text": [
      "['bact_phase_omni', 'bact_fluor_omni', 'worm_omni', 'worm_bact_omni', 'worm_high_res_omni', 'cyto2_omni', 'plant_omni', 'bact_phase_cp', 'bact_fluor_cp', 'plant_cp', 'worm_cp', 'cyto', 'nuclei', 'cyto2']\n",
      "2023-11-30 15:39:52,604 [INFO] >>cyto2<< model set to be used\n",
      "2023-11-30 15:39:52,605 [INFO] >>>> using CPU\n"
     ]
    }
   ],
   "source": [
    "from cellpose_omni import models\n",
    "from cellpose_omni.models import MODEL_NAMES\n",
    "\n",
    "model_name = 'cyto2'\n",
    "model = models.CellposeModel(gpu=use_GPU, model_type=model_name)"
   ]
  },
  {
   "cell_type": "markdown",
   "id": "469856ad-65c8-4ba7-b371-e2661516c413",
   "metadata": {},
   "source": [
    "## Run segmentation "
   ]
  },
  {
   "cell_type": "code",
   "execution_count": null,
   "id": "a382c604-9a23-4f74-b090-a54c64d252bf",
   "metadata": {
    "scrolled": true,
    "tags": []
   },
   "outputs": [
    {
     "name": "stderr",
     "output_type": "stream",
     "text": [
      "Segmentation progress::   0%|                                                                 | 0/4852 [00:00<?, ?it/s]"
     ]
    },
    {
     "name": "stdout",
     "output_type": "stream",
     "text": [
      "Segmentation time for image 0: 0.9770810604095459s\n"
     ]
    },
    {
     "name": "stderr",
     "output_type": "stream",
     "text": [
      "Segmentation progress::   0%|                                                       | 1/4852 [00:01<2:13:49,  1.66s/it]"
     ]
    },
    {
     "name": "stdout",
     "output_type": "stream",
     "text": [
      "Segmentation time for image 1: 0.9999620914459229s\n"
     ]
    },
    {
     "name": "stderr",
     "output_type": "stream",
     "text": [
      "Segmentation progress::   0%|                                                       | 2/4852 [00:03<2:15:25,  1.68s/it]"
     ]
    },
    {
     "name": "stdout",
     "output_type": "stream",
     "text": [
      "Segmentation time for image 2: 1.1617071628570557s\n"
     ]
    },
    {
     "name": "stderr",
     "output_type": "stream",
     "text": [
      "Segmentation progress::   0%|                                                       | 3/4852 [00:05<2:20:05,  1.73s/it]"
     ]
    },
    {
     "name": "stdout",
     "output_type": "stream",
     "text": [
      "Segmentation time for image 3: 1.0649909973144531s\n"
     ]
    },
    {
     "name": "stderr",
     "output_type": "stream",
     "text": [
      "Segmentation progress::   0%|                                                       | 4/4852 [00:06<2:21:42,  1.75s/it]"
     ]
    },
    {
     "name": "stdout",
     "output_type": "stream",
     "text": [
      "Segmentation time for image 4: 1.024932861328125s\n"
     ]
    },
    {
     "name": "stderr",
     "output_type": "stream",
     "text": [
      "Segmentation progress::   0%|                                                       | 5/4852 [00:08<2:20:02,  1.73s/it]"
     ]
    },
    {
     "name": "stdout",
     "output_type": "stream",
     "text": [
      "Segmentation time for image 5: 1.0932812690734863s\n"
     ]
    },
    {
     "name": "stderr",
     "output_type": "stream",
     "text": [
      "Segmentation progress::   0%|                                                       | 6/4852 [00:10<2:22:02,  1.76s/it]"
     ]
    },
    {
     "name": "stdout",
     "output_type": "stream",
     "text": [
      "Segmentation time for image 6: 1.6198840141296387s\n"
     ]
    },
    {
     "name": "stderr",
     "output_type": "stream",
     "text": [
      "Segmentation progress::   0%|                                                       | 7/4852 [00:12<2:36:10,  1.93s/it]"
     ]
    },
    {
     "name": "stdout",
     "output_type": "stream",
     "text": [
      "Segmentation time for image 7: 1.045159101486206s\n"
     ]
    },
    {
     "name": "stderr",
     "output_type": "stream",
     "text": [
      "Segmentation progress::   0%|                                                       | 8/4852 [00:14<2:31:01,  1.87s/it]"
     ]
    },
    {
     "name": "stdout",
     "output_type": "stream",
     "text": [
      "Segmentation time for image 8: 0.960813045501709s\n"
     ]
    },
    {
     "name": "stderr",
     "output_type": "stream",
     "text": [
      "Segmentation progress::   0%|                                                       | 9/4852 [00:16<2:26:56,  1.82s/it]"
     ]
    },
    {
     "name": "stdout",
     "output_type": "stream",
     "text": [
      "Segmentation time for image 9: 1.2359919548034668s\n"
     ]
    },
    {
     "name": "stderr",
     "output_type": "stream",
     "text": [
      "Segmentation progress::   0%|                                                      | 10/4852 [00:18<2:31:41,  1.88s/it]"
     ]
    },
    {
     "name": "stdout",
     "output_type": "stream",
     "text": [
      "Segmentation time for image 10: 1.291165828704834s\n"
     ]
    },
    {
     "name": "stderr",
     "output_type": "stream",
     "text": [
      "Segmentation progress::   0%|                                                      | 11/4852 [00:20<2:37:39,  1.95s/it]"
     ]
    },
    {
     "name": "stdout",
     "output_type": "stream",
     "text": [
      "Segmentation time for image 11: 1.234907865524292s\n"
     ]
    },
    {
     "name": "stderr",
     "output_type": "stream",
     "text": [
      "Segmentation progress::   0%|▏                                                     | 12/4852 [00:22<2:37:23,  1.95s/it]"
     ]
    },
    {
     "name": "stdout",
     "output_type": "stream",
     "text": [
      "Segmentation time for image 12: 1.2246229648590088s\n"
     ]
    },
    {
     "name": "stderr",
     "output_type": "stream",
     "text": [
      "Segmentation progress::   0%|▏                                                     | 13/4852 [00:24<2:38:55,  1.97s/it]"
     ]
    },
    {
     "name": "stdout",
     "output_type": "stream",
     "text": [
      "Segmentation time for image 13: 1.220001220703125s\n"
     ]
    },
    {
     "name": "stderr",
     "output_type": "stream",
     "text": [
      "Segmentation progress::   0%|▏                                                     | 14/4852 [00:26<2:40:24,  1.99s/it]"
     ]
    },
    {
     "name": "stdout",
     "output_type": "stream",
     "text": [
      "Segmentation time for image 14: 1.1615331172943115s\n"
     ]
    },
    {
     "name": "stderr",
     "output_type": "stream",
     "text": [
      "Segmentation progress::   0%|▏                                                     | 15/4852 [00:28<2:48:57,  2.10s/it]"
     ]
    },
    {
     "name": "stdout",
     "output_type": "stream",
     "text": [
      "Segmentation time for image 15: 1.1046466827392578s\n"
     ]
    },
    {
     "name": "stderr",
     "output_type": "stream",
     "text": [
      "Segmentation progress::   0%|▏                                                     | 16/4852 [00:30<2:43:11,  2.02s/it]"
     ]
    },
    {
     "name": "stdout",
     "output_type": "stream",
     "text": [
      "Segmentation time for image 16: 1.1887764930725098s\n"
     ]
    },
    {
     "name": "stderr",
     "output_type": "stream",
     "text": [
      "Segmentation progress::   0%|▏                                                     | 17/4852 [00:32<2:41:20,  2.00s/it]"
     ]
    },
    {
     "name": "stdout",
     "output_type": "stream",
     "text": [
      "Segmentation time for image 17: 1.1418840885162354s\n"
     ]
    },
    {
     "name": "stderr",
     "output_type": "stream",
     "text": [
      "Segmentation progress::   0%|▏                                                     | 18/4852 [00:34<2:40:41,  1.99s/it]"
     ]
    },
    {
     "name": "stdout",
     "output_type": "stream",
     "text": [
      "Segmentation time for image 18: 1.2080533504486084s\n"
     ]
    },
    {
     "name": "stderr",
     "output_type": "stream",
     "text": [
      "Segmentation progress::   0%|▏                                                     | 19/4852 [00:36<2:41:51,  2.01s/it]"
     ]
    },
    {
     "name": "stdout",
     "output_type": "stream",
     "text": [
      "Segmentation time for image 19: 1.0448675155639648s\n"
     ]
    },
    {
     "name": "stderr",
     "output_type": "stream",
     "text": [
      "Segmentation progress::   0%|▏                                                     | 20/4852 [00:38<2:37:04,  1.95s/it]"
     ]
    },
    {
     "name": "stdout",
     "output_type": "stream",
     "text": [
      "Segmentation time for image 20: 1.0851335525512695s\n"
     ]
    },
    {
     "name": "stderr",
     "output_type": "stream",
     "text": [
      "Segmentation progress::   0%|▏                                                     | 21/4852 [00:40<2:36:21,  1.94s/it]"
     ]
    },
    {
     "name": "stdout",
     "output_type": "stream",
     "text": [
      "Segmentation time for image 21: 1.245143175125122s\n"
     ]
    },
    {
     "name": "stderr",
     "output_type": "stream",
     "text": [
      "Segmentation progress::   0%|▏                                                     | 22/4852 [00:42<2:37:16,  1.95s/it]"
     ]
    },
    {
     "name": "stdout",
     "output_type": "stream",
     "text": [
      "Segmentation time for image 22: 0.9846541881561279s\n"
     ]
    },
    {
     "name": "stderr",
     "output_type": "stream",
     "text": [
      "Segmentation progress::   0%|▎                                                     | 23/4852 [00:43<2:29:04,  1.85s/it]"
     ]
    },
    {
     "name": "stdout",
     "output_type": "stream",
     "text": [
      "Segmentation time for image 23: 0.95766282081604s\n"
     ]
    },
    {
     "name": "stderr",
     "output_type": "stream",
     "text": [
      "Segmentation progress::   0%|▎                                                     | 24/4852 [00:45<2:23:20,  1.78s/it]"
     ]
    },
    {
     "name": "stdout",
     "output_type": "stream",
     "text": [
      "Segmentation time for image 24: 0.963315486907959s\n"
     ]
    },
    {
     "name": "stderr",
     "output_type": "stream",
     "text": [
      "Segmentation progress::   1%|▎                                                     | 25/4852 [00:47<2:25:00,  1.80s/it]"
     ]
    },
    {
     "name": "stdout",
     "output_type": "stream",
     "text": [
      "Segmentation time for image 25: 1.6292057037353516s\n"
     ]
    },
    {
     "name": "stderr",
     "output_type": "stream",
     "text": [
      "Segmentation progress::   1%|▎                                                     | 26/4852 [00:49<2:35:17,  1.93s/it]"
     ]
    },
    {
     "name": "stdout",
     "output_type": "stream",
     "text": [
      "Segmentation time for image 26: 0.9997689723968506s\n"
     ]
    },
    {
     "name": "stderr",
     "output_type": "stream",
     "text": [
      "Segmentation progress::   1%|▎                                                     | 27/4852 [00:51<2:27:32,  1.83s/it]"
     ]
    },
    {
     "name": "stdout",
     "output_type": "stream",
     "text": [
      "Segmentation time for image 27: 0.9295914173126221s\n"
     ]
    },
    {
     "name": "stderr",
     "output_type": "stream",
     "text": [
      "Segmentation progress::   1%|▎                                                     | 28/4852 [00:52<2:19:20,  1.73s/it]"
     ]
    },
    {
     "name": "stdout",
     "output_type": "stream",
     "text": [
      "Segmentation time for image 28: 0.7538731098175049s\n"
     ]
    },
    {
     "name": "stderr",
     "output_type": "stream",
     "text": [
      "Segmentation progress::   1%|▎                                                     | 29/4852 [00:53<2:09:11,  1.61s/it]"
     ]
    },
    {
     "name": "stdout",
     "output_type": "stream",
     "text": [
      "Segmentation time for image 29: 0.7202916145324707s\n"
     ]
    },
    {
     "name": "stderr",
     "output_type": "stream",
     "text": [
      "Segmentation progress::   1%|▎                                                     | 30/4852 [00:55<2:02:28,  1.52s/it]"
     ]
    },
    {
     "name": "stdout",
     "output_type": "stream",
     "text": [
      "Segmentation time for image 30: 0.9928276538848877s\n"
     ]
    },
    {
     "name": "stderr",
     "output_type": "stream",
     "text": [
      "Segmentation progress::   1%|▎                                                     | 31/4852 [00:56<2:06:14,  1.57s/it]"
     ]
    },
    {
     "name": "stdout",
     "output_type": "stream",
     "text": [
      "Segmentation time for image 31: 0.8333072662353516s\n"
     ]
    },
    {
     "name": "stderr",
     "output_type": "stream",
     "text": [
      "Segmentation progress::   1%|▎                                                     | 32/4852 [00:58<2:02:07,  1.52s/it]"
     ]
    },
    {
     "name": "stdout",
     "output_type": "stream",
     "text": [
      "Segmentation time for image 32: 0.8573534488677979s\n"
     ]
    },
    {
     "name": "stderr",
     "output_type": "stream",
     "text": [
      "Segmentation progress::   1%|▎                                                     | 33/4852 [00:59<2:00:20,  1.50s/it]"
     ]
    },
    {
     "name": "stdout",
     "output_type": "stream",
     "text": [
      "Segmentation time for image 33: 0.8502027988433838s\n"
     ]
    },
    {
     "name": "stderr",
     "output_type": "stream",
     "text": [
      "Segmentation progress::   1%|▍                                                     | 34/4852 [01:01<1:59:08,  1.48s/it]"
     ]
    },
    {
     "name": "stdout",
     "output_type": "stream",
     "text": [
      "Segmentation time for image 34: 0.9529898166656494s\n"
     ]
    },
    {
     "name": "stderr",
     "output_type": "stream",
     "text": [
      "Segmentation progress::   1%|▍                                                     | 35/4852 [01:02<2:00:51,  1.51s/it]"
     ]
    },
    {
     "name": "stdout",
     "output_type": "stream",
     "text": [
      "Segmentation time for image 35: 0.8292348384857178s\n"
     ]
    },
    {
     "name": "stderr",
     "output_type": "stream",
     "text": [
      "Segmentation progress::   1%|▍                                                     | 36/4852 [01:04<1:57:50,  1.47s/it]"
     ]
    },
    {
     "name": "stdout",
     "output_type": "stream",
     "text": [
      "Segmentation time for image 36: 1.363537073135376s\n"
     ]
    },
    {
     "name": "stderr",
     "output_type": "stream",
     "text": [
      "Segmentation progress::   1%|▍                                                     | 37/4852 [01:06<2:10:23,  1.62s/it]"
     ]
    },
    {
     "name": "stdout",
     "output_type": "stream",
     "text": [
      "Segmentation time for image 37: 0.8530130386352539s\n"
     ]
    },
    {
     "name": "stderr",
     "output_type": "stream",
     "text": [
      "Segmentation progress::   1%|▍                                                     | 38/4852 [01:07<2:06:42,  1.58s/it]"
     ]
    },
    {
     "name": "stdout",
     "output_type": "stream",
     "text": [
      "Segmentation time for image 38: 0.7296969890594482s\n"
     ]
    },
    {
     "name": "stderr",
     "output_type": "stream",
     "text": [
      "Segmentation progress::   1%|▍                                                     | 39/4852 [01:08<2:00:26,  1.50s/it]"
     ]
    },
    {
     "name": "stdout",
     "output_type": "stream",
     "text": [
      "Segmentation time for image 39: 0.73992919921875s\n"
     ]
    },
    {
     "name": "stderr",
     "output_type": "stream",
     "text": [
      "Segmentation progress::   1%|▍                                                     | 40/4852 [01:10<1:55:05,  1.44s/it]"
     ]
    },
    {
     "name": "stdout",
     "output_type": "stream",
     "text": [
      "Segmentation time for image 40: 0.9099769592285156s\n"
     ]
    },
    {
     "name": "stderr",
     "output_type": "stream",
     "text": [
      "Segmentation progress::   1%|▍                                                     | 41/4852 [01:11<1:57:06,  1.46s/it]"
     ]
    },
    {
     "name": "stdout",
     "output_type": "stream",
     "text": [
      "Segmentation time for image 41: 0.8800764083862305s\n"
     ]
    },
    {
     "name": "stderr",
     "output_type": "stream",
     "text": [
      "Segmentation progress::   1%|▍                                                     | 42/4852 [01:13<1:57:20,  1.46s/it]"
     ]
    },
    {
     "name": "stdout",
     "output_type": "stream",
     "text": [
      "Segmentation time for image 42: 0.6988770961761475s\n"
     ]
    },
    {
     "name": "stderr",
     "output_type": "stream",
     "text": [
      "Segmentation progress::   1%|▍                                                     | 43/4852 [01:14<1:51:54,  1.40s/it]"
     ]
    },
    {
     "name": "stdout",
     "output_type": "stream",
     "text": [
      "Segmentation time for image 43: 0.7943940162658691s\n"
     ]
    },
    {
     "name": "stderr",
     "output_type": "stream",
     "text": [
      "Segmentation progress::   1%|▍                                                     | 44/4852 [01:15<1:51:00,  1.39s/it]"
     ]
    },
    {
     "name": "stdout",
     "output_type": "stream",
     "text": [
      "Segmentation time for image 44: 0.7305748462677002s\n"
     ]
    },
    {
     "name": "stderr",
     "output_type": "stream",
     "text": [
      "Segmentation progress::   1%|▌                                                     | 45/4852 [01:17<1:50:37,  1.38s/it]"
     ]
    },
    {
     "name": "stdout",
     "output_type": "stream",
     "text": [
      "Segmentation time for image 45: 0.8796737194061279s\n"
     ]
    },
    {
     "name": "stderr",
     "output_type": "stream",
     "text": [
      "Segmentation progress::   1%|▌                                                     | 46/4852 [01:18<1:53:18,  1.41s/it]"
     ]
    },
    {
     "name": "stdout",
     "output_type": "stream",
     "text": [
      "Segmentation time for image 46: 0.8661220073699951s\n"
     ]
    },
    {
     "name": "stderr",
     "output_type": "stream",
     "text": [
      "Segmentation progress::   1%|▌                                                     | 47/4852 [01:20<1:54:58,  1.44s/it]"
     ]
    },
    {
     "name": "stdout",
     "output_type": "stream",
     "text": [
      "Segmentation time for image 47: 0.9108309745788574s\n"
     ]
    },
    {
     "name": "stderr",
     "output_type": "stream",
     "text": [
      "Segmentation progress::   1%|▌                                                     | 48/4852 [01:21<1:55:49,  1.45s/it]"
     ]
    },
    {
     "name": "stdout",
     "output_type": "stream",
     "text": [
      "Segmentation time for image 48: 1.1811952590942383s\n"
     ]
    },
    {
     "name": "stderr",
     "output_type": "stream",
     "text": [
      "Segmentation progress::   1%|▌                                                     | 49/4852 [01:23<2:02:09,  1.53s/it]"
     ]
    },
    {
     "name": "stdout",
     "output_type": "stream",
     "text": [
      "Segmentation time for image 49: 0.8684885501861572s\n"
     ]
    },
    {
     "name": "stderr",
     "output_type": "stream",
     "text": [
      "Segmentation progress::   1%|▌                                                     | 50/4852 [01:24<2:00:59,  1.51s/it]"
     ]
    },
    {
     "name": "stdout",
     "output_type": "stream",
     "text": [
      "Segmentation time for image 50: 0.9002327919006348s\n"
     ]
    },
    {
     "name": "stderr",
     "output_type": "stream",
     "text": [
      "Segmentation progress::   1%|▌                                                     | 51/4852 [01:26<1:59:29,  1.49s/it]"
     ]
    },
    {
     "name": "stdout",
     "output_type": "stream",
     "text": [
      "Segmentation time for image 51: 0.8397173881530762s\n"
     ]
    },
    {
     "name": "stderr",
     "output_type": "stream",
     "text": [
      "Segmentation progress::   1%|▌                                                     | 52/4852 [01:27<1:58:26,  1.48s/it]"
     ]
    },
    {
     "name": "stdout",
     "output_type": "stream",
     "text": [
      "Segmentation time for image 52: 0.8242096900939941s\n"
     ]
    },
    {
     "name": "stderr",
     "output_type": "stream",
     "text": [
      "Segmentation progress::   1%|▌                                                     | 53/4852 [01:29<1:56:27,  1.46s/it]"
     ]
    },
    {
     "name": "stdout",
     "output_type": "stream",
     "text": [
      "Segmentation time for image 53: 0.9099986553192139s\n"
     ]
    },
    {
     "name": "stderr",
     "output_type": "stream",
     "text": [
      "Segmentation progress::   1%|▌                                                     | 54/4852 [01:30<1:58:46,  1.49s/it]"
     ]
    },
    {
     "name": "stdout",
     "output_type": "stream",
     "text": [
      "Segmentation time for image 54: 0.9039912223815918s\n"
     ]
    },
    {
     "name": "stderr",
     "output_type": "stream",
     "text": [
      "Segmentation progress::   1%|▌                                                     | 55/4852 [01:32<1:59:18,  1.49s/it]"
     ]
    },
    {
     "name": "stdout",
     "output_type": "stream",
     "text": [
      "Segmentation time for image 55: 0.8342249393463135s\n"
     ]
    },
    {
     "name": "stderr",
     "output_type": "stream",
     "text": [
      "Segmentation progress::   1%|▌                                                     | 56/4852 [01:33<1:56:51,  1.46s/it]"
     ]
    },
    {
     "name": "stdout",
     "output_type": "stream",
     "text": [
      "Segmentation time for image 56: 0.971351146697998s\n"
     ]
    },
    {
     "name": "stderr",
     "output_type": "stream",
     "text": [
      "Segmentation progress::   1%|▋                                                     | 57/4852 [01:35<1:58:22,  1.48s/it]"
     ]
    },
    {
     "name": "stdout",
     "output_type": "stream",
     "text": [
      "Segmentation time for image 57: 0.9597842693328857s\n"
     ]
    },
    {
     "name": "stderr",
     "output_type": "stream",
     "text": [
      "Segmentation progress::   1%|▋                                                     | 58/4852 [01:36<1:58:48,  1.49s/it]"
     ]
    },
    {
     "name": "stdout",
     "output_type": "stream",
     "text": [
      "Segmentation time for image 58: 0.8285503387451172s\n"
     ]
    },
    {
     "name": "stderr",
     "output_type": "stream",
     "text": [
      "Segmentation progress::   1%|▋                                                     | 59/4852 [01:38<1:58:57,  1.49s/it]"
     ]
    },
    {
     "name": "stdout",
     "output_type": "stream",
     "text": [
      "Segmentation time for image 59: 0.9455671310424805s\n"
     ]
    },
    {
     "name": "stderr",
     "output_type": "stream",
     "text": [
      "Segmentation progress::   1%|▋                                                     | 60/4852 [01:39<2:00:56,  1.51s/it]"
     ]
    },
    {
     "name": "stdout",
     "output_type": "stream",
     "text": [
      "Segmentation time for image 60: 0.771583080291748s\n"
     ]
    },
    {
     "name": "stderr",
     "output_type": "stream",
     "text": [
      "Segmentation progress::   1%|▋                                                     | 61/4852 [01:41<2:02:25,  1.53s/it]"
     ]
    },
    {
     "name": "stdout",
     "output_type": "stream",
     "text": [
      "Segmentation time for image 61: 1.0730199813842773s\n"
     ]
    },
    {
     "name": "stderr",
     "output_type": "stream",
     "text": [
      "Segmentation progress::   1%|▋                                                     | 62/4852 [01:43<2:07:53,  1.60s/it]"
     ]
    },
    {
     "name": "stdout",
     "output_type": "stream",
     "text": [
      "Segmentation time for image 62: 1.3577404022216797s\n"
     ]
    },
    {
     "name": "stderr",
     "output_type": "stream",
     "text": [
      "Segmentation progress::   1%|▋                                                     | 63/4852 [01:45<2:17:42,  1.73s/it]"
     ]
    },
    {
     "name": "stdout",
     "output_type": "stream",
     "text": [
      "Segmentation time for image 63: 0.9210221767425537s\n"
     ]
    },
    {
     "name": "stderr",
     "output_type": "stream",
     "text": [
      "Segmentation progress::   1%|▋                                                     | 64/4852 [01:46<2:14:25,  1.68s/it]"
     ]
    },
    {
     "name": "stdout",
     "output_type": "stream",
     "text": [
      "Segmentation time for image 64: 0.9637234210968018s\n"
     ]
    },
    {
     "name": "stderr",
     "output_type": "stream",
     "text": [
      "Segmentation progress::   1%|▋                                                     | 65/4852 [01:48<2:11:47,  1.65s/it]"
     ]
    },
    {
     "name": "stdout",
     "output_type": "stream",
     "text": [
      "Segmentation time for image 65: 0.8251686096191406s\n"
     ]
    },
    {
     "name": "stderr",
     "output_type": "stream",
     "text": [
      "Segmentation progress::   1%|▋                                                     | 66/4852 [01:49<2:07:50,  1.60s/it]"
     ]
    },
    {
     "name": "stdout",
     "output_type": "stream",
     "text": [
      "Segmentation time for image 66: 0.9345040321350098s\n"
     ]
    },
    {
     "name": "stderr",
     "output_type": "stream",
     "text": [
      "Segmentation progress::   1%|▋                                                     | 67/4852 [01:51<2:07:30,  1.60s/it]"
     ]
    },
    {
     "name": "stdout",
     "output_type": "stream",
     "text": [
      "Segmentation time for image 67: 1.0227038860321045s\n"
     ]
    },
    {
     "name": "stderr",
     "output_type": "stream",
     "text": [
      "Segmentation progress::   1%|▊                                                     | 68/4852 [01:52<2:09:17,  1.62s/it]"
     ]
    },
    {
     "name": "stdout",
     "output_type": "stream",
     "text": [
      "Segmentation time for image 68: 0.9459652900695801s\n"
     ]
    },
    {
     "name": "stderr",
     "output_type": "stream",
     "text": [
      "Segmentation progress::   1%|▊                                                     | 69/4852 [01:54<2:08:42,  1.61s/it]"
     ]
    },
    {
     "name": "stdout",
     "output_type": "stream",
     "text": [
      "Segmentation time for image 69: 1.006033182144165s\n"
     ]
    },
    {
     "name": "stderr",
     "output_type": "stream",
     "text": [
      "Segmentation progress::   1%|▊                                                     | 70/4852 [01:56<2:10:34,  1.64s/it]"
     ]
    },
    {
     "name": "stdout",
     "output_type": "stream",
     "text": [
      "Segmentation time for image 70: 0.8202672004699707s\n"
     ]
    },
    {
     "name": "stderr",
     "output_type": "stream",
     "text": [
      "Segmentation progress::   1%|▊                                                     | 71/4852 [01:57<2:05:54,  1.58s/it]"
     ]
    },
    {
     "name": "stdout",
     "output_type": "stream",
     "text": [
      "Segmentation time for image 71: 1.021437644958496s\n"
     ]
    },
    {
     "name": "stderr",
     "output_type": "stream",
     "text": [
      "Segmentation progress::   1%|▊                                                     | 72/4852 [01:59<2:08:17,  1.61s/it]"
     ]
    },
    {
     "name": "stdout",
     "output_type": "stream",
     "text": [
      "Segmentation time for image 72: 0.8913521766662598s\n"
     ]
    },
    {
     "name": "stderr",
     "output_type": "stream",
     "text": [
      "Segmentation progress::   2%|▊                                                     | 73/4852 [02:00<2:08:36,  1.61s/it]"
     ]
    },
    {
     "name": "stdout",
     "output_type": "stream",
     "text": [
      "Segmentation time for image 73: 0.9499123096466064s\n"
     ]
    },
    {
     "name": "stderr",
     "output_type": "stream",
     "text": [
      "Segmentation progress::   2%|▊                                                     | 74/4852 [02:02<2:08:42,  1.62s/it]"
     ]
    },
    {
     "name": "stdout",
     "output_type": "stream",
     "text": [
      "Segmentation time for image 74: 1.1000828742980957s\n"
     ]
    },
    {
     "name": "stderr",
     "output_type": "stream",
     "text": [
      "Segmentation progress::   2%|▊                                                     | 75/4852 [02:05<2:39:05,  2.00s/it]"
     ]
    },
    {
     "name": "stdout",
     "output_type": "stream",
     "text": [
      "Segmentation time for image 75: 1.830019474029541s\n"
     ]
    },
    {
     "name": "stderr",
     "output_type": "stream",
     "text": [
      "Segmentation progress::   2%|▊                                                     | 76/4852 [02:08<3:00:18,  2.27s/it]"
     ]
    },
    {
     "name": "stdout",
     "output_type": "stream",
     "text": [
      "Segmentation time for image 76: 1.398489236831665s\n"
     ]
    },
    {
     "name": "stderr",
     "output_type": "stream",
     "text": [
      "Segmentation progress::   2%|▊                                                     | 77/4852 [02:10<2:57:48,  2.23s/it]"
     ]
    },
    {
     "name": "stdout",
     "output_type": "stream",
     "text": [
      "Segmentation time for image 77: 0.9379608631134033s\n"
     ]
    },
    {
     "name": "stderr",
     "output_type": "stream",
     "text": [
      "Segmentation progress::   2%|▊                                                     | 78/4852 [02:12<2:41:46,  2.03s/it]"
     ]
    },
    {
     "name": "stdout",
     "output_type": "stream",
     "text": [
      "Segmentation time for image 78: 1.43589186668396s\n"
     ]
    },
    {
     "name": "stderr",
     "output_type": "stream",
     "text": [
      "Segmentation progress::   2%|▉                                                     | 79/4852 [02:14<2:44:40,  2.07s/it]"
     ]
    },
    {
     "name": "stdout",
     "output_type": "stream",
     "text": [
      "Segmentation time for image 79: 0.845261812210083s\n"
     ]
    },
    {
     "name": "stderr",
     "output_type": "stream",
     "text": [
      "Segmentation progress::   2%|▉                                                     | 80/4852 [02:15<2:30:33,  1.89s/it]"
     ]
    },
    {
     "name": "stdout",
     "output_type": "stream",
     "text": [
      "Segmentation time for image 80: 0.8901712894439697s\n"
     ]
    },
    {
     "name": "stderr",
     "output_type": "stream",
     "text": [
      "Segmentation progress::   2%|▉                                                     | 81/4852 [02:17<2:21:57,  1.79s/it]"
     ]
    },
    {
     "name": "stdout",
     "output_type": "stream",
     "text": [
      "Segmentation time for image 81: 0.8991520404815674s\n"
     ]
    },
    {
     "name": "stderr",
     "output_type": "stream",
     "text": [
      "Segmentation progress::   2%|▉                                                     | 82/4852 [02:18<2:16:32,  1.72s/it]"
     ]
    },
    {
     "name": "stdout",
     "output_type": "stream",
     "text": [
      "Segmentation time for image 82: 1.117469310760498s\n"
     ]
    },
    {
     "name": "stderr",
     "output_type": "stream",
     "text": [
      "Segmentation progress::   2%|▉                                                     | 83/4852 [02:20<2:18:29,  1.74s/it]"
     ]
    },
    {
     "name": "stdout",
     "output_type": "stream",
     "text": [
      "Segmentation time for image 83: 0.8593888282775879s\n"
     ]
    },
    {
     "name": "stderr",
     "output_type": "stream",
     "text": [
      "Segmentation progress::   2%|▉                                                     | 84/4852 [02:22<2:12:44,  1.67s/it]"
     ]
    },
    {
     "name": "stdout",
     "output_type": "stream",
     "text": [
      "Segmentation time for image 84: 0.8813803195953369s\n"
     ]
    },
    {
     "name": "stderr",
     "output_type": "stream",
     "text": [
      "Segmentation progress::   2%|▉                                                     | 85/4852 [02:23<2:09:06,  1.62s/it]"
     ]
    },
    {
     "name": "stdout",
     "output_type": "stream",
     "text": [
      "Segmentation time for image 85: 0.8779537677764893s\n"
     ]
    },
    {
     "name": "stderr",
     "output_type": "stream",
     "text": [
      "Segmentation progress::   2%|▉                                                     | 86/4852 [02:25<2:03:50,  1.56s/it]"
     ]
    },
    {
     "name": "stdout",
     "output_type": "stream",
     "text": [
      "Segmentation time for image 86: 0.9330301284790039s\n"
     ]
    },
    {
     "name": "stderr",
     "output_type": "stream",
     "text": [
      "Segmentation progress::   2%|▉                                                     | 87/4852 [02:26<2:04:35,  1.57s/it]"
     ]
    },
    {
     "name": "stdout",
     "output_type": "stream",
     "text": [
      "Segmentation time for image 87: 0.7528934478759766s\n"
     ]
    },
    {
     "name": "stderr",
     "output_type": "stream",
     "text": [
      "Segmentation progress::   2%|▉                                                     | 88/4852 [02:27<1:58:50,  1.50s/it]"
     ]
    },
    {
     "name": "stdout",
     "output_type": "stream",
     "text": [
      "Segmentation time for image 88: 1.1172845363616943s\n"
     ]
    },
    {
     "name": "stderr",
     "output_type": "stream",
     "text": [
      "Segmentation progress::   2%|▉                                                     | 89/4852 [02:29<2:04:19,  1.57s/it]"
     ]
    },
    {
     "name": "stdout",
     "output_type": "stream",
     "text": [
      "Segmentation time for image 89: 1.007157802581787s\n"
     ]
    },
    {
     "name": "stderr",
     "output_type": "stream",
     "text": [
      "Segmentation progress::   2%|█                                                     | 90/4852 [02:31<2:07:46,  1.61s/it]"
     ]
    },
    {
     "name": "stdout",
     "output_type": "stream",
     "text": [
      "Segmentation time for image 90: 1.0190184116363525s\n"
     ]
    },
    {
     "name": "stderr",
     "output_type": "stream",
     "text": [
      "Segmentation progress::   2%|█                                                     | 91/4852 [02:33<2:09:21,  1.63s/it]"
     ]
    },
    {
     "name": "stdout",
     "output_type": "stream",
     "text": [
      "Segmentation time for image 91: 1.0729162693023682s\n"
     ]
    },
    {
     "name": "stderr",
     "output_type": "stream",
     "text": [
      "Segmentation progress::   2%|█                                                     | 92/4852 [02:34<2:12:20,  1.67s/it]"
     ]
    },
    {
     "name": "stdout",
     "output_type": "stream",
     "text": [
      "Segmentation time for image 92: 0.9557576179504395s\n"
     ]
    },
    {
     "name": "stderr",
     "output_type": "stream",
     "text": [
      "Segmentation progress::   2%|█                                                     | 93/4852 [02:36<2:10:42,  1.65s/it]"
     ]
    },
    {
     "name": "stdout",
     "output_type": "stream",
     "text": [
      "Segmentation time for image 93: 1.0963079929351807s\n"
     ]
    },
    {
     "name": "stderr",
     "output_type": "stream",
     "text": [
      "Segmentation progress::   2%|█                                                     | 94/4852 [02:38<2:14:21,  1.69s/it]"
     ]
    },
    {
     "name": "stdout",
     "output_type": "stream",
     "text": [
      "Segmentation time for image 94: 1.136953592300415s\n"
     ]
    },
    {
     "name": "stderr",
     "output_type": "stream",
     "text": [
      "Segmentation progress::   2%|█                                                     | 95/4852 [02:40<2:16:57,  1.73s/it]"
     ]
    },
    {
     "name": "stdout",
     "output_type": "stream",
     "text": [
      "Segmentation time for image 95: 1.5565390586853027s\n"
     ]
    },
    {
     "name": "stderr",
     "output_type": "stream",
     "text": [
      "Segmentation progress::   2%|█                                                     | 96/4852 [02:42<2:26:28,  1.85s/it]"
     ]
    },
    {
     "name": "stdout",
     "output_type": "stream",
     "text": [
      "Segmentation time for image 96: 1.0045437812805176s\n"
     ]
    },
    {
     "name": "stderr",
     "output_type": "stream",
     "text": [
      "Segmentation progress::   2%|█                                                     | 97/4852 [02:43<2:22:06,  1.79s/it]"
     ]
    },
    {
     "name": "stdout",
     "output_type": "stream",
     "text": [
      "Segmentation time for image 97: 1.0504543781280518s\n"
     ]
    },
    {
     "name": "stderr",
     "output_type": "stream",
     "text": [
      "Segmentation progress::   2%|█                                                     | 98/4852 [02:45<2:20:10,  1.77s/it]"
     ]
    },
    {
     "name": "stdout",
     "output_type": "stream",
     "text": [
      "Segmentation time for image 98: 0.8920574188232422s\n"
     ]
    },
    {
     "name": "stderr",
     "output_type": "stream",
     "text": [
      "Segmentation progress::   2%|█                                                     | 99/4852 [02:47<2:13:19,  1.68s/it]"
     ]
    },
    {
     "name": "stdout",
     "output_type": "stream",
     "text": [
      "Segmentation time for image 99: 0.9338095188140869s\n"
     ]
    },
    {
     "name": "stderr",
     "output_type": "stream",
     "text": [
      "Segmentation progress::   2%|█                                                    | 100/4852 [02:48<2:10:49,  1.65s/it]"
     ]
    },
    {
     "name": "stdout",
     "output_type": "stream",
     "text": [
      "Segmentation time for image 100: 1.0098106861114502s\n"
     ]
    },
    {
     "name": "stderr",
     "output_type": "stream",
     "text": [
      "Segmentation progress::   2%|█                                                    | 101/4852 [02:50<2:08:42,  1.63s/it]"
     ]
    },
    {
     "name": "stdout",
     "output_type": "stream",
     "text": [
      "Segmentation time for image 101: 0.8097963333129883s\n"
     ]
    },
    {
     "name": "stderr",
     "output_type": "stream",
     "text": [
      "Segmentation progress::   2%|█                                                    | 102/4852 [02:51<2:02:01,  1.54s/it]"
     ]
    },
    {
     "name": "stdout",
     "output_type": "stream",
     "text": [
      "Segmentation time for image 102: 0.8086559772491455s\n"
     ]
    },
    {
     "name": "stderr",
     "output_type": "stream",
     "text": [
      "Segmentation progress::   2%|█▏                                                   | 103/4852 [02:52<1:58:38,  1.50s/it]"
     ]
    },
    {
     "name": "stdout",
     "output_type": "stream",
     "text": [
      "Segmentation time for image 103: 0.9492826461791992s\n"
     ]
    },
    {
     "name": "stderr",
     "output_type": "stream",
     "text": [
      "Segmentation progress::   2%|█▏                                                   | 104/4852 [02:54<2:00:18,  1.52s/it]"
     ]
    },
    {
     "name": "stdout",
     "output_type": "stream",
     "text": [
      "Segmentation time for image 104: 1.196082353591919s\n"
     ]
    },
    {
     "name": "stderr",
     "output_type": "stream",
     "text": [
      "Segmentation progress::   2%|█▏                                                   | 105/4852 [02:56<2:09:24,  1.64s/it]"
     ]
    },
    {
     "name": "stdout",
     "output_type": "stream",
     "text": [
      "Segmentation time for image 105: 1.0261600017547607s\n"
     ]
    },
    {
     "name": "stderr",
     "output_type": "stream",
     "text": [
      "Segmentation progress::   2%|█▏                                                   | 106/4852 [02:58<2:10:21,  1.65s/it]"
     ]
    },
    {
     "name": "stdout",
     "output_type": "stream",
     "text": [
      "Segmentation time for image 106: 0.9976513385772705s\n"
     ]
    },
    {
     "name": "stderr",
     "output_type": "stream",
     "text": [
      "Segmentation progress::   2%|█▏                                                   | 107/4852 [02:59<2:10:55,  1.66s/it]"
     ]
    },
    {
     "name": "stdout",
     "output_type": "stream",
     "text": [
      "Segmentation time for image 107: 0.9621355533599854s\n"
     ]
    },
    {
     "name": "stderr",
     "output_type": "stream",
     "text": [
      "Segmentation progress::   2%|█▏                                                   | 108/4852 [03:01<2:10:24,  1.65s/it]"
     ]
    },
    {
     "name": "stdout",
     "output_type": "stream",
     "text": [
      "Segmentation time for image 108: 0.9767501354217529s\n"
     ]
    },
    {
     "name": "stderr",
     "output_type": "stream",
     "text": [
      "Segmentation progress::   2%|█▏                                                   | 109/4852 [03:03<2:10:33,  1.65s/it]"
     ]
    },
    {
     "name": "stdout",
     "output_type": "stream",
     "text": [
      "Segmentation time for image 109: 1.0669255256652832s\n"
     ]
    },
    {
     "name": "stderr",
     "output_type": "stream",
     "text": [
      "Segmentation progress::   2%|█▏                                                   | 110/4852 [03:04<2:13:25,  1.69s/it]"
     ]
    },
    {
     "name": "stdout",
     "output_type": "stream",
     "text": [
      "Segmentation time for image 110: 0.947507381439209s\n"
     ]
    },
    {
     "name": "stderr",
     "output_type": "stream",
     "text": [
      "Segmentation progress::   2%|█▏                                                   | 111/4852 [03:06<2:10:45,  1.65s/it]"
     ]
    },
    {
     "name": "stdout",
     "output_type": "stream",
     "text": [
      "Segmentation time for image 111: 1.007129430770874s\n"
     ]
    },
    {
     "name": "stderr",
     "output_type": "stream",
     "text": [
      "Segmentation progress::   2%|█▏                                                   | 112/4852 [03:08<2:10:48,  1.66s/it]"
     ]
    },
    {
     "name": "stdout",
     "output_type": "stream",
     "text": [
      "Segmentation time for image 112: 0.9827673435211182s\n"
     ]
    },
    {
     "name": "stderr",
     "output_type": "stream",
     "text": [
      "Segmentation progress::   2%|█▏                                                   | 113/4852 [03:09<2:10:25,  1.65s/it]"
     ]
    },
    {
     "name": "stdout",
     "output_type": "stream",
     "text": [
      "Segmentation time for image 113: 0.8943917751312256s\n"
     ]
    },
    {
     "name": "stderr",
     "output_type": "stream",
     "text": [
      "Segmentation progress::   2%|█▏                                                   | 114/4852 [03:11<2:07:30,  1.61s/it]"
     ]
    },
    {
     "name": "stdout",
     "output_type": "stream",
     "text": [
      "Segmentation time for image 114: 1.868861436843872s\n"
     ]
    },
    {
     "name": "stderr",
     "output_type": "stream",
     "text": [
      "Segmentation progress::   2%|█▎                                                   | 115/4852 [03:13<2:30:20,  1.90s/it]"
     ]
    },
    {
     "name": "stdout",
     "output_type": "stream",
     "text": [
      "Segmentation time for image 115: 0.9766693115234375s\n"
     ]
    },
    {
     "name": "stderr",
     "output_type": "stream",
     "text": [
      "Segmentation progress::   2%|█▎                                                   | 116/4852 [03:15<2:24:07,  1.83s/it]"
     ]
    },
    {
     "name": "stdout",
     "output_type": "stream",
     "text": [
      "Segmentation time for image 116: 1.1035780906677246s\n"
     ]
    },
    {
     "name": "stderr",
     "output_type": "stream",
     "text": [
      "Segmentation progress::   2%|█▎                                                   | 117/4852 [03:17<2:23:23,  1.82s/it]"
     ]
    },
    {
     "name": "stdout",
     "output_type": "stream",
     "text": [
      "Segmentation time for image 117: 0.9772014617919922s\n"
     ]
    },
    {
     "name": "stderr",
     "output_type": "stream",
     "text": [
      "Segmentation progress::   2%|█▎                                                   | 118/4852 [03:18<2:19:40,  1.77s/it]"
     ]
    },
    {
     "name": "stdout",
     "output_type": "stream",
     "text": [
      "Segmentation time for image 118: 1.0323357582092285s\n"
     ]
    },
    {
     "name": "stderr",
     "output_type": "stream",
     "text": [
      "Segmentation progress::   2%|█▎                                                   | 119/4852 [03:20<2:18:17,  1.75s/it]"
     ]
    },
    {
     "name": "stdout",
     "output_type": "stream",
     "text": [
      "Segmentation time for image 119: 0.9498233795166016s\n"
     ]
    },
    {
     "name": "stderr",
     "output_type": "stream",
     "text": [
      "Segmentation progress::   2%|█▎                                                   | 120/4852 [03:22<2:14:41,  1.71s/it]"
     ]
    },
    {
     "name": "stdout",
     "output_type": "stream",
     "text": [
      "Segmentation time for image 120: 0.9734091758728027s\n"
     ]
    },
    {
     "name": "stderr",
     "output_type": "stream",
     "text": [
      "Segmentation progress::   2%|█▎                                                   | 121/4852 [03:23<2:14:03,  1.70s/it]"
     ]
    },
    {
     "name": "stdout",
     "output_type": "stream",
     "text": [
      "Segmentation time for image 121: 0.9007725715637207s\n"
     ]
    },
    {
     "name": "stderr",
     "output_type": "stream",
     "text": [
      "Segmentation progress::   3%|█▎                                                   | 122/4852 [03:25<2:12:18,  1.68s/it]"
     ]
    },
    {
     "name": "stdout",
     "output_type": "stream",
     "text": [
      "Segmentation time for image 122: 0.9565126895904541s\n"
     ]
    },
    {
     "name": "stderr",
     "output_type": "stream",
     "text": [
      "Segmentation progress::   3%|█▎                                                   | 123/4852 [03:27<2:11:10,  1.66s/it]"
     ]
    },
    {
     "name": "stdout",
     "output_type": "stream",
     "text": [
      "Segmentation time for image 123: 1.211425542831421s\n"
     ]
    },
    {
     "name": "stderr",
     "output_type": "stream",
     "text": [
      "Segmentation progress::   3%|█▎                                                   | 124/4852 [03:29<2:16:15,  1.73s/it]"
     ]
    },
    {
     "name": "stdout",
     "output_type": "stream",
     "text": [
      "Segmentation time for image 124: 0.9643752574920654s\n"
     ]
    },
    {
     "name": "stderr",
     "output_type": "stream",
     "text": [
      "Segmentation progress::   3%|█▎                                                   | 125/4852 [03:30<2:13:16,  1.69s/it]"
     ]
    },
    {
     "name": "stdout",
     "output_type": "stream",
     "text": [
      "Segmentation time for image 125: 1.1346549987792969s\n"
     ]
    },
    {
     "name": "stderr",
     "output_type": "stream",
     "text": [
      "Segmentation progress::   3%|█▍                                                   | 126/4852 [03:32<2:15:42,  1.72s/it]"
     ]
    },
    {
     "name": "stdout",
     "output_type": "stream",
     "text": [
      "Segmentation time for image 126: 0.8796825408935547s\n"
     ]
    },
    {
     "name": "stderr",
     "output_type": "stream",
     "text": [
      "Segmentation progress::   3%|█▍                                                   | 127/4852 [03:34<2:12:00,  1.68s/it]"
     ]
    },
    {
     "name": "stdout",
     "output_type": "stream",
     "text": [
      "Segmentation time for image 127: 1.1318295001983643s\n"
     ]
    },
    {
     "name": "stderr",
     "output_type": "stream",
     "text": [
      "Segmentation progress::   3%|█▍                                                   | 128/4852 [03:35<2:14:47,  1.71s/it]"
     ]
    },
    {
     "name": "stdout",
     "output_type": "stream",
     "text": [
      "Segmentation time for image 128: 0.9570181369781494s\n"
     ]
    },
    {
     "name": "stderr",
     "output_type": "stream",
     "text": [
      "Segmentation progress::   3%|█▍                                                   | 129/4852 [03:37<2:12:35,  1.68s/it]"
     ]
    },
    {
     "name": "stdout",
     "output_type": "stream",
     "text": [
      "Segmentation time for image 129: 1.0397210121154785s\n"
     ]
    },
    {
     "name": "stderr",
     "output_type": "stream",
     "text": [
      "Segmentation progress::   3%|█▍                                                   | 130/4852 [03:39<2:13:45,  1.70s/it]"
     ]
    },
    {
     "name": "stdout",
     "output_type": "stream",
     "text": [
      "Segmentation time for image 130: 0.9543280601501465s\n"
     ]
    },
    {
     "name": "stderr",
     "output_type": "stream",
     "text": [
      "Segmentation progress::   3%|█▍                                                   | 131/4852 [03:40<2:10:45,  1.66s/it]"
     ]
    },
    {
     "name": "stdout",
     "output_type": "stream",
     "text": [
      "Segmentation time for image 131: 0.8560812473297119s\n"
     ]
    },
    {
     "name": "stderr",
     "output_type": "stream",
     "text": [
      "Segmentation progress::   3%|█▍                                                   | 132/4852 [03:42<2:07:31,  1.62s/it]"
     ]
    },
    {
     "name": "stdout",
     "output_type": "stream",
     "text": [
      "Segmentation time for image 132: 1.0225231647491455s\n"
     ]
    },
    {
     "name": "stderr",
     "output_type": "stream",
     "text": [
      "Segmentation progress::   3%|█▍                                                   | 133/4852 [03:43<2:09:32,  1.65s/it]"
     ]
    },
    {
     "name": "stdout",
     "output_type": "stream",
     "text": [
      "Segmentation time for image 133: 1.0441997051239014s\n"
     ]
    },
    {
     "name": "stderr",
     "output_type": "stream",
     "text": [
      "Segmentation progress::   3%|█▍                                                   | 134/4852 [03:45<2:10:28,  1.66s/it]"
     ]
    },
    {
     "name": "stdout",
     "output_type": "stream",
     "text": [
      "Segmentation time for image 134: 0.9919040203094482s\n"
     ]
    },
    {
     "name": "stderr",
     "output_type": "stream",
     "text": [
      "Segmentation progress::   3%|█▍                                                   | 135/4852 [03:47<2:09:55,  1.65s/it]"
     ]
    },
    {
     "name": "stdout",
     "output_type": "stream",
     "text": [
      "Segmentation time for image 135: 0.9567742347717285s\n"
     ]
    },
    {
     "name": "stderr",
     "output_type": "stream",
     "text": [
      "Segmentation progress::   3%|█▍                                                   | 136/4852 [03:48<2:09:16,  1.64s/it]"
     ]
    },
    {
     "name": "stdout",
     "output_type": "stream",
     "text": [
      "Segmentation time for image 136: 0.9219961166381836s\n"
     ]
    },
    {
     "name": "stderr",
     "output_type": "stream",
     "text": [
      "Segmentation progress::   3%|█▍                                                   | 137/4852 [03:50<2:07:01,  1.62s/it]"
     ]
    },
    {
     "name": "stdout",
     "output_type": "stream",
     "text": [
      "Segmentation time for image 137: 1.6322615146636963s\n"
     ]
    },
    {
     "name": "stderr",
     "output_type": "stream",
     "text": [
      "Segmentation progress::   3%|█▌                                                   | 138/4852 [03:52<2:22:12,  1.81s/it]"
     ]
    },
    {
     "name": "stdout",
     "output_type": "stream",
     "text": [
      "Segmentation time for image 138: 0.9757416248321533s\n"
     ]
    },
    {
     "name": "stderr",
     "output_type": "stream",
     "text": [
      "Segmentation progress::   3%|█▌                                                   | 139/4852 [03:54<2:17:37,  1.75s/it]"
     ]
    },
    {
     "name": "stdout",
     "output_type": "stream",
     "text": [
      "Segmentation time for image 139: 0.9031550884246826s\n"
     ]
    },
    {
     "name": "stderr",
     "output_type": "stream",
     "text": [
      "Segmentation progress::   3%|█▌                                                   | 140/4852 [03:55<2:11:30,  1.67s/it]"
     ]
    },
    {
     "name": "stdout",
     "output_type": "stream",
     "text": [
      "Segmentation time for image 140: 1.002624273300171s\n"
     ]
    },
    {
     "name": "stderr",
     "output_type": "stream",
     "text": [
      "Segmentation progress::   3%|█▌                                                   | 141/4852 [03:57<2:08:09,  1.63s/it]"
     ]
    },
    {
     "name": "stdout",
     "output_type": "stream",
     "text": [
      "Segmentation time for image 141: 0.8565125465393066s\n"
     ]
    },
    {
     "name": "stderr",
     "output_type": "stream",
     "text": [
      "Segmentation progress::   3%|█▌                                                   | 142/4852 [03:58<2:03:35,  1.57s/it]"
     ]
    },
    {
     "name": "stdout",
     "output_type": "stream",
     "text": [
      "Segmentation time for image 142: 0.9745383262634277s\n"
     ]
    },
    {
     "name": "stderr",
     "output_type": "stream",
     "text": [
      "Segmentation progress::   3%|█▌                                                   | 143/4852 [04:00<2:03:08,  1.57s/it]"
     ]
    },
    {
     "name": "stdout",
     "output_type": "stream",
     "text": [
      "Segmentation time for image 143: 0.8896021842956543s\n"
     ]
    },
    {
     "name": "stderr",
     "output_type": "stream",
     "text": [
      "Segmentation progress::   3%|█▌                                                   | 144/4852 [04:01<2:01:58,  1.55s/it]"
     ]
    },
    {
     "name": "stdout",
     "output_type": "stream",
     "text": [
      "Segmentation time for image 144: 1.0481293201446533s\n"
     ]
    },
    {
     "name": "stderr",
     "output_type": "stream",
     "text": [
      "Segmentation progress::   3%|█▌                                                   | 145/4852 [04:03<2:05:22,  1.60s/it]"
     ]
    },
    {
     "name": "stdout",
     "output_type": "stream",
     "text": [
      "Segmentation time for image 145: 0.8882086277008057s\n"
     ]
    },
    {
     "name": "stderr",
     "output_type": "stream",
     "text": [
      "Segmentation progress::   3%|█▌                                                   | 146/4852 [04:05<2:03:17,  1.57s/it]"
     ]
    },
    {
     "name": "stdout",
     "output_type": "stream",
     "text": [
      "Segmentation time for image 146: 0.9945697784423828s\n"
     ]
    },
    {
     "name": "stderr",
     "output_type": "stream",
     "text": [
      "Segmentation progress::   3%|█▌                                                   | 147/4852 [04:06<2:04:40,  1.59s/it]"
     ]
    },
    {
     "name": "stdout",
     "output_type": "stream",
     "text": [
      "Segmentation time for image 147: 0.9787614345550537s\n"
     ]
    },
    {
     "name": "stderr",
     "output_type": "stream",
     "text": [
      "Segmentation progress::   3%|█▌                                                   | 148/4852 [04:08<2:04:22,  1.59s/it]"
     ]
    },
    {
     "name": "stdout",
     "output_type": "stream",
     "text": [
      "Segmentation time for image 148: 0.9420671463012695s\n"
     ]
    },
    {
     "name": "stderr",
     "output_type": "stream",
     "text": [
      "Segmentation progress::   3%|█▋                                                   | 149/4852 [04:09<2:05:15,  1.60s/it]"
     ]
    },
    {
     "name": "stdout",
     "output_type": "stream",
     "text": [
      "Segmentation time for image 149: 0.8698675632476807s\n"
     ]
    },
    {
     "name": "stderr",
     "output_type": "stream",
     "text": [
      "Segmentation progress::   3%|█▋                                                   | 150/4852 [04:11<2:03:23,  1.57s/it]"
     ]
    },
    {
     "name": "stdout",
     "output_type": "stream",
     "text": [
      "Segmentation time for image 150: 1.2283039093017578s\n"
     ]
    },
    {
     "name": "stderr",
     "output_type": "stream",
     "text": [
      "Segmentation progress::   3%|█▋                                                   | 151/4852 [04:13<2:11:32,  1.68s/it]"
     ]
    },
    {
     "name": "stdout",
     "output_type": "stream",
     "text": [
      "Segmentation time for image 151: 1.1253421306610107s\n"
     ]
    },
    {
     "name": "stderr",
     "output_type": "stream",
     "text": [
      "Segmentation progress::   3%|█▋                                                   | 152/4852 [04:15<2:14:14,  1.71s/it]"
     ]
    },
    {
     "name": "stdout",
     "output_type": "stream",
     "text": [
      "Segmentation time for image 152: 1.0009191036224365s\n"
     ]
    },
    {
     "name": "stderr",
     "output_type": "stream",
     "text": [
      "Segmentation progress::   3%|█▋                                                   | 153/4852 [04:16<2:13:08,  1.70s/it]"
     ]
    },
    {
     "name": "stdout",
     "output_type": "stream",
     "text": [
      "Segmentation time for image 153: 0.9380018711090088s\n"
     ]
    },
    {
     "name": "stderr",
     "output_type": "stream",
     "text": [
      "Segmentation progress::   3%|█▋                                                   | 154/4852 [04:18<2:10:51,  1.67s/it]"
     ]
    },
    {
     "name": "stdout",
     "output_type": "stream",
     "text": [
      "Segmentation time for image 154: 1.1769986152648926s\n"
     ]
    },
    {
     "name": "stderr",
     "output_type": "stream",
     "text": [
      "Segmentation progress::   3%|█▋                                                   | 155/4852 [04:20<2:17:01,  1.75s/it]"
     ]
    },
    {
     "name": "stdout",
     "output_type": "stream",
     "text": [
      "Segmentation time for image 155: 1.0656349658966064s\n"
     ]
    },
    {
     "name": "stderr",
     "output_type": "stream",
     "text": [
      "Segmentation progress::   3%|█▋                                                   | 156/4852 [04:22<2:18:28,  1.77s/it]"
     ]
    },
    {
     "name": "stdout",
     "output_type": "stream",
     "text": [
      "Segmentation time for image 156: 1.1598479747772217s\n"
     ]
    },
    {
     "name": "stderr",
     "output_type": "stream",
     "text": [
      "Segmentation progress::   3%|█▋                                                   | 157/4852 [04:24<2:22:39,  1.82s/it]"
     ]
    },
    {
     "name": "stdout",
     "output_type": "stream",
     "text": [
      "Segmentation time for image 157: 1.0814828872680664s\n"
     ]
    },
    {
     "name": "stderr",
     "output_type": "stream",
     "text": [
      "Segmentation progress::   3%|█▋                                                   | 158/4852 [04:25<2:20:44,  1.80s/it]"
     ]
    },
    {
     "name": "stdout",
     "output_type": "stream",
     "text": [
      "Segmentation time for image 158: 0.979607105255127s\n"
     ]
    },
    {
     "name": "stderr",
     "output_type": "stream",
     "text": [
      "Segmentation progress::   3%|█▋                                                   | 159/4852 [04:27<2:17:37,  1.76s/it]"
     ]
    },
    {
     "name": "stdout",
     "output_type": "stream",
     "text": [
      "Segmentation time for image 159: 0.9754385948181152s\n"
     ]
    },
    {
     "name": "stderr",
     "output_type": "stream",
     "text": [
      "Segmentation progress::   3%|█▋                                                   | 160/4852 [04:29<2:16:11,  1.74s/it]"
     ]
    },
    {
     "name": "stdout",
     "output_type": "stream",
     "text": [
      "Segmentation time for image 160: 1.0843255519866943s\n"
     ]
    },
    {
     "name": "stderr",
     "output_type": "stream",
     "text": [
      "Segmentation progress::   3%|█▊                                                   | 161/4852 [04:31<2:17:48,  1.76s/it]"
     ]
    },
    {
     "name": "stdout",
     "output_type": "stream",
     "text": [
      "Segmentation time for image 161: 1.9341304302215576s\n"
     ]
    },
    {
     "name": "stderr",
     "output_type": "stream",
     "text": [
      "Segmentation progress::   3%|█▊                                                   | 162/4852 [04:33<2:39:09,  2.04s/it]"
     ]
    },
    {
     "name": "stdout",
     "output_type": "stream",
     "text": [
      "Segmentation time for image 162: 1.072462797164917s\n"
     ]
    },
    {
     "name": "stderr",
     "output_type": "stream",
     "text": [
      "Segmentation progress::   3%|█▊                                                   | 163/4852 [04:35<2:31:54,  1.94s/it]"
     ]
    },
    {
     "name": "stdout",
     "output_type": "stream",
     "text": [
      "Segmentation time for image 163: 0.925177812576294s\n"
     ]
    },
    {
     "name": "stderr",
     "output_type": "stream",
     "text": [
      "Segmentation progress::   3%|█▊                                                   | 164/4852 [04:37<2:23:29,  1.84s/it]"
     ]
    },
    {
     "name": "stdout",
     "output_type": "stream",
     "text": [
      "Segmentation time for image 164: 1.1007351875305176s\n"
     ]
    },
    {
     "name": "stderr",
     "output_type": "stream",
     "text": [
      "Segmentation progress::   3%|█▊                                                   | 165/4852 [04:38<2:21:55,  1.82s/it]"
     ]
    },
    {
     "name": "stdout",
     "output_type": "stream",
     "text": [
      "Segmentation time for image 165: 1.0840940475463867s\n"
     ]
    },
    {
     "name": "stderr",
     "output_type": "stream",
     "text": [
      "Segmentation progress::   3%|█▊                                                   | 166/4852 [04:40<2:20:29,  1.80s/it]"
     ]
    },
    {
     "name": "stdout",
     "output_type": "stream",
     "text": [
      "Segmentation time for image 166: 1.0093483924865723s\n"
     ]
    },
    {
     "name": "stderr",
     "output_type": "stream",
     "text": [
      "Segmentation progress::   3%|█▊                                                   | 167/4852 [04:42<2:16:16,  1.75s/it]"
     ]
    },
    {
     "name": "stdout",
     "output_type": "stream",
     "text": [
      "Segmentation time for image 167: 0.8603777885437012s\n"
     ]
    },
    {
     "name": "stderr",
     "output_type": "stream",
     "text": [
      "Segmentation progress::   3%|█▊                                                   | 168/4852 [04:43<2:11:46,  1.69s/it]"
     ]
    },
    {
     "name": "stdout",
     "output_type": "stream",
     "text": [
      "Segmentation time for image 168: 1.112039566040039s\n"
     ]
    },
    {
     "name": "stderr",
     "output_type": "stream",
     "text": [
      "Segmentation progress::   3%|█▊                                                   | 169/4852 [04:45<2:15:48,  1.74s/it]"
     ]
    },
    {
     "name": "stdout",
     "output_type": "stream",
     "text": [
      "Segmentation time for image 169: 1.1301136016845703s\n"
     ]
    },
    {
     "name": "stderr",
     "output_type": "stream",
     "text": [
      "Segmentation progress::   4%|█▊                                                   | 170/4852 [04:47<2:18:33,  1.78s/it]"
     ]
    },
    {
     "name": "stdout",
     "output_type": "stream",
     "text": [
      "Segmentation time for image 170: 1.0086712837219238s\n"
     ]
    },
    {
     "name": "stderr",
     "output_type": "stream",
     "text": [
      "Segmentation progress::   4%|█▊                                                   | 171/4852 [04:49<2:16:06,  1.74s/it]"
     ]
    },
    {
     "name": "stdout",
     "output_type": "stream",
     "text": [
      "Segmentation time for image 171: 0.9754228591918945s\n"
     ]
    },
    {
     "name": "stderr",
     "output_type": "stream",
     "text": [
      "Segmentation progress::   4%|█▉                                                   | 172/4852 [04:50<2:13:33,  1.71s/it]"
     ]
    },
    {
     "name": "stdout",
     "output_type": "stream",
     "text": [
      "Segmentation time for image 172: 0.9442245960235596s\n"
     ]
    },
    {
     "name": "stderr",
     "output_type": "stream",
     "text": [
      "Segmentation progress::   4%|█▉                                                   | 173/4852 [04:52<2:11:26,  1.69s/it]"
     ]
    },
    {
     "name": "stdout",
     "output_type": "stream",
     "text": [
      "Segmentation time for image 173: 0.9896399974822998s\n"
     ]
    },
    {
     "name": "stderr",
     "output_type": "stream",
     "text": [
      "Segmentation progress::   4%|█▉                                                   | 174/4852 [04:54<2:10:52,  1.68s/it]"
     ]
    },
    {
     "name": "stdout",
     "output_type": "stream",
     "text": [
      "Segmentation time for image 174: 0.8998174667358398s\n"
     ]
    },
    {
     "name": "stderr",
     "output_type": "stream",
     "text": [
      "Segmentation progress::   4%|█▉                                                   | 175/4852 [04:55<2:07:36,  1.64s/it]"
     ]
    },
    {
     "name": "stdout",
     "output_type": "stream",
     "text": [
      "Segmentation time for image 175: 0.9504001140594482s\n"
     ]
    },
    {
     "name": "stderr",
     "output_type": "stream",
     "text": [
      "Segmentation progress::   4%|█▉                                                   | 176/4852 [04:57<2:07:33,  1.64s/it]"
     ]
    },
    {
     "name": "stdout",
     "output_type": "stream",
     "text": [
      "Segmentation time for image 176: 1.0413990020751953s\n"
     ]
    },
    {
     "name": "stderr",
     "output_type": "stream",
     "text": [
      "Segmentation progress::   4%|█▉                                                   | 177/4852 [04:58<2:08:51,  1.65s/it]"
     ]
    },
    {
     "name": "stdout",
     "output_type": "stream",
     "text": [
      "Segmentation time for image 177: 1.126863718032837s\n"
     ]
    },
    {
     "name": "stderr",
     "output_type": "stream",
     "text": [
      "Segmentation progress::   4%|█▉                                                   | 178/4852 [05:00<2:11:58,  1.69s/it]"
     ]
    },
    {
     "name": "stdout",
     "output_type": "stream",
     "text": [
      "Segmentation time for image 178: 1.0817561149597168s\n"
     ]
    },
    {
     "name": "stderr",
     "output_type": "stream",
     "text": [
      "Segmentation progress::   4%|█▉                                                   | 179/4852 [05:02<2:13:42,  1.72s/it]"
     ]
    },
    {
     "name": "stdout",
     "output_type": "stream",
     "text": [
      "Segmentation time for image 179: 1.0623083114624023s\n"
     ]
    },
    {
     "name": "stderr",
     "output_type": "stream",
     "text": [
      "Segmentation progress::   4%|█▉                                                   | 180/4852 [05:04<2:13:24,  1.71s/it]"
     ]
    },
    {
     "name": "stdout",
     "output_type": "stream",
     "text": [
      "Segmentation time for image 180: 1.001528024673462s\n"
     ]
    },
    {
     "name": "stderr",
     "output_type": "stream",
     "text": [
      "Segmentation progress::   4%|█▉                                                   | 181/4852 [05:05<2:12:49,  1.71s/it]"
     ]
    },
    {
     "name": "stdout",
     "output_type": "stream",
     "text": [
      "Segmentation time for image 181: 0.9535071849822998s\n"
     ]
    },
    {
     "name": "stderr",
     "output_type": "stream",
     "text": [
      "Segmentation progress::   4%|█▉                                                   | 182/4852 [05:07<2:09:44,  1.67s/it]"
     ]
    },
    {
     "name": "stdout",
     "output_type": "stream",
     "text": [
      "Segmentation time for image 182: 1.0427851676940918s\n"
     ]
    },
    {
     "name": "stderr",
     "output_type": "stream",
     "text": [
      "Segmentation progress::   4%|█▉                                                   | 183/4852 [05:09<2:09:05,  1.66s/it]"
     ]
    },
    {
     "name": "stdout",
     "output_type": "stream",
     "text": [
      "Segmentation time for image 183: 0.9716489315032959s\n"
     ]
    },
    {
     "name": "stderr",
     "output_type": "stream",
     "text": [
      "Segmentation progress::   4%|██                                                   | 184/4852 [05:10<2:09:29,  1.66s/it]"
     ]
    },
    {
     "name": "stdout",
     "output_type": "stream",
     "text": [
      "Segmentation time for image 184: 0.9919741153717041s\n"
     ]
    },
    {
     "name": "stderr",
     "output_type": "stream",
     "text": [
      "Segmentation progress::   4%|██                                                   | 185/4852 [05:12<2:09:20,  1.66s/it]"
     ]
    },
    {
     "name": "stdout",
     "output_type": "stream",
     "text": [
      "Segmentation time for image 185: 1.0296869277954102s\n"
     ]
    },
    {
     "name": "stderr",
     "output_type": "stream",
     "text": [
      "Segmentation progress::   4%|██                                                   | 186/4852 [05:14<2:12:19,  1.70s/it]"
     ]
    },
    {
     "name": "stdout",
     "output_type": "stream",
     "text": [
      "Segmentation time for image 186: 1.3240950107574463s\n"
     ]
    },
    {
     "name": "stderr",
     "output_type": "stream",
     "text": [
      "Segmentation progress::   4%|██                                                   | 187/4852 [05:16<2:20:14,  1.80s/it]"
     ]
    },
    {
     "name": "stdout",
     "output_type": "stream",
     "text": [
      "Segmentation time for image 187: 1.0972557067871094s\n"
     ]
    },
    {
     "name": "stderr",
     "output_type": "stream",
     "text": [
      "Segmentation progress::   4%|██                                                   | 188/4852 [05:18<2:19:24,  1.79s/it]"
     ]
    },
    {
     "name": "stdout",
     "output_type": "stream",
     "text": [
      "Segmentation time for image 188: 0.9632811546325684s\n"
     ]
    },
    {
     "name": "stderr",
     "output_type": "stream",
     "text": [
      "Segmentation progress::   4%|██                                                   | 189/4852 [05:19<2:16:18,  1.75s/it]"
     ]
    },
    {
     "name": "stdout",
     "output_type": "stream",
     "text": [
      "Segmentation time for image 189: 1.1701900959014893s\n"
     ]
    },
    {
     "name": "stderr",
     "output_type": "stream",
     "text": [
      "Segmentation progress::   4%|██                                                   | 190/4852 [05:21<2:18:42,  1.79s/it]"
     ]
    },
    {
     "name": "stdout",
     "output_type": "stream",
     "text": [
      "Segmentation time for image 190: 2.3570377826690674s\n"
     ]
    },
    {
     "name": "stderr",
     "output_type": "stream",
     "text": [
      "Segmentation progress::   4%|██                                                   | 191/4852 [05:24<2:48:34,  2.17s/it]"
     ]
    },
    {
     "name": "stdout",
     "output_type": "stream",
     "text": [
      "Segmentation time for image 191: 1.0353362560272217s\n"
     ]
    },
    {
     "name": "stderr",
     "output_type": "stream",
     "text": [
      "Segmentation progress::   4%|██                                                   | 192/4852 [05:26<2:37:47,  2.03s/it]"
     ]
    },
    {
     "name": "stdout",
     "output_type": "stream",
     "text": [
      "Segmentation time for image 192: 0.9316468238830566s\n"
     ]
    },
    {
     "name": "stderr",
     "output_type": "stream",
     "text": [
      "Segmentation progress::   4%|██                                                   | 193/4852 [05:27<2:27:13,  1.90s/it]"
     ]
    },
    {
     "name": "stdout",
     "output_type": "stream",
     "text": [
      "Segmentation time for image 193: 1.0117027759552002s\n"
     ]
    },
    {
     "name": "stderr",
     "output_type": "stream",
     "text": [
      "Segmentation progress::   4%|██                                                   | 194/4852 [05:29<2:21:38,  1.82s/it]"
     ]
    },
    {
     "name": "stdout",
     "output_type": "stream",
     "text": [
      "Segmentation time for image 194: 0.9375569820404053s\n"
     ]
    },
    {
     "name": "stderr",
     "output_type": "stream",
     "text": [
      "Segmentation progress::   4%|██▏                                                  | 195/4852 [05:31<2:14:44,  1.74s/it]"
     ]
    },
    {
     "name": "stdout",
     "output_type": "stream",
     "text": [
      "Segmentation time for image 195: 0.8496060371398926s\n"
     ]
    },
    {
     "name": "stderr",
     "output_type": "stream",
     "text": [
      "Segmentation progress::   4%|██▏                                                  | 196/4852 [05:32<2:07:30,  1.64s/it]"
     ]
    },
    {
     "name": "stdout",
     "output_type": "stream",
     "text": [
      "Segmentation time for image 196: 0.8400177955627441s\n"
     ]
    },
    {
     "name": "stderr",
     "output_type": "stream",
     "text": [
      "Segmentation progress::   4%|██▏                                                  | 197/4852 [05:33<2:02:16,  1.58s/it]"
     ]
    },
    {
     "name": "stdout",
     "output_type": "stream",
     "text": [
      "Segmentation time for image 197: 0.8205788135528564s\n"
     ]
    },
    {
     "name": "stderr",
     "output_type": "stream",
     "text": [
      "Segmentation progress::   4%|██▏                                                  | 198/4852 [05:35<1:57:22,  1.51s/it]"
     ]
    },
    {
     "name": "stdout",
     "output_type": "stream",
     "text": [
      "Segmentation time for image 198: 0.9249587059020996s\n"
     ]
    },
    {
     "name": "stderr",
     "output_type": "stream",
     "text": [
      "Segmentation progress::   4%|██▏                                                  | 199/4852 [05:36<1:57:10,  1.51s/it]"
     ]
    },
    {
     "name": "stdout",
     "output_type": "stream",
     "text": [
      "Segmentation time for image 199: 0.8286871910095215s\n"
     ]
    },
    {
     "name": "stderr",
     "output_type": "stream",
     "text": [
      "Segmentation progress::   4%|██▏                                                  | 200/4852 [05:38<1:54:44,  1.48s/it]"
     ]
    },
    {
     "name": "stdout",
     "output_type": "stream",
     "text": [
      "Segmentation time for image 200: 0.8304493427276611s\n"
     ]
    },
    {
     "name": "stderr",
     "output_type": "stream",
     "text": [
      "Segmentation progress::   4%|██▏                                                  | 201/4852 [05:39<1:53:48,  1.47s/it]"
     ]
    },
    {
     "name": "stdout",
     "output_type": "stream",
     "text": [
      "Segmentation time for image 201: 0.7340116500854492s\n"
     ]
    },
    {
     "name": "stderr",
     "output_type": "stream",
     "text": [
      "Segmentation progress::   4%|██▏                                                  | 202/4852 [05:41<1:49:46,  1.42s/it]"
     ]
    },
    {
     "name": "stdout",
     "output_type": "stream",
     "text": [
      "Segmentation time for image 202: 0.7909829616546631s\n"
     ]
    },
    {
     "name": "stderr",
     "output_type": "stream",
     "text": [
      "Segmentation progress::   4%|██▏                                                  | 203/4852 [05:42<1:47:36,  1.39s/it]"
     ]
    },
    {
     "name": "stdout",
     "output_type": "stream",
     "text": [
      "Segmentation time for image 203: 0.7601590156555176s\n"
     ]
    },
    {
     "name": "stderr",
     "output_type": "stream",
     "text": [
      "Segmentation progress::   4%|██▏                                                  | 204/4852 [05:43<1:46:15,  1.37s/it]"
     ]
    },
    {
     "name": "stdout",
     "output_type": "stream",
     "text": [
      "Segmentation time for image 204: 0.8097467422485352s\n"
     ]
    },
    {
     "name": "stderr",
     "output_type": "stream",
     "text": [
      "Segmentation progress::   4%|██▏                                                  | 205/4852 [05:45<1:46:23,  1.37s/it]"
     ]
    },
    {
     "name": "stdout",
     "output_type": "stream",
     "text": [
      "Segmentation time for image 205: 0.7796046733856201s\n"
     ]
    },
    {
     "name": "stderr",
     "output_type": "stream",
     "text": [
      "Segmentation progress::   4%|██▎                                                  | 206/4852 [05:46<1:47:01,  1.38s/it]"
     ]
    },
    {
     "name": "stdout",
     "output_type": "stream",
     "text": [
      "Segmentation time for image 206: 0.9710128307342529s\n"
     ]
    },
    {
     "name": "stderr",
     "output_type": "stream",
     "text": [
      "Segmentation progress::   4%|██▎                                                  | 207/4852 [05:48<1:52:45,  1.46s/it]"
     ]
    },
    {
     "name": "stdout",
     "output_type": "stream",
     "text": [
      "Segmentation time for image 207: 1.1165072917938232s\n"
     ]
    },
    {
     "name": "stderr",
     "output_type": "stream",
     "text": [
      "Segmentation progress::   4%|██▎                                                  | 208/4852 [05:49<2:02:52,  1.59s/it]"
     ]
    },
    {
     "name": "stdout",
     "output_type": "stream",
     "text": [
      "Segmentation time for image 208: 1.031942367553711s\n"
     ]
    },
    {
     "name": "stderr",
     "output_type": "stream",
     "text": [
      "Segmentation progress::   4%|██▎                                                  | 209/4852 [05:51<2:05:33,  1.62s/it]"
     ]
    },
    {
     "name": "stdout",
     "output_type": "stream",
     "text": [
      "Segmentation time for image 209: 1.1397242546081543s\n"
     ]
    },
    {
     "name": "stderr",
     "output_type": "stream",
     "text": [
      "Segmentation progress::   4%|██▎                                                  | 210/4852 [05:53<2:10:08,  1.68s/it]"
     ]
    },
    {
     "name": "stdout",
     "output_type": "stream",
     "text": [
      "Segmentation time for image 210: 1.079448938369751s\n"
     ]
    },
    {
     "name": "stderr",
     "output_type": "stream",
     "text": [
      "Segmentation progress::   4%|██▎                                                  | 211/4852 [05:55<2:12:21,  1.71s/it]"
     ]
    },
    {
     "name": "stdout",
     "output_type": "stream",
     "text": [
      "Segmentation time for image 211: 1.1494057178497314s\n"
     ]
    },
    {
     "name": "stderr",
     "output_type": "stream",
     "text": [
      "Segmentation progress::   4%|██▎                                                  | 212/4852 [05:57<2:15:20,  1.75s/it]"
     ]
    },
    {
     "name": "stdout",
     "output_type": "stream",
     "text": [
      "Segmentation time for image 212: 0.9195332527160645s\n"
     ]
    },
    {
     "name": "stderr",
     "output_type": "stream",
     "text": [
      "Segmentation progress::   4%|██▎                                                  | 213/4852 [05:58<2:12:05,  1.71s/it]"
     ]
    },
    {
     "name": "stdout",
     "output_type": "stream",
     "text": [
      "Segmentation time for image 213: 0.9173824787139893s\n"
     ]
    },
    {
     "name": "stderr",
     "output_type": "stream",
     "text": [
      "Segmentation progress::   4%|██▎                                                  | 214/4852 [06:00<2:09:15,  1.67s/it]"
     ]
    },
    {
     "name": "stdout",
     "output_type": "stream",
     "text": [
      "Segmentation time for image 214: 1.0419576168060303s\n"
     ]
    },
    {
     "name": "stderr",
     "output_type": "stream",
     "text": [
      "Segmentation progress::   4%|██▎                                                  | 215/4852 [06:02<2:13:23,  1.73s/it]"
     ]
    },
    {
     "name": "stdout",
     "output_type": "stream",
     "text": [
      "Segmentation time for image 215: 1.293623447418213s\n"
     ]
    },
    {
     "name": "stderr",
     "output_type": "stream",
     "text": [
      "Segmentation progress::   4%|██▎                                                  | 216/4852 [06:04<2:21:44,  1.83s/it]"
     ]
    },
    {
     "name": "stdout",
     "output_type": "stream",
     "text": [
      "Segmentation time for image 216: 1.099782943725586s\n"
     ]
    },
    {
     "name": "stderr",
     "output_type": "stream",
     "text": [
      "Segmentation progress::   4%|██▎                                                  | 217/4852 [06:05<2:19:32,  1.81s/it]"
     ]
    },
    {
     "name": "stdout",
     "output_type": "stream",
     "text": [
      "Segmentation time for image 217: 1.158182144165039s\n"
     ]
    },
    {
     "name": "stderr",
     "output_type": "stream",
     "text": [
      "Segmentation progress::   4%|██▍                                                  | 218/4852 [06:07<2:18:26,  1.79s/it]"
     ]
    },
    {
     "name": "stdout",
     "output_type": "stream",
     "text": [
      "Segmentation time for image 218: 0.9652659893035889s\n"
     ]
    },
    {
     "name": "stderr",
     "output_type": "stream",
     "text": [
      "Segmentation progress::   5%|██▍                                                  | 219/4852 [06:09<2:14:52,  1.75s/it]"
     ]
    },
    {
     "name": "stdout",
     "output_type": "stream",
     "text": [
      "Segmentation time for image 219: 0.9950032234191895s\n"
     ]
    },
    {
     "name": "stderr",
     "output_type": "stream",
     "text": [
      "Segmentation progress::   5%|██▍                                                  | 220/4852 [06:11<2:15:02,  1.75s/it]"
     ]
    },
    {
     "name": "stdout",
     "output_type": "stream",
     "text": [
      "Segmentation time for image 220: 1.163416862487793s\n"
     ]
    },
    {
     "name": "stderr",
     "output_type": "stream",
     "text": [
      "Segmentation progress::   5%|██▍                                                  | 221/4852 [06:12<2:17:13,  1.78s/it]"
     ]
    },
    {
     "name": "stdout",
     "output_type": "stream",
     "text": [
      "Segmentation time for image 221: 1.0606012344360352s\n"
     ]
    },
    {
     "name": "stderr",
     "output_type": "stream",
     "text": [
      "Segmentation progress::   5%|██▍                                                  | 222/4852 [06:16<2:51:16,  2.22s/it]"
     ]
    },
    {
     "name": "stdout",
     "output_type": "stream",
     "text": [
      "Segmentation time for image 222: 0.9560527801513672s\n"
     ]
    },
    {
     "name": "stderr",
     "output_type": "stream",
     "text": [
      "Segmentation progress::   5%|██▍                                                  | 223/4852 [06:17<2:40:19,  2.08s/it]"
     ]
    },
    {
     "name": "stdout",
     "output_type": "stream",
     "text": [
      "Segmentation time for image 223: 1.1743066310882568s\n"
     ]
    },
    {
     "name": "stderr",
     "output_type": "stream",
     "text": [
      "Segmentation progress::   5%|██▍                                                  | 224/4852 [06:19<2:34:15,  2.00s/it]"
     ]
    },
    {
     "name": "stdout",
     "output_type": "stream",
     "text": [
      "Segmentation time for image 224: 1.2622158527374268s\n"
     ]
    },
    {
     "name": "stderr",
     "output_type": "stream",
     "text": [
      "Segmentation progress::   5%|██▍                                                  | 225/4852 [06:21<2:33:23,  1.99s/it]"
     ]
    },
    {
     "name": "stdout",
     "output_type": "stream",
     "text": [
      "Segmentation time for image 225: 0.9244203567504883s\n"
     ]
    },
    {
     "name": "stderr",
     "output_type": "stream",
     "text": [
      "Segmentation progress::   5%|██▍                                                  | 226/4852 [06:23<2:27:57,  1.92s/it]"
     ]
    },
    {
     "name": "stdout",
     "output_type": "stream",
     "text": [
      "Segmentation time for image 226: 1.0443363189697266s\n"
     ]
    },
    {
     "name": "stderr",
     "output_type": "stream",
     "text": [
      "Segmentation progress::   5%|██▍                                                  | 227/4852 [06:25<2:26:17,  1.90s/it]"
     ]
    },
    {
     "name": "stdout",
     "output_type": "stream",
     "text": [
      "Segmentation time for image 227: 1.2102453708648682s\n"
     ]
    },
    {
     "name": "stderr",
     "output_type": "stream",
     "text": [
      "Segmentation progress::   5%|██▍                                                  | 228/4852 [06:27<2:24:16,  1.87s/it]"
     ]
    },
    {
     "name": "stdout",
     "output_type": "stream",
     "text": [
      "Segmentation time for image 228: 0.931481122970581s\n"
     ]
    },
    {
     "name": "stderr",
     "output_type": "stream",
     "text": [
      "Segmentation progress::   5%|██▌                                                  | 229/4852 [06:28<2:22:58,  1.86s/it]"
     ]
    },
    {
     "name": "stdout",
     "output_type": "stream",
     "text": [
      "Segmentation time for image 229: 0.9367117881774902s\n"
     ]
    },
    {
     "name": "stderr",
     "output_type": "stream",
     "text": [
      "Segmentation progress::   5%|██▌                                                  | 230/4852 [06:30<2:16:10,  1.77s/it]"
     ]
    },
    {
     "name": "stdout",
     "output_type": "stream",
     "text": [
      "Segmentation time for image 230: 0.9277517795562744s\n"
     ]
    },
    {
     "name": "stderr",
     "output_type": "stream",
     "text": [
      "Segmentation progress::   5%|██▌                                                  | 231/4852 [06:32<2:13:51,  1.74s/it]"
     ]
    },
    {
     "name": "stdout",
     "output_type": "stream",
     "text": [
      "Segmentation time for image 231: 1.0951578617095947s\n"
     ]
    },
    {
     "name": "stderr",
     "output_type": "stream",
     "text": [
      "Segmentation progress::   5%|██▌                                                  | 232/4852 [06:33<2:14:14,  1.74s/it]"
     ]
    },
    {
     "name": "stdout",
     "output_type": "stream",
     "text": [
      "Segmentation time for image 232: 1.0987555980682373s\n"
     ]
    },
    {
     "name": "stderr",
     "output_type": "stream",
     "text": [
      "Segmentation progress::   5%|██▌                                                  | 233/4852 [06:35<2:15:17,  1.76s/it]"
     ]
    },
    {
     "name": "stdout",
     "output_type": "stream",
     "text": [
      "Segmentation time for image 233: 1.0114967823028564s\n"
     ]
    },
    {
     "name": "stderr",
     "output_type": "stream",
     "text": [
      "Segmentation progress::   5%|██▌                                                  | 234/4852 [06:37<2:12:49,  1.73s/it]"
     ]
    },
    {
     "name": "stdout",
     "output_type": "stream",
     "text": [
      "Segmentation time for image 234: 0.8494298458099365s\n"
     ]
    },
    {
     "name": "stderr",
     "output_type": "stream",
     "text": [
      "Segmentation progress::   5%|██▌                                                  | 235/4852 [06:38<2:05:45,  1.63s/it]"
     ]
    },
    {
     "name": "stdout",
     "output_type": "stream",
     "text": [
      "Segmentation time for image 235: 1.1674673557281494s\n"
     ]
    },
    {
     "name": "stderr",
     "output_type": "stream",
     "text": [
      "Segmentation progress::   5%|██▌                                                  | 236/4852 [06:40<2:15:01,  1.76s/it]"
     ]
    },
    {
     "name": "stdout",
     "output_type": "stream",
     "text": [
      "Segmentation time for image 236: 1.0475692749023438s\n"
     ]
    },
    {
     "name": "stderr",
     "output_type": "stream",
     "text": [
      "Segmentation progress::   5%|██▌                                                  | 237/4852 [06:42<2:12:34,  1.72s/it]"
     ]
    },
    {
     "name": "stdout",
     "output_type": "stream",
     "text": [
      "Segmentation time for image 237: 0.8600835800170898s\n"
     ]
    },
    {
     "name": "stderr",
     "output_type": "stream",
     "text": [
      "Segmentation progress::   5%|██▌                                                  | 238/4852 [06:43<2:05:32,  1.63s/it]"
     ]
    },
    {
     "name": "stdout",
     "output_type": "stream",
     "text": [
      "Segmentation time for image 238: 0.8196136951446533s\n"
     ]
    },
    {
     "name": "stderr",
     "output_type": "stream",
     "text": [
      "Segmentation progress::   5%|██▌                                                  | 239/4852 [06:45<1:59:13,  1.55s/it]"
     ]
    },
    {
     "name": "stdout",
     "output_type": "stream",
     "text": [
      "Segmentation time for image 239: 0.9601554870605469s\n"
     ]
    },
    {
     "name": "stderr",
     "output_type": "stream",
     "text": [
      "Segmentation progress::   5%|██▌                                                  | 240/4852 [06:46<1:58:57,  1.55s/it]"
     ]
    },
    {
     "name": "stdout",
     "output_type": "stream",
     "text": [
      "Segmentation time for image 240: 0.7296445369720459s\n"
     ]
    },
    {
     "name": "stderr",
     "output_type": "stream",
     "text": [
      "Segmentation progress::   5%|██▋                                                  | 241/4852 [06:48<1:53:31,  1.48s/it]"
     ]
    },
    {
     "name": "stdout",
     "output_type": "stream",
     "text": [
      "Segmentation time for image 241: 0.7273762226104736s\n"
     ]
    },
    {
     "name": "stderr",
     "output_type": "stream",
     "text": [
      "Segmentation progress::   5%|██▋                                                  | 242/4852 [06:49<1:48:45,  1.42s/it]"
     ]
    },
    {
     "name": "stdout",
     "output_type": "stream",
     "text": [
      "Segmentation time for image 242: 0.7650983333587646s\n"
     ]
    },
    {
     "name": "stderr",
     "output_type": "stream",
     "text": [
      "Segmentation progress::   5%|██▋                                                  | 243/4852 [06:50<1:46:59,  1.39s/it]"
     ]
    },
    {
     "name": "stdout",
     "output_type": "stream",
     "text": [
      "Segmentation time for image 243: 0.7852270603179932s\n"
     ]
    },
    {
     "name": "stderr",
     "output_type": "stream",
     "text": [
      "Segmentation progress::   5%|██▋                                                  | 244/4852 [06:52<1:46:34,  1.39s/it]"
     ]
    },
    {
     "name": "stdout",
     "output_type": "stream",
     "text": [
      "Segmentation time for image 244: 0.8796224594116211s\n"
     ]
    },
    {
     "name": "stderr",
     "output_type": "stream",
     "text": [
      "Segmentation progress::   5%|██▋                                                  | 245/4852 [06:53<1:47:15,  1.40s/it]"
     ]
    },
    {
     "name": "stdout",
     "output_type": "stream",
     "text": [
      "Segmentation time for image 245: 0.7746529579162598s\n"
     ]
    },
    {
     "name": "stderr",
     "output_type": "stream",
     "text": [
      "Segmentation progress::   5%|██▋                                                  | 246/4852 [06:54<1:45:16,  1.37s/it]"
     ]
    },
    {
     "name": "stdout",
     "output_type": "stream",
     "text": [
      "Segmentation time for image 246: 0.9101438522338867s\n"
     ]
    },
    {
     "name": "stderr",
     "output_type": "stream",
     "text": [
      "Segmentation progress::   5%|██▋                                                  | 247/4852 [06:56<1:50:21,  1.44s/it]"
     ]
    },
    {
     "name": "stdout",
     "output_type": "stream",
     "text": [
      "Segmentation time for image 247: 0.7864246368408203s\n"
     ]
    },
    {
     "name": "stderr",
     "output_type": "stream",
     "text": [
      "Segmentation progress::   5%|██▋                                                  | 248/4852 [06:57<1:48:27,  1.41s/it]"
     ]
    },
    {
     "name": "stdout",
     "output_type": "stream",
     "text": [
      "Segmentation time for image 248: 0.8197324275970459s\n"
     ]
    },
    {
     "name": "stderr",
     "output_type": "stream",
     "text": [
      "Segmentation progress::   5%|██▋                                                  | 249/4852 [06:59<1:47:12,  1.40s/it]"
     ]
    },
    {
     "name": "stdout",
     "output_type": "stream",
     "text": [
      "Segmentation time for image 249: 0.7197263240814209s\n"
     ]
    },
    {
     "name": "stderr",
     "output_type": "stream",
     "text": [
      "Segmentation progress::   5%|██▋                                                  | 250/4852 [07:00<1:44:40,  1.36s/it]"
     ]
    },
    {
     "name": "stdout",
     "output_type": "stream",
     "text": [
      "Segmentation time for image 250: 0.7247622013092041s\n"
     ]
    },
    {
     "name": "stderr",
     "output_type": "stream",
     "text": [
      "Segmentation progress::   5%|██▋                                                  | 251/4852 [07:01<1:43:18,  1.35s/it]"
     ]
    },
    {
     "name": "stdout",
     "output_type": "stream",
     "text": [
      "Segmentation time for image 251: 0.9963922500610352s\n"
     ]
    },
    {
     "name": "stderr",
     "output_type": "stream",
     "text": [
      "Segmentation progress::   5%|██▊                                                  | 252/4852 [07:03<1:49:14,  1.42s/it]"
     ]
    },
    {
     "name": "stdout",
     "output_type": "stream",
     "text": [
      "Segmentation time for image 252: 0.8705887794494629s\n"
     ]
    },
    {
     "name": "stderr",
     "output_type": "stream",
     "text": [
      "Segmentation progress::   5%|██▊                                                  | 253/4852 [07:04<1:50:23,  1.44s/it]"
     ]
    },
    {
     "name": "stdout",
     "output_type": "stream",
     "text": [
      "Segmentation time for image 253: 1.3320636749267578s\n"
     ]
    },
    {
     "name": "stderr",
     "output_type": "stream",
     "text": [
      "Segmentation progress::   5%|██▊                                                  | 254/4852 [07:06<2:05:18,  1.64s/it]"
     ]
    },
    {
     "name": "stdout",
     "output_type": "stream",
     "text": [
      "Segmentation time for image 254: 1.21634840965271s\n"
     ]
    },
    {
     "name": "stderr",
     "output_type": "stream",
     "text": [
      "Segmentation progress::   5%|██▊                                                  | 255/4852 [07:08<2:09:23,  1.69s/it]"
     ]
    },
    {
     "name": "stdout",
     "output_type": "stream",
     "text": [
      "Segmentation time for image 255: 0.8539812564849854s\n"
     ]
    },
    {
     "name": "stderr",
     "output_type": "stream",
     "text": [
      "Segmentation progress::   5%|██▊                                                  | 256/4852 [07:10<2:03:37,  1.61s/it]"
     ]
    },
    {
     "name": "stdout",
     "output_type": "stream",
     "text": [
      "Segmentation time for image 256: 0.8002800941467285s\n"
     ]
    },
    {
     "name": "stderr",
     "output_type": "stream",
     "text": [
      "Segmentation progress::   5%|██▊                                                  | 257/4852 [07:11<1:58:13,  1.54s/it]"
     ]
    },
    {
     "name": "stdout",
     "output_type": "stream",
     "text": [
      "Segmentation time for image 257: 2.1094467639923096s\n"
     ]
    },
    {
     "name": "stderr",
     "output_type": "stream",
     "text": [
      "Segmentation progress::   5%|██▊                                                  | 258/4852 [07:14<2:22:27,  1.86s/it]"
     ]
    },
    {
     "name": "stdout",
     "output_type": "stream",
     "text": [
      "Segmentation time for image 258: 0.8892331123352051s\n"
     ]
    },
    {
     "name": "stderr",
     "output_type": "stream",
     "text": [
      "Segmentation progress::   5%|██▊                                                  | 259/4852 [07:15<2:11:56,  1.72s/it]"
     ]
    },
    {
     "name": "stdout",
     "output_type": "stream",
     "text": [
      "Segmentation time for image 259: 0.693455696105957s\n"
     ]
    },
    {
     "name": "stderr",
     "output_type": "stream",
     "text": [
      "Segmentation progress::   5%|██▊                                                  | 260/4852 [07:16<2:01:03,  1.58s/it]"
     ]
    },
    {
     "name": "stdout",
     "output_type": "stream",
     "text": [
      "Segmentation time for image 260: 0.8286929130554199s\n"
     ]
    },
    {
     "name": "stderr",
     "output_type": "stream",
     "text": [
      "Segmentation progress::   5%|██▊                                                  | 261/4852 [07:18<1:59:02,  1.56s/it]"
     ]
    },
    {
     "name": "stdout",
     "output_type": "stream",
     "text": [
      "Segmentation time for image 261: 0.9470067024230957s\n"
     ]
    },
    {
     "name": "stderr",
     "output_type": "stream",
     "text": [
      "Segmentation progress::   5%|██▊                                                  | 262/4852 [07:19<1:58:11,  1.54s/it]"
     ]
    },
    {
     "name": "stdout",
     "output_type": "stream",
     "text": [
      "Segmentation time for image 262: 0.8449480533599854s\n"
     ]
    },
    {
     "name": "stderr",
     "output_type": "stream",
     "text": [
      "Segmentation progress::   5%|██▊                                                  | 263/4852 [07:21<1:56:54,  1.53s/it]"
     ]
    },
    {
     "name": "stdout",
     "output_type": "stream",
     "text": [
      "Segmentation time for image 263: 1.0422732830047607s\n"
     ]
    },
    {
     "name": "stderr",
     "output_type": "stream",
     "text": [
      "Segmentation progress::   5%|██▉                                                  | 264/4852 [07:22<1:59:16,  1.56s/it]"
     ]
    },
    {
     "name": "stdout",
     "output_type": "stream",
     "text": [
      "Segmentation time for image 264: 0.8447751998901367s\n"
     ]
    },
    {
     "name": "stderr",
     "output_type": "stream",
     "text": [
      "Segmentation progress::   5%|██▉                                                  | 265/4852 [07:24<1:57:20,  1.53s/it]"
     ]
    },
    {
     "name": "stdout",
     "output_type": "stream",
     "text": [
      "Segmentation time for image 265: 0.881873369216919s\n"
     ]
    },
    {
     "name": "stderr",
     "output_type": "stream",
     "text": [
      "Segmentation progress::   5%|██▉                                                  | 266/4852 [07:25<1:55:49,  1.52s/it]"
     ]
    },
    {
     "name": "stdout",
     "output_type": "stream",
     "text": [
      "Segmentation time for image 266: 0.7810373306274414s\n"
     ]
    },
    {
     "name": "stderr",
     "output_type": "stream",
     "text": [
      "Segmentation progress::   6%|██▉                                                  | 267/4852 [07:27<1:51:28,  1.46s/it]"
     ]
    },
    {
     "name": "stdout",
     "output_type": "stream",
     "text": [
      "Segmentation time for image 267: 0.7766749858856201s\n"
     ]
    },
    {
     "name": "stderr",
     "output_type": "stream",
     "text": [
      "Segmentation progress::   6%|██▉                                                  | 268/4852 [07:28<1:51:19,  1.46s/it]"
     ]
    },
    {
     "name": "stdout",
     "output_type": "stream",
     "text": [
      "Segmentation time for image 268: 0.9449877738952637s\n"
     ]
    },
    {
     "name": "stderr",
     "output_type": "stream",
     "text": [
      "Segmentation progress::   6%|██▉                                                  | 269/4852 [07:30<1:53:39,  1.49s/it]"
     ]
    },
    {
     "name": "stdout",
     "output_type": "stream",
     "text": [
      "Segmentation time for image 269: 0.755120038986206s\n"
     ]
    },
    {
     "name": "stderr",
     "output_type": "stream",
     "text": [
      "Segmentation progress::   6%|██▉                                                  | 270/4852 [07:31<1:49:50,  1.44s/it]"
     ]
    },
    {
     "name": "stdout",
     "output_type": "stream",
     "text": [
      "Segmentation time for image 270: 0.824042558670044s\n"
     ]
    },
    {
     "name": "stderr",
     "output_type": "stream",
     "text": [
      "Segmentation progress::   6%|██▉                                                  | 271/4852 [07:32<1:48:22,  1.42s/it]"
     ]
    },
    {
     "name": "stdout",
     "output_type": "stream",
     "text": [
      "Segmentation time for image 271: 0.7570381164550781s\n"
     ]
    },
    {
     "name": "stderr",
     "output_type": "stream",
     "text": [
      "Segmentation progress::   6%|██▉                                                  | 272/4852 [07:34<1:47:16,  1.41s/it]"
     ]
    },
    {
     "name": "stdout",
     "output_type": "stream",
     "text": [
      "Segmentation time for image 272: 0.7400209903717041s\n"
     ]
    },
    {
     "name": "stderr",
     "output_type": "stream",
     "text": [
      "Segmentation progress::   6%|██▉                                                  | 273/4852 [07:35<1:46:40,  1.40s/it]"
     ]
    },
    {
     "name": "stdout",
     "output_type": "stream",
     "text": [
      "Segmentation time for image 273: 0.7114732265472412s\n"
     ]
    },
    {
     "name": "stderr",
     "output_type": "stream",
     "text": [
      "Segmentation progress::   6%|██▉                                                  | 274/4852 [07:36<1:43:29,  1.36s/it]"
     ]
    },
    {
     "name": "stdout",
     "output_type": "stream",
     "text": [
      "Segmentation time for image 274: 0.858860969543457s\n"
     ]
    },
    {
     "name": "stderr",
     "output_type": "stream",
     "text": [
      "Segmentation progress::   6%|███                                                  | 275/4852 [07:38<1:44:14,  1.37s/it]"
     ]
    },
    {
     "name": "stdout",
     "output_type": "stream",
     "text": [
      "Segmentation time for image 275: 0.9195332527160645s\n"
     ]
    },
    {
     "name": "stderr",
     "output_type": "stream",
     "text": [
      "Segmentation progress::   6%|███                                                  | 276/4852 [07:39<1:49:05,  1.43s/it]"
     ]
    },
    {
     "name": "stdout",
     "output_type": "stream",
     "text": [
      "Segmentation time for image 276: 0.7647206783294678s\n"
     ]
    },
    {
     "name": "stderr",
     "output_type": "stream",
     "text": [
      "Segmentation progress::   6%|███                                                  | 277/4852 [07:41<1:47:14,  1.41s/it]"
     ]
    },
    {
     "name": "stdout",
     "output_type": "stream",
     "text": [
      "Segmentation time for image 277: 0.8096768856048584s\n"
     ]
    },
    {
     "name": "stderr",
     "output_type": "stream",
     "text": [
      "Segmentation progress::   6%|███                                                  | 278/4852 [07:42<1:46:43,  1.40s/it]"
     ]
    },
    {
     "name": "stdout",
     "output_type": "stream",
     "text": [
      "Segmentation time for image 278: 0.7698957920074463s\n"
     ]
    },
    {
     "name": "stderr",
     "output_type": "stream",
     "text": [
      "Segmentation progress::   6%|███                                                  | 279/4852 [07:44<1:45:53,  1.39s/it]"
     ]
    },
    {
     "name": "stdout",
     "output_type": "stream",
     "text": [
      "Segmentation time for image 279: 0.9798438549041748s\n"
     ]
    },
    {
     "name": "stderr",
     "output_type": "stream",
     "text": [
      "Segmentation progress::   6%|███                                                  | 280/4852 [07:45<1:50:30,  1.45s/it]"
     ]
    },
    {
     "name": "stdout",
     "output_type": "stream",
     "text": [
      "Segmentation time for image 280: 0.8292880058288574s\n"
     ]
    },
    {
     "name": "stderr",
     "output_type": "stream",
     "text": [
      "Segmentation progress::   6%|███                                                  | 281/4852 [07:47<1:49:17,  1.43s/it]"
     ]
    },
    {
     "name": "stdout",
     "output_type": "stream",
     "text": [
      "Segmentation time for image 281: 0.7845284938812256s\n"
     ]
    },
    {
     "name": "stderr",
     "output_type": "stream",
     "text": [
      "Segmentation progress::   6%|███                                                  | 282/4852 [07:48<1:47:57,  1.42s/it]"
     ]
    },
    {
     "name": "stdout",
     "output_type": "stream",
     "text": [
      "Segmentation time for image 282: 1.0806725025177002s\n"
     ]
    },
    {
     "name": "stderr",
     "output_type": "stream",
     "text": [
      "Segmentation progress::   6%|███                                                  | 283/4852 [07:50<2:00:28,  1.58s/it]"
     ]
    },
    {
     "name": "stdout",
     "output_type": "stream",
     "text": [
      "Segmentation time for image 283: 1.0604572296142578s\n"
     ]
    },
    {
     "name": "stderr",
     "output_type": "stream",
     "text": [
      "Segmentation progress::   6%|███                                                  | 284/4852 [07:52<2:01:13,  1.59s/it]"
     ]
    },
    {
     "name": "stdout",
     "output_type": "stream",
     "text": [
      "Segmentation time for image 284: 0.7701156139373779s\n"
     ]
    },
    {
     "name": "stderr",
     "output_type": "stream",
     "text": [
      "Segmentation progress::   6%|███                                                  | 285/4852 [07:53<1:54:18,  1.50s/it]"
     ]
    },
    {
     "name": "stdout",
     "output_type": "stream",
     "text": [
      "Segmentation time for image 285: 0.7494356632232666s\n"
     ]
    },
    {
     "name": "stderr",
     "output_type": "stream",
     "text": [
      "Segmentation progress::   6%|███                                                  | 286/4852 [07:54<1:49:15,  1.44s/it]"
     ]
    },
    {
     "name": "stdout",
     "output_type": "stream",
     "text": [
      "Segmentation time for image 286: 0.8018779754638672s\n"
     ]
    },
    {
     "name": "stderr",
     "output_type": "stream",
     "text": [
      "Segmentation progress::   6%|███▏                                                 | 287/4852 [07:55<1:47:54,  1.42s/it]"
     ]
    },
    {
     "name": "stdout",
     "output_type": "stream",
     "text": [
      "Segmentation time for image 287: 0.8198671340942383s\n"
     ]
    },
    {
     "name": "stderr",
     "output_type": "stream",
     "text": [
      "Segmentation progress::   6%|███▏                                                 | 288/4852 [07:57<1:47:31,  1.41s/it]"
     ]
    },
    {
     "name": "stdout",
     "output_type": "stream",
     "text": [
      "Segmentation time for image 288: 0.6831996440887451s\n"
     ]
    },
    {
     "name": "stderr",
     "output_type": "stream",
     "text": [
      "Segmentation progress::   6%|███▏                                                 | 289/4852 [07:58<1:43:57,  1.37s/it]"
     ]
    },
    {
     "name": "stdout",
     "output_type": "stream",
     "text": [
      "Segmentation time for image 289: 0.8246657848358154s\n"
     ]
    },
    {
     "name": "stderr",
     "output_type": "stream",
     "text": [
      "Segmentation progress::   6%|███▏                                                 | 290/4852 [08:00<1:45:07,  1.38s/it]"
     ]
    },
    {
     "name": "stdout",
     "output_type": "stream",
     "text": [
      "Segmentation time for image 290: 0.9650931358337402s\n"
     ]
    },
    {
     "name": "stderr",
     "output_type": "stream",
     "text": [
      "Segmentation progress::   6%|███▏                                                 | 291/4852 [08:01<1:49:36,  1.44s/it]"
     ]
    },
    {
     "name": "stdout",
     "output_type": "stream",
     "text": [
      "Segmentation time for image 291: 0.6949038505554199s\n"
     ]
    },
    {
     "name": "stderr",
     "output_type": "stream",
     "text": [
      "Segmentation progress::   6%|███▏                                                 | 292/4852 [08:02<1:45:12,  1.38s/it]"
     ]
    },
    {
     "name": "stdout",
     "output_type": "stream",
     "text": [
      "Segmentation time for image 292: 0.7296652793884277s\n"
     ]
    },
    {
     "name": "stderr",
     "output_type": "stream",
     "text": [
      "Segmentation progress::   6%|███▏                                                 | 293/4852 [08:04<1:42:51,  1.35s/it]"
     ]
    },
    {
     "name": "stdout",
     "output_type": "stream",
     "text": [
      "Segmentation time for image 293: 0.6900596618652344s\n"
     ]
    },
    {
     "name": "stderr",
     "output_type": "stream",
     "text": [
      "Segmentation progress::   6%|███▏                                                 | 294/4852 [08:05<1:41:17,  1.33s/it]"
     ]
    },
    {
     "name": "stdout",
     "output_type": "stream",
     "text": [
      "Segmentation time for image 294: 0.8350770473480225s\n"
     ]
    },
    {
     "name": "stderr",
     "output_type": "stream",
     "text": [
      "Segmentation progress::   6%|███▏                                                 | 295/4852 [08:06<1:43:38,  1.36s/it]"
     ]
    },
    {
     "name": "stdout",
     "output_type": "stream",
     "text": [
      "Segmentation time for image 295: 0.6700186729431152s\n"
     ]
    },
    {
     "name": "stderr",
     "output_type": "stream",
     "text": [
      "Segmentation progress::   6%|███▏                                                 | 296/4852 [08:08<1:40:04,  1.32s/it]"
     ]
    },
    {
     "name": "stdout",
     "output_type": "stream",
     "text": [
      "Segmentation time for image 296: 0.8505096435546875s\n"
     ]
    },
    {
     "name": "stderr",
     "output_type": "stream",
     "text": [
      "Segmentation progress::   6%|███▏                                                 | 297/4852 [08:09<1:44:12,  1.37s/it]"
     ]
    },
    {
     "name": "stdout",
     "output_type": "stream",
     "text": [
      "Segmentation time for image 297: 2.325040340423584s\n"
     ]
    },
    {
     "name": "stderr",
     "output_type": "stream",
     "text": [
      "Segmentation progress::   6%|███▎                                                 | 298/4852 [08:12<2:17:49,  1.82s/it]"
     ]
    },
    {
     "name": "stdout",
     "output_type": "stream",
     "text": [
      "Segmentation time for image 298: 0.6867752075195312s\n"
     ]
    },
    {
     "name": "stderr",
     "output_type": "stream",
     "text": [
      "Segmentation progress::   6%|███▎                                                 | 299/4852 [08:13<2:05:12,  1.65s/it]"
     ]
    },
    {
     "name": "stdout",
     "output_type": "stream",
     "text": [
      "Segmentation time for image 299: 0.8592181205749512s\n"
     ]
    },
    {
     "name": "stderr",
     "output_type": "stream",
     "text": [
      "Segmentation progress::   6%|███▎                                                 | 300/4852 [08:15<2:02:23,  1.61s/it]"
     ]
    },
    {
     "name": "stdout",
     "output_type": "stream",
     "text": [
      "Segmentation time for image 300: 1.0845472812652588s\n"
     ]
    },
    {
     "name": "stderr",
     "output_type": "stream",
     "text": [
      "Segmentation progress::   6%|███▎                                                 | 301/4852 [08:16<2:04:45,  1.64s/it]"
     ]
    },
    {
     "name": "stdout",
     "output_type": "stream",
     "text": [
      "Segmentation time for image 301: 0.8250789642333984s\n"
     ]
    },
    {
     "name": "stderr",
     "output_type": "stream",
     "text": [
      "Segmentation progress::   6%|███▎                                                 | 302/4852 [08:18<2:00:24,  1.59s/it]"
     ]
    },
    {
     "name": "stdout",
     "output_type": "stream",
     "text": [
      "Segmentation time for image 302: 1.0559313297271729s\n"
     ]
    },
    {
     "name": "stderr",
     "output_type": "stream",
     "text": [
      "Segmentation progress::   6%|███▎                                                 | 303/4852 [08:20<2:03:27,  1.63s/it]"
     ]
    },
    {
     "name": "stdout",
     "output_type": "stream",
     "text": [
      "Segmentation time for image 303: 1.1562747955322266s\n"
     ]
    },
    {
     "name": "stderr",
     "output_type": "stream",
     "text": [
      "Segmentation progress::   6%|███▎                                                 | 304/4852 [08:21<2:07:39,  1.68s/it]"
     ]
    },
    {
     "name": "stdout",
     "output_type": "stream",
     "text": [
      "Segmentation time for image 304: 0.9578909873962402s\n"
     ]
    },
    {
     "name": "stderr",
     "output_type": "stream",
     "text": [
      "Segmentation progress::   6%|███▎                                                 | 305/4852 [08:23<2:05:44,  1.66s/it]"
     ]
    },
    {
     "name": "stdout",
     "output_type": "stream",
     "text": [
      "Segmentation time for image 305: 1.069788932800293s\n"
     ]
    },
    {
     "name": "stderr",
     "output_type": "stream",
     "text": [
      "Segmentation progress::   6%|███▎                                                 | 306/4852 [08:25<2:07:03,  1.68s/it]"
     ]
    },
    {
     "name": "stdout",
     "output_type": "stream",
     "text": [
      "Segmentation time for image 306: 1.021782636642456s\n"
     ]
    },
    {
     "name": "stderr",
     "output_type": "stream",
     "text": [
      "Segmentation progress::   6%|███▎                                                 | 307/4852 [08:26<2:07:09,  1.68s/it]"
     ]
    },
    {
     "name": "stdout",
     "output_type": "stream",
     "text": [
      "Segmentation time for image 307: 0.9889438152313232s\n"
     ]
    },
    {
     "name": "stderr",
     "output_type": "stream",
     "text": [
      "Segmentation progress::   6%|███▎                                                 | 308/4852 [08:28<2:06:48,  1.67s/it]"
     ]
    },
    {
     "name": "stdout",
     "output_type": "stream",
     "text": [
      "Segmentation time for image 308: 1.0582544803619385s\n"
     ]
    },
    {
     "name": "stderr",
     "output_type": "stream",
     "text": [
      "Segmentation progress::   6%|███▍                                                 | 309/4852 [08:30<2:07:36,  1.69s/it]"
     ]
    },
    {
     "name": "stdout",
     "output_type": "stream",
     "text": [
      "Segmentation time for image 309: 0.9658033847808838s\n"
     ]
    },
    {
     "name": "stderr",
     "output_type": "stream",
     "text": [
      "Segmentation progress::   6%|███▍                                                 | 310/4852 [08:31<2:05:11,  1.65s/it]"
     ]
    },
    {
     "name": "stdout",
     "output_type": "stream",
     "text": [
      "Segmentation time for image 310: 0.8780193328857422s\n"
     ]
    },
    {
     "name": "stderr",
     "output_type": "stream",
     "text": [
      "Segmentation progress::   6%|███▍                                                 | 311/4852 [08:33<2:03:38,  1.63s/it]"
     ]
    },
    {
     "name": "stdout",
     "output_type": "stream",
     "text": [
      "Segmentation time for image 311: 0.8198263645172119s\n"
     ]
    },
    {
     "name": "stderr",
     "output_type": "stream",
     "text": [
      "Segmentation progress::   6%|███▍                                                 | 312/4852 [08:34<1:58:59,  1.57s/it]"
     ]
    },
    {
     "name": "stdout",
     "output_type": "stream",
     "text": [
      "Segmentation time for image 312: 0.9147806167602539s\n"
     ]
    },
    {
     "name": "stderr",
     "output_type": "stream",
     "text": [
      "Segmentation progress::   6%|███▍                                                 | 313/4852 [08:36<1:56:37,  1.54s/it]"
     ]
    },
    {
     "name": "stdout",
     "output_type": "stream",
     "text": [
      "Segmentation time for image 313: 0.8376302719116211s\n"
     ]
    },
    {
     "name": "stderr",
     "output_type": "stream",
     "text": [
      "Segmentation progress::   6%|███▍                                                 | 314/4852 [08:37<1:53:50,  1.51s/it]"
     ]
    },
    {
     "name": "stdout",
     "output_type": "stream",
     "text": [
      "Segmentation time for image 314: 0.7445793151855469s\n"
     ]
    },
    {
     "name": "stderr",
     "output_type": "stream",
     "text": [
      "Segmentation progress::   6%|███▍                                                 | 315/4852 [08:39<1:49:50,  1.45s/it]"
     ]
    },
    {
     "name": "stdout",
     "output_type": "stream",
     "text": [
      "Segmentation time for image 315: 1.0148184299468994s\n"
     ]
    },
    {
     "name": "stderr",
     "output_type": "stream",
     "text": [
      "Segmentation progress::   7%|███▍                                                 | 316/4852 [08:40<1:53:22,  1.50s/it]"
     ]
    },
    {
     "name": "stdout",
     "output_type": "stream",
     "text": [
      "Segmentation time for image 316: 0.839911937713623s\n"
     ]
    },
    {
     "name": "stderr",
     "output_type": "stream",
     "text": [
      "Segmentation progress::   7%|███▍                                                 | 317/4852 [08:42<1:52:42,  1.49s/it]"
     ]
    },
    {
     "name": "stdout",
     "output_type": "stream",
     "text": [
      "Segmentation time for image 317: 1.0152232646942139s\n"
     ]
    },
    {
     "name": "stderr",
     "output_type": "stream",
     "text": [
      "Segmentation progress::   7%|███▍                                                 | 318/4852 [08:43<1:59:20,  1.58s/it]"
     ]
    },
    {
     "name": "stdout",
     "output_type": "stream",
     "text": [
      "Segmentation time for image 318: 1.2136454582214355s\n"
     ]
    },
    {
     "name": "stderr",
     "output_type": "stream",
     "text": [
      "Segmentation progress::   7%|███▍                                                 | 319/4852 [08:45<2:06:20,  1.67s/it]"
     ]
    },
    {
     "name": "stdout",
     "output_type": "stream",
     "text": [
      "Segmentation time for image 319: 1.2368783950805664s\n"
     ]
    },
    {
     "name": "stderr",
     "output_type": "stream",
     "text": [
      "Segmentation progress::   7%|███▍                                                 | 320/4852 [08:47<2:14:47,  1.78s/it]"
     ]
    },
    {
     "name": "stdout",
     "output_type": "stream",
     "text": [
      "Segmentation time for image 320: 1.2641148567199707s\n"
     ]
    },
    {
     "name": "stderr",
     "output_type": "stream",
     "text": [
      "Segmentation progress::   7%|███▌                                                 | 321/4852 [08:50<2:22:03,  1.88s/it]"
     ]
    },
    {
     "name": "stdout",
     "output_type": "stream",
     "text": [
      "Segmentation time for image 321: 1.3245723247528076s\n"
     ]
    },
    {
     "name": "stderr",
     "output_type": "stream",
     "text": [
      "Segmentation progress::   7%|███▌                                                 | 322/4852 [08:52<2:28:36,  1.97s/it]"
     ]
    },
    {
     "name": "stdout",
     "output_type": "stream",
     "text": [
      "Segmentation time for image 322: 1.1373984813690186s\n"
     ]
    },
    {
     "name": "stderr",
     "output_type": "stream",
     "text": [
      "Segmentation progress::   7%|███▌                                                 | 323/4852 [08:53<2:23:43,  1.90s/it]"
     ]
    },
    {
     "name": "stdout",
     "output_type": "stream",
     "text": [
      "Segmentation time for image 323: 0.9461688995361328s\n"
     ]
    },
    {
     "name": "stderr",
     "output_type": "stream",
     "text": [
      "Segmentation progress::   7%|███▌                                                 | 324/4852 [08:55<2:18:35,  1.84s/it]"
     ]
    },
    {
     "name": "stdout",
     "output_type": "stream",
     "text": [
      "Segmentation time for image 324: 1.2904715538024902s\n"
     ]
    },
    {
     "name": "stderr",
     "output_type": "stream",
     "text": [
      "Segmentation progress::   7%|███▌                                                 | 325/4852 [08:57<2:26:50,  1.95s/it]"
     ]
    },
    {
     "name": "stdout",
     "output_type": "stream",
     "text": [
      "Segmentation time for image 325: 1.2152879238128662s\n"
     ]
    },
    {
     "name": "stderr",
     "output_type": "stream",
     "text": [
      "Segmentation progress::   7%|███▌                                                 | 326/4852 [08:59<2:24:45,  1.92s/it]"
     ]
    },
    {
     "name": "stdout",
     "output_type": "stream",
     "text": [
      "Segmentation time for image 326: 0.8998081684112549s\n"
     ]
    },
    {
     "name": "stderr",
     "output_type": "stream",
     "text": [
      "Segmentation progress::   7%|███▌                                                 | 327/4852 [09:01<2:19:41,  1.85s/it]"
     ]
    },
    {
     "name": "stdout",
     "output_type": "stream",
     "text": [
      "Segmentation time for image 327: 1.161076545715332s\n"
     ]
    },
    {
     "name": "stderr",
     "output_type": "stream",
     "text": [
      "Segmentation progress::   7%|███▌                                                 | 328/4852 [09:03<2:22:40,  1.89s/it]"
     ]
    },
    {
     "name": "stdout",
     "output_type": "stream",
     "text": [
      "Segmentation time for image 328: 1.098257064819336s\n"
     ]
    },
    {
     "name": "stderr",
     "output_type": "stream",
     "text": [
      "Segmentation progress::   7%|███▌                                                 | 329/4852 [09:05<2:19:26,  1.85s/it]"
     ]
    },
    {
     "name": "stdout",
     "output_type": "stream",
     "text": [
      "Segmentation time for image 329: 1.0170366764068604s\n"
     ]
    },
    {
     "name": "stderr",
     "output_type": "stream",
     "text": [
      "Segmentation progress::   7%|███▌                                                 | 330/4852 [09:06<2:18:18,  1.84s/it]"
     ]
    },
    {
     "name": "stdout",
     "output_type": "stream",
     "text": [
      "Segmentation time for image 330: 1.213425636291504s\n"
     ]
    },
    {
     "name": "stderr",
     "output_type": "stream",
     "text": [
      "Segmentation progress::   7%|███▌                                                 | 331/4852 [09:08<2:20:28,  1.86s/it]"
     ]
    },
    {
     "name": "stdout",
     "output_type": "stream",
     "text": [
      "Segmentation time for image 331: 1.071441411972046s\n"
     ]
    },
    {
     "name": "stderr",
     "output_type": "stream",
     "text": [
      "Segmentation progress::   7%|███▋                                                 | 332/4852 [09:10<2:19:09,  1.85s/it]"
     ]
    },
    {
     "name": "stdout",
     "output_type": "stream",
     "text": [
      "Segmentation time for image 332: 1.2298526763916016s\n"
     ]
    },
    {
     "name": "stderr",
     "output_type": "stream",
     "text": [
      "Segmentation progress::   7%|███▋                                                 | 333/4852 [09:12<2:22:47,  1.90s/it]"
     ]
    },
    {
     "name": "stdout",
     "output_type": "stream",
     "text": [
      "Segmentation time for image 333: 1.235041856765747s\n"
     ]
    },
    {
     "name": "stderr",
     "output_type": "stream",
     "text": [
      "Segmentation progress::   7%|███▋                                                 | 334/4852 [09:14<2:25:25,  1.93s/it]"
     ]
    },
    {
     "name": "stdout",
     "output_type": "stream",
     "text": [
      "Segmentation time for image 334: 1.1319541931152344s\n"
     ]
    },
    {
     "name": "stderr",
     "output_type": "stream",
     "text": [
      "Segmentation progress::   7%|███▋                                                 | 335/4852 [09:16<2:24:17,  1.92s/it]"
     ]
    },
    {
     "name": "stdout",
     "output_type": "stream",
     "text": [
      "Segmentation time for image 335: 1.2546114921569824s\n"
     ]
    },
    {
     "name": "stderr",
     "output_type": "stream",
     "text": [
      "Segmentation progress::   7%|███▋                                                 | 336/4852 [09:18<2:25:57,  1.94s/it]"
     ]
    },
    {
     "name": "stdout",
     "output_type": "stream",
     "text": [
      "Segmentation time for image 336: 1.450789213180542s\n"
     ]
    },
    {
     "name": "stderr",
     "output_type": "stream",
     "text": [
      "Segmentation progress::   7%|███▋                                                 | 337/4852 [09:20<2:33:48,  2.04s/it]"
     ]
    },
    {
     "name": "stdout",
     "output_type": "stream",
     "text": [
      "Segmentation time for image 337: 1.2746171951293945s\n"
     ]
    },
    {
     "name": "stderr",
     "output_type": "stream",
     "text": [
      "Segmentation progress::   7%|███▋                                                 | 338/4852 [09:22<2:33:25,  2.04s/it]"
     ]
    },
    {
     "name": "stdout",
     "output_type": "stream",
     "text": [
      "Segmentation time for image 338: 1.1897976398468018s\n"
     ]
    },
    {
     "name": "stderr",
     "output_type": "stream",
     "text": [
      "Segmentation progress::   7%|███▋                                                 | 339/4852 [09:24<2:35:01,  2.06s/it]"
     ]
    },
    {
     "name": "stdout",
     "output_type": "stream",
     "text": [
      "Segmentation time for image 339: 1.1600911617279053s\n"
     ]
    },
    {
     "name": "stderr",
     "output_type": "stream",
     "text": [
      "Segmentation progress::   7%|███▋                                                 | 340/4852 [09:26<2:31:21,  2.01s/it]"
     ]
    },
    {
     "name": "stdout",
     "output_type": "stream",
     "text": [
      "Segmentation time for image 340: 1.196627140045166s\n"
     ]
    },
    {
     "name": "stderr",
     "output_type": "stream",
     "text": [
      "Segmentation progress::   7%|███▋                                                 | 341/4852 [09:28<2:31:17,  2.01s/it]"
     ]
    },
    {
     "name": "stdout",
     "output_type": "stream",
     "text": [
      "Segmentation time for image 341: 1.1820011138916016s\n"
     ]
    },
    {
     "name": "stderr",
     "output_type": "stream",
     "text": [
      "Segmentation progress::   7%|███▋                                                 | 342/4852 [09:30<2:29:36,  1.99s/it]"
     ]
    },
    {
     "name": "stdout",
     "output_type": "stream",
     "text": [
      "Segmentation time for image 342: 1.139822244644165s\n"
     ]
    },
    {
     "name": "stderr",
     "output_type": "stream",
     "text": [
      "Segmentation progress::   7%|███▋                                                 | 343/4852 [09:32<2:28:56,  1.98s/it]"
     ]
    },
    {
     "name": "stdout",
     "output_type": "stream",
     "text": [
      "Segmentation time for image 343: 1.3269617557525635s\n"
     ]
    },
    {
     "name": "stderr",
     "output_type": "stream",
     "text": [
      "Segmentation progress::   7%|███▊                                                 | 344/4852 [09:34<2:31:13,  2.01s/it]"
     ]
    },
    {
     "name": "stdout",
     "output_type": "stream",
     "text": [
      "Segmentation time for image 344: 3.10538649559021s\n"
     ]
    },
    {
     "name": "stderr",
     "output_type": "stream",
     "text": [
      "Segmentation progress::   7%|███▊                                                 | 345/4852 [09:38<3:14:33,  2.59s/it]"
     ]
    },
    {
     "name": "stdout",
     "output_type": "stream",
     "text": [
      "Segmentation time for image 345: 1.1745126247406006s\n"
     ]
    },
    {
     "name": "stderr",
     "output_type": "stream",
     "text": [
      "Segmentation progress::   7%|███▊                                                 | 346/4852 [09:40<3:01:20,  2.41s/it]"
     ]
    },
    {
     "name": "stdout",
     "output_type": "stream",
     "text": [
      "Segmentation time for image 346: 1.3199131488800049s\n"
     ]
    },
    {
     "name": "stderr",
     "output_type": "stream",
     "text": [
      "Segmentation progress::   7%|███▊                                                 | 347/4852 [09:42<2:51:58,  2.29s/it]"
     ]
    },
    {
     "name": "stdout",
     "output_type": "stream",
     "text": [
      "Segmentation time for image 347: 0.9613261222839355s\n"
     ]
    },
    {
     "name": "stderr",
     "output_type": "stream",
     "text": [
      "Segmentation progress::   7%|███▊                                                 | 348/4852 [09:44<2:39:38,  2.13s/it]"
     ]
    },
    {
     "name": "stdout",
     "output_type": "stream",
     "text": [
      "Segmentation time for image 348: 1.12074613571167s\n"
     ]
    },
    {
     "name": "stderr",
     "output_type": "stream",
     "text": [
      "Segmentation progress::   7%|███▊                                                 | 349/4852 [09:46<2:34:04,  2.05s/it]"
     ]
    },
    {
     "name": "stdout",
     "output_type": "stream",
     "text": [
      "Segmentation time for image 349: 1.1764650344848633s\n"
     ]
    },
    {
     "name": "stderr",
     "output_type": "stream",
     "text": [
      "Segmentation progress::   7%|███▊                                                 | 350/4852 [09:48<2:29:46,  2.00s/it]"
     ]
    },
    {
     "name": "stdout",
     "output_type": "stream",
     "text": [
      "Segmentation time for image 350: 1.2397105693817139s\n"
     ]
    },
    {
     "name": "stderr",
     "output_type": "stream",
     "text": [
      "Segmentation progress::   7%|███▊                                                 | 351/4852 [09:50<2:31:04,  2.01s/it]"
     ]
    },
    {
     "name": "stdout",
     "output_type": "stream",
     "text": [
      "Segmentation time for image 351: 1.2072277069091797s\n"
     ]
    },
    {
     "name": "stderr",
     "output_type": "stream",
     "text": [
      "Segmentation progress::   7%|███▊                                                 | 352/4852 [09:52<2:26:47,  1.96s/it]"
     ]
    },
    {
     "name": "stdout",
     "output_type": "stream",
     "text": [
      "Segmentation time for image 352: 1.2368204593658447s\n"
     ]
    },
    {
     "name": "stderr",
     "output_type": "stream",
     "text": [
      "Segmentation progress::   7%|███▊                                                 | 353/4852 [09:54<2:27:42,  1.97s/it]"
     ]
    },
    {
     "name": "stdout",
     "output_type": "stream",
     "text": [
      "Segmentation time for image 353: 1.1670138835906982s\n"
     ]
    },
    {
     "name": "stderr",
     "output_type": "stream",
     "text": [
      "Segmentation progress::   7%|███▊                                                 | 354/4852 [09:56<2:25:17,  1.94s/it]"
     ]
    },
    {
     "name": "stdout",
     "output_type": "stream",
     "text": [
      "Segmentation time for image 354: 1.1070294380187988s\n"
     ]
    },
    {
     "name": "stderr",
     "output_type": "stream",
     "text": [
      "Segmentation progress::   7%|███▉                                                 | 355/4852 [09:57<2:18:49,  1.85s/it]"
     ]
    },
    {
     "name": "stdout",
     "output_type": "stream",
     "text": [
      "Segmentation time for image 355: 0.7498469352722168s\n"
     ]
    },
    {
     "name": "stderr",
     "output_type": "stream",
     "text": [
      "Segmentation progress::   7%|███▉                                                 | 356/4852 [09:59<2:06:19,  1.69s/it]"
     ]
    },
    {
     "name": "stdout",
     "output_type": "stream",
     "text": [
      "Segmentation time for image 356: 0.7827022075653076s\n"
     ]
    },
    {
     "name": "stderr",
     "output_type": "stream",
     "text": [
      "Segmentation progress::   7%|███▉                                                 | 357/4852 [10:00<1:59:34,  1.60s/it]"
     ]
    },
    {
     "name": "stdout",
     "output_type": "stream",
     "text": [
      "Segmentation time for image 357: 0.9634048938751221s\n"
     ]
    },
    {
     "name": "stderr",
     "output_type": "stream",
     "text": [
      "Segmentation progress::   7%|███▉                                                 | 358/4852 [10:01<1:58:58,  1.59s/it]"
     ]
    },
    {
     "name": "stdout",
     "output_type": "stream",
     "text": [
      "Segmentation time for image 358: 0.7548134326934814s\n"
     ]
    },
    {
     "name": "stderr",
     "output_type": "stream",
     "text": [
      "Segmentation progress::   7%|███▉                                                 | 359/4852 [10:03<1:52:40,  1.50s/it]"
     ]
    },
    {
     "name": "stdout",
     "output_type": "stream",
     "text": [
      "Segmentation time for image 359: 0.719982385635376s\n"
     ]
    },
    {
     "name": "stderr",
     "output_type": "stream",
     "text": [
      "Segmentation progress::   7%|███▉                                                 | 360/4852 [10:04<1:47:11,  1.43s/it]"
     ]
    },
    {
     "name": "stdout",
     "output_type": "stream",
     "text": [
      "Segmentation time for image 360: 0.7658402919769287s\n"
     ]
    },
    {
     "name": "stderr",
     "output_type": "stream",
     "text": [
      "Segmentation progress::   7%|███▉                                                 | 361/4852 [10:05<1:46:11,  1.42s/it]"
     ]
    },
    {
     "name": "stdout",
     "output_type": "stream",
     "text": [
      "Segmentation time for image 361: 1.1603291034698486s\n"
     ]
    },
    {
     "name": "stderr",
     "output_type": "stream",
     "text": [
      "Segmentation progress::   7%|███▉                                                 | 362/4852 [10:07<1:55:10,  1.54s/it]"
     ]
    },
    {
     "name": "stdout",
     "output_type": "stream",
     "text": [
      "Segmentation time for image 362: 0.8600878715515137s\n"
     ]
    },
    {
     "name": "stderr",
     "output_type": "stream",
     "text": [
      "Segmentation progress::   7%|███▉                                                 | 363/4852 [10:09<1:52:56,  1.51s/it]"
     ]
    },
    {
     "name": "stdout",
     "output_type": "stream",
     "text": [
      "Segmentation time for image 363: 0.6596221923828125s\n"
     ]
    },
    {
     "name": "stderr",
     "output_type": "stream",
     "text": [
      "Segmentation progress::   8%|███▉                                                 | 364/4852 [10:10<1:45:44,  1.41s/it]"
     ]
    },
    {
     "name": "stdout",
     "output_type": "stream",
     "text": [
      "Segmentation time for image 364: 0.7150132656097412s\n"
     ]
    },
    {
     "name": "stderr",
     "output_type": "stream",
     "text": [
      "Segmentation progress::   8%|███▉                                                 | 365/4852 [10:11<1:41:29,  1.36s/it]"
     ]
    },
    {
     "name": "stdout",
     "output_type": "stream",
     "text": [
      "Segmentation time for image 365: 0.9449868202209473s\n"
     ]
    },
    {
     "name": "stderr",
     "output_type": "stream",
     "text": [
      "Segmentation progress::   8%|███▉                                                 | 366/4852 [10:13<1:45:46,  1.41s/it]"
     ]
    },
    {
     "name": "stdout",
     "output_type": "stream",
     "text": [
      "Segmentation time for image 366: 0.7224807739257812s\n"
     ]
    },
    {
     "name": "stderr",
     "output_type": "stream",
     "text": [
      "Segmentation progress::   8%|████                                                 | 367/4852 [10:14<1:42:37,  1.37s/it]"
     ]
    },
    {
     "name": "stdout",
     "output_type": "stream",
     "text": [
      "Segmentation time for image 367: 1.0201191902160645s\n"
     ]
    },
    {
     "name": "stderr",
     "output_type": "stream",
     "text": [
      "Segmentation progress::   8%|████                                                 | 368/4852 [10:16<1:47:15,  1.44s/it]"
     ]
    },
    {
     "name": "stdout",
     "output_type": "stream",
     "text": [
      "Segmentation time for image 368: 0.8225641250610352s\n"
     ]
    },
    {
     "name": "stderr",
     "output_type": "stream",
     "text": [
      "Segmentation progress::   8%|████                                                 | 369/4852 [10:17<1:46:17,  1.42s/it]"
     ]
    },
    {
     "name": "stdout",
     "output_type": "stream",
     "text": [
      "Segmentation time for image 369: 1.036391019821167s\n"
     ]
    },
    {
     "name": "stderr",
     "output_type": "stream",
     "text": [
      "Segmentation progress::   8%|████                                                 | 370/4852 [10:19<1:50:12,  1.48s/it]"
     ]
    },
    {
     "name": "stdout",
     "output_type": "stream",
     "text": [
      "Segmentation time for image 370: 0.7914433479309082s\n"
     ]
    },
    {
     "name": "stderr",
     "output_type": "stream",
     "text": [
      "Segmentation progress::   8%|████                                                 | 371/4852 [10:20<1:46:59,  1.43s/it]"
     ]
    },
    {
     "name": "stdout",
     "output_type": "stream",
     "text": [
      "Segmentation time for image 371: 0.8608527183532715s\n"
     ]
    },
    {
     "name": "stderr",
     "output_type": "stream",
     "text": [
      "Segmentation progress::   8%|████                                                 | 372/4852 [10:21<1:47:01,  1.43s/it]"
     ]
    },
    {
     "name": "stdout",
     "output_type": "stream",
     "text": [
      "Segmentation time for image 372: 0.8239696025848389s\n"
     ]
    },
    {
     "name": "stderr",
     "output_type": "stream",
     "text": [
      "Segmentation progress::   8%|████                                                 | 373/4852 [10:23<1:47:57,  1.45s/it]"
     ]
    },
    {
     "name": "stdout",
     "output_type": "stream",
     "text": [
      "Segmentation time for image 373: 1.0035390853881836s\n"
     ]
    },
    {
     "name": "stderr",
     "output_type": "stream",
     "text": [
      "Segmentation progress::   8%|████                                                 | 374/4852 [10:24<1:52:21,  1.51s/it]"
     ]
    },
    {
     "name": "stdout",
     "output_type": "stream",
     "text": [
      "Segmentation time for image 374: 0.879544734954834s\n"
     ]
    },
    {
     "name": "stderr",
     "output_type": "stream",
     "text": [
      "Segmentation progress::   8%|████                                                 | 375/4852 [10:26<1:52:12,  1.50s/it]"
     ]
    },
    {
     "name": "stdout",
     "output_type": "stream",
     "text": [
      "Segmentation time for image 375: 0.8375277519226074s\n"
     ]
    },
    {
     "name": "stderr",
     "output_type": "stream",
     "text": [
      "Segmentation progress::   8%|████                                                 | 376/4852 [10:27<1:52:07,  1.50s/it]"
     ]
    },
    {
     "name": "stdout",
     "output_type": "stream",
     "text": [
      "Segmentation time for image 376: 1.1141817569732666s\n"
     ]
    },
    {
     "name": "stderr",
     "output_type": "stream",
     "text": [
      "Segmentation progress::   8%|████                                                 | 377/4852 [10:29<1:58:03,  1.58s/it]"
     ]
    },
    {
     "name": "stdout",
     "output_type": "stream",
     "text": [
      "Segmentation time for image 377: 0.894995927810669s\n"
     ]
    },
    {
     "name": "stderr",
     "output_type": "stream",
     "text": [
      "Segmentation progress::   8%|████▏                                                | 378/4852 [10:31<1:56:10,  1.56s/it]"
     ]
    },
    {
     "name": "stdout",
     "output_type": "stream",
     "text": [
      "Segmentation time for image 378: 0.8915908336639404s\n"
     ]
    },
    {
     "name": "stderr",
     "output_type": "stream",
     "text": [
      "Segmentation progress::   8%|████▏                                                | 379/4852 [10:32<1:55:17,  1.55s/it]"
     ]
    },
    {
     "name": "stdout",
     "output_type": "stream",
     "text": [
      "Segmentation time for image 379: 0.9267306327819824s\n"
     ]
    }
   ],
   "source": [
    "import time\n",
    "from tqdm import tqdm\n",
    "chans = [0,0] #this means segment based on first channel, no second channel \n",
    "\n",
    "#n = [1,2,3,4,5,6,7,8,9] # make a list of integers to select which images you want to segment\n",
    "n = range(nimg) # or just segment them all \n",
    "\n",
    "# Assuming you have calculated the mean diameter D of your cells\n",
    "#mean_diameter = 80  # Replace D with your calculated mean diameter\n",
    "\n",
    "# Rescaling factor for cyto2_omni\n",
    "#rescaling_factor = 30.0 / mean_diameter\n",
    "\n",
    "# define parameters\n",
    "params = {'channels':chans, # always define this with the model\n",
    "          'rescale': None, #rescaling_factor, # upscale or downscale your images, None = no rescaling \n",
    "          'mask_threshold': 2, # erode or dilate masks with higher or lower values \n",
    "          'flow_threshold': 0.45, # default is .4, but only needed if there are spurious masks to clean up; slows down output\n",
    "          'transparency': True, # transparency in flow output\n",
    "          'omni': True, # we can turn off Omnipose mask reconstruction, not advised \n",
    "          'cluster': True, # use DBSCAN clustering\n",
    "          'resample': True, # whether or not to run dynamics on rescaled grid or original grid \n",
    "          #'verbose': False, # turn on if you want to see more output \n",
    "          'tile': False, # average the outputs from flipped (augmented) images; slower, usually not needed \n",
    "          'niter': None, # None lets Omnipose calculate # of Euler iterations (usually <20) but you can tune it for over/under segmentation \n",
    "          'augment': False, # Can optionally rotate the image and average outputs, usually not needed \n",
    "          'affinity_seg': True, # new feature, stay tuned...\n",
    "          'diameter': 50\n",
    "\n",
    "}\n",
    "\n",
    "total_segmentation_time = 0\n",
    "\n",
    "# Loop through each image, segment and save\n",
    "for i in tqdm(n, 'Segmentation progress:'):\n",
    "    tic = time.time()  # start time for this iteration\n",
    "    \n",
    "    # Perform segmentation on the i-th image\n",
    "    mask, flow, style = model.eval(imgs[i], **params)\n",
    "    \n",
    "    # Calculate segmentation time for this image\n",
    "    seg_time = time.time() - tic\n",
    "    total_segmentation_time += seg_time  # add to total time\n",
    "    \n",
    "    print(f'Segmentation time for image {i}: {seg_time}s')\n",
    "    \n",
    "    # Define the file path for saving the results\n",
    "    file_path = files[i]  # Assuming 'files' is your list of file paths for the images\n",
    "    \n",
    "    # Save the masks for the i-th image\n",
    "    io.save_masks([imgs[i]], [mask], [flow], [file_path], \n",
    "                  png=True,\n",
    "                  tif=True,\n",
    "                  suffix='',  # Add suffix if needed\n",
    "                  save_flows=False,\n",
    "                  save_outlines=True,\n",
    "                  dir_above=0,\n",
    "                  in_folders=True,\n",
    "                  save_txt=True,\n",
    "                  save_ncolor=False)\n",
    "\n",
    "\n",
    "print(f'Total segmentation time for all images: {total_segmentation_time}s')\n",
    "\n",
    "average_time_per_image = total_segmentation_time / nimg\n",
    "expected_total_time = average_time_per_image * nimg\n",
    "print(f'Expected total time for segmenting all images: {expected_total_time}s')"
   ]
  },
  {
   "cell_type": "code",
   "execution_count": null,
   "id": "fc23f7dc-3881-43b6-b00e-7071b5510ecf",
   "metadata": {},
   "outputs": [],
   "source": []
  },
  {
   "cell_type": "code",
   "execution_count": null,
   "id": "9e78d9bb-2f96-4dd2-9375-aeda9cffc56e",
   "metadata": {},
   "outputs": [],
   "source": []
  }
 ],
 "metadata": {
  "keep_output": true,
  "kernelspec": {
   "display_name": "Python 3 (ipykernel)",
   "language": "python",
   "name": "python3"
  },
  "language_info": {
   "codemirror_mode": {
    "name": "ipython",
    "version": 3
   },
   "file_extension": ".py",
   "mimetype": "text/x-python",
   "name": "python",
   "nbconvert_exporter": "python",
   "pygments_lexer": "ipython3",
   "version": "3.10.12"
  }
 },
 "nbformat": 4,
 "nbformat_minor": 5
}
