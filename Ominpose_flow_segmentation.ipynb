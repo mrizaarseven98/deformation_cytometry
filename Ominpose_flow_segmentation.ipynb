{
 "cells": [
  {
   "cell_type": "markdown",
   "id": "7c44b8da-5cb6-463f-b275-0be5085026fa",
   "metadata": {},
   "source": [
    "2D Omnipose segmentation\n",
    "============================\n",
    "\n",
    "Before running this notebook, install the latest version of Omnipose from GitHub. This automatically installs our Cellpose fork. "
   ]
  },
  {
   "cell_type": "code",
   "execution_count": 1,
   "id": "281bf04d-fcc3-4f83-acc0-2476c9ebe310",
   "metadata": {
    "tags": [
     "remove-output",
     "remove-cell"
    ]
   },
   "outputs": [],
   "source": [
    "# make local editable packages automatically reload\n",
    "%load_ext autoreload\n",
    "%autoreload 2"
   ]
  },
  {
   "cell_type": "code",
   "execution_count": 2,
   "id": "df70baa5-f9e8-47cc-a419-ff637a925f33",
   "metadata": {
    "tags": []
   },
   "outputs": [
    {
     "name": "stdout",
     "output_type": "stream",
     "text": [
      "2023-12-04 22:15:27,054 [INFO] TORCH GPU version not installed/working.\n",
      ">>> GPU activated? False\n"
     ]
    },
    {
     "name": "stderr",
     "output_type": "stream",
     "text": [
      "C:\\Users\\Giona\\anaconda3\\envs\\omnipose\\lib\\site-packages\\tqdm\\auto.py:21: TqdmWarning: IProgress not found. Please update jupyter and ipywidgets. See https://ipywidgets.readthedocs.io/en/stable/user_install.html\n",
      "  from .autonotebook import tqdm as notebook_tqdm\n"
     ]
    }
   ],
   "source": [
    "# Import dependencies\n",
    "import numpy as np\n",
    "from cellpose_omni import models, core\n",
    "\n",
    "# This checks to see if you have set up your GPU properly.\n",
    "# CPU performance is a lot slower, but not a problem if you \n",
    "# are only processing a few images.\n",
    "use_GPU = core.use_gpu()\n",
    "print('>>> GPU activated? {}'.format(use_GPU))\n",
    "\n",
    "# for plotting\n",
    "import matplotlib as mpl\n",
    "import matplotlib.pyplot as plt\n",
    "mpl.rcParams['figure.dpi'] = 300\n",
    "plt.style.use('dark_background')\n",
    "%matplotlib inline"
   ]
  },
  {
   "cell_type": "code",
   "execution_count": 3,
   "id": "1452d605-54d0-417e-a720-33436e319231",
   "metadata": {
    "tags": []
   },
   "outputs": [],
   "source": [
    "from pathlib import Path\n",
    "import os\n",
    "from cellpose_omni import io\n",
    "import omnipose\n",
    "import imageio\n",
    "\n",
    "# Set the path to the desired folder\n",
    "#basedir = 'CellA_ShME480'\n",
    "\n",
    "# Get the list of image files from the folder\n",
    "#files = io.get_image_files(basedir)\n",
    "\n",
    "# Path to the video file\n",
    "video_path = 'CellA_ShME480.avi'\n",
    "\n",
    "# Create a reader to read the video file\n",
    "reader = imageio.get_reader(video_path, 'ffmpeg')\n",
    "\n",
    "# Read all frames in a list\n",
    "frames = [im for im in reader]\n",
    "\n",
    "# Extract the video name (without file extension) to use for naming directories\n",
    "video_name = Path(video_path).stem  # This will be 'CellA_ShME480'\n",
    "\n",
    "# Current working directory\n",
    "current_working_dir = Path(os.getcwd())\n",
    "\n",
    "# Base directory for saving segmentation masks\n",
    "base_mask_dir = current_working_dir / 'segmentation_outputs' / video_name\n",
    "\n",
    "# Create the base directory for masks, if it does not exist\n",
    "if not base_mask_dir.exists():\n",
    "    base_mask_dir.mkdir(parents=True, exist_ok=True)\n",
    "\n",
    "# Generate file paths for each frame to be saved in the masks directory\n",
    "files = [base_mask_dir / f\"frame_{i:04d}.tif\" for i in range(len(frames))]"
   ]
  },
  {
   "cell_type": "code",
   "execution_count": 4,
   "id": "acf5d498-933a-45bf-82c9-df7c4a735cd5",
   "metadata": {},
   "outputs": [
    {
     "name": "stdout",
     "output_type": "stream",
     "text": [
      "\n",
      "number of images: 4852\n"
     ]
    }
   ],
   "source": [
    "from cellpose_omni import io, transforms\n",
    "from omnipose.utils import normalize99\n",
    "import numpy as np\n",
    "import cv2\n",
    "\n",
    "# Assuming 'frames' contains the frames extracted from the video file\n",
    "imgs = []\n",
    "for frame in frames:\n",
    "    # Convert BGR to grayscale if your frames are in color\n",
    "    # If your frames are already grayscale, you can skip this conversion\n",
    "    if len(frame.shape) == 3:  # Check if the frame is colored\n",
    "        frame_gray = cv2.cvtColor(frame, cv2.COLOR_BGR2GRAY)\n",
    "    else:\n",
    "        frame_gray = frame  # If the frame is already in grayscale\n",
    "\n",
    "    # Normalize and preprocess the frame\n",
    "    frame_processed = normalize99(frame_gray)\n",
    "    #frame_processed = np.pad(frame_processed, 10, 'constant', constant_values=0)  # Pad with zeros\n",
    "\n",
    "    imgs.append(frame_processed)\n",
    "\n",
    "nimg = len(imgs)\n",
    "print('\\nnumber of images:', nimg)"
   ]
  },
  {
   "cell_type": "markdown",
   "id": "f635d57e-72e7-415b-aea5-73990f9450e2",
   "metadata": {},
   "source": [
    "## Initialize model\n",
    "Here we use one of the built-in model names. We will choose the `bact_phase_omni` model. "
   ]
  },
  {
   "cell_type": "code",
   "execution_count": 5,
   "id": "33f645d6-c2cc-45bb-80da-22efa8cb4901",
   "metadata": {
    "tags": []
   },
   "outputs": [
    {
     "name": "stdout",
     "output_type": "stream",
     "text": [
      "2023-12-04 22:15:36,407 [INFO] >>cyto<< model set to be used\n",
      "2023-12-04 22:15:36,411 [INFO] >>>> using CPU\n"
     ]
    }
   ],
   "source": [
    "from cellpose_omni import models\n",
    "from cellpose_omni.models import MODEL_NAMES\n",
    "\n",
    "model_name = 'cyto'\n",
    "model = models.CellposeModel(gpu=use_GPU, model_type=model_name)"
   ]
  },
  {
   "cell_type": "markdown",
   "id": "469856ad-65c8-4ba7-b371-e2661516c413",
   "metadata": {},
   "source": [
    "## Run segmentation "
   ]
  },
  {
   "cell_type": "code",
   "execution_count": 6,
   "id": "ea6bc9a2-78cb-478e-8ca9-aadd5c1047f8",
   "metadata": {},
   "outputs": [
    {
     "name": "stderr",
     "output_type": "stream",
     "text": [
      "Segmentation progress::   0%|                                                                   | 0/99 [00:00<?, ?it/s]"
     ]
    },
    {
     "name": "stdout",
     "output_type": "stream",
     "text": [
      "Segmentation time for image 1: 2.2207658290863037s\n"
     ]
    },
    {
     "name": "stderr",
     "output_type": "stream",
     "text": [
      "Segmentation progress::   1%|▌                                                          | 1/99 [00:04<07:07,  4.36s/it]"
     ]
    },
    {
     "name": "stdout",
     "output_type": "stream",
     "text": [
      "Segmentation time for image 2: 1.4040849208831787s\n"
     ]
    },
    {
     "name": "stderr",
     "output_type": "stream",
     "text": [
      "Segmentation progress::   2%|█▏                                                         | 2/99 [00:06<05:07,  3.17s/it]"
     ]
    },
    {
     "name": "stdout",
     "output_type": "stream",
     "text": [
      "Segmentation time for image 3: 1.2286863327026367s\n"
     ]
    },
    {
     "name": "stderr",
     "output_type": "stream",
     "text": [
      "Segmentation progress::   3%|█▊                                                         | 3/99 [00:08<04:16,  2.68s/it]"
     ]
    },
    {
     "name": "stdout",
     "output_type": "stream",
     "text": [
      "Segmentation time for image 4: 1.2812094688415527s\n"
     ]
    },
    {
     "name": "stderr",
     "output_type": "stream",
     "text": [
      "Segmentation progress::   4%|██▍                                                        | 4/99 [00:10<03:52,  2.45s/it]"
     ]
    },
    {
     "name": "stdout",
     "output_type": "stream",
     "text": [
      "Segmentation time for image 5: 1.4619767665863037s\n"
     ]
    },
    {
     "name": "stderr",
     "output_type": "stream",
     "text": [
      "Segmentation progress::   5%|██▉                                                        | 5/99 [00:13<03:45,  2.40s/it]"
     ]
    },
    {
     "name": "stdout",
     "output_type": "stream",
     "text": [
      "Segmentation time for image 6: 1.4128155708312988s\n"
     ]
    },
    {
     "name": "stderr",
     "output_type": "stream",
     "text": [
      "Segmentation progress::   6%|███▌                                                       | 6/99 [00:15<03:38,  2.35s/it]"
     ]
    },
    {
     "name": "stdout",
     "output_type": "stream",
     "text": [
      "Segmentation time for image 7: 1.2296595573425293s\n"
     ]
    },
    {
     "name": "stderr",
     "output_type": "stream",
     "text": [
      "Segmentation progress::   7%|████▏                                                      | 7/99 [00:17<03:34,  2.34s/it]"
     ]
    },
    {
     "name": "stdout",
     "output_type": "stream",
     "text": [
      "Segmentation time for image 8: 1.251894235610962s\n"
     ]
    },
    {
     "name": "stderr",
     "output_type": "stream",
     "text": [
      "Segmentation progress::   8%|████▊                                                      | 8/99 [00:19<03:23,  2.24s/it]"
     ]
    },
    {
     "name": "stdout",
     "output_type": "stream",
     "text": [
      "Segmentation time for image 9: 1.3795750141143799s\n"
     ]
    },
    {
     "name": "stderr",
     "output_type": "stream",
     "text": [
      "Segmentation progress::   9%|█████▎                                                     | 9/99 [00:21<03:17,  2.19s/it]"
     ]
    },
    {
     "name": "stdout",
     "output_type": "stream",
     "text": [
      "Segmentation time for image 10: 1.36470365524292s\n"
     ]
    },
    {
     "name": "stderr",
     "output_type": "stream",
     "text": [
      "Segmentation progress::  10%|█████▊                                                    | 10/99 [00:24<03:16,  2.21s/it]"
     ]
    },
    {
     "name": "stdout",
     "output_type": "stream",
     "text": [
      "Segmentation time for image 11: 1.3410654067993164s\n"
     ]
    },
    {
     "name": "stderr",
     "output_type": "stream",
     "text": [
      "Segmentation progress::  11%|██████▍                                                   | 11/99 [00:26<03:14,  2.21s/it]"
     ]
    },
    {
     "name": "stdout",
     "output_type": "stream",
     "text": [
      "Segmentation time for image 12: 1.2315175533294678s\n"
     ]
    },
    {
     "name": "stderr",
     "output_type": "stream",
     "text": [
      "Segmentation progress::  12%|███████                                                   | 12/99 [00:28<03:08,  2.17s/it]"
     ]
    },
    {
     "name": "stdout",
     "output_type": "stream",
     "text": [
      "Segmentation time for image 13: 1.3345882892608643s\n"
     ]
    },
    {
     "name": "stderr",
     "output_type": "stream",
     "text": [
      "Segmentation progress::  13%|███████▌                                                  | 13/99 [00:30<03:05,  2.16s/it]"
     ]
    },
    {
     "name": "stdout",
     "output_type": "stream",
     "text": [
      "Segmentation time for image 14: 1.1961939334869385s\n"
     ]
    },
    {
     "name": "stderr",
     "output_type": "stream",
     "text": [
      "Segmentation progress::  14%|████████▏                                                 | 14/99 [00:32<03:08,  2.21s/it]"
     ]
    },
    {
     "name": "stdout",
     "output_type": "stream",
     "text": [
      "Segmentation time for image 15: 1.289759635925293s\n"
     ]
    },
    {
     "name": "stderr",
     "output_type": "stream",
     "text": [
      "Segmentation progress::  15%|████████▊                                                 | 15/99 [00:34<03:02,  2.18s/it]"
     ]
    },
    {
     "name": "stdout",
     "output_type": "stream",
     "text": [
      "Segmentation time for image 16: 1.221285104751587s\n"
     ]
    },
    {
     "name": "stderr",
     "output_type": "stream",
     "text": [
      "Segmentation progress::  16%|█████████▎                                                | 16/99 [00:37<02:57,  2.14s/it]"
     ]
    },
    {
     "name": "stdout",
     "output_type": "stream",
     "text": [
      "Segmentation time for image 17: 1.2838761806488037s\n"
     ]
    },
    {
     "name": "stderr",
     "output_type": "stream",
     "text": [
      "Segmentation progress::  17%|█████████▉                                                | 17/99 [00:39<02:55,  2.14s/it]"
     ]
    },
    {
     "name": "stdout",
     "output_type": "stream",
     "text": [
      "Segmentation time for image 18: 1.3880667686462402s\n"
     ]
    },
    {
     "name": "stderr",
     "output_type": "stream",
     "text": [
      "Segmentation progress::  18%|██████████▌                                               | 18/99 [00:41<02:56,  2.18s/it]"
     ]
    },
    {
     "name": "stdout",
     "output_type": "stream",
     "text": [
      "Segmentation time for image 19: 1.242154598236084s\n"
     ]
    },
    {
     "name": "stderr",
     "output_type": "stream",
     "text": [
      "Segmentation progress::  19%|███████████▏                                              | 19/99 [00:43<02:52,  2.16s/it]"
     ]
    },
    {
     "name": "stdout",
     "output_type": "stream",
     "text": [
      "Segmentation time for image 20: 1.4570090770721436s\n"
     ]
    },
    {
     "name": "stderr",
     "output_type": "stream",
     "text": [
      "Segmentation progress::  20%|███████████▋                                              | 20/99 [00:45<02:56,  2.23s/it]"
     ]
    },
    {
     "name": "stdout",
     "output_type": "stream",
     "text": [
      "Segmentation time for image 21: 1.4943418502807617s\n"
     ]
    },
    {
     "name": "stderr",
     "output_type": "stream",
     "text": [
      "Segmentation progress::  21%|████████████▎                                             | 21/99 [00:48<02:55,  2.25s/it]"
     ]
    },
    {
     "name": "stdout",
     "output_type": "stream",
     "text": [
      "Segmentation time for image 22: 1.410567283630371s\n"
     ]
    },
    {
     "name": "stderr",
     "output_type": "stream",
     "text": [
      "Segmentation progress::  22%|████████████▉                                             | 22/99 [00:50<02:52,  2.24s/it]"
     ]
    },
    {
     "name": "stdout",
     "output_type": "stream",
     "text": [
      "Segmentation time for image 23: 1.908804178237915s\n"
     ]
    },
    {
     "name": "stderr",
     "output_type": "stream",
     "text": [
      "Segmentation progress::  23%|█████████████▍                                            | 23/99 [00:53<03:02,  2.40s/it]"
     ]
    },
    {
     "name": "stdout",
     "output_type": "stream",
     "text": [
      "Segmentation time for image 24: 1.3938724994659424s\n"
     ]
    },
    {
     "name": "stderr",
     "output_type": "stream",
     "text": [
      "Segmentation progress::  24%|██████████████                                            | 24/99 [00:55<02:57,  2.37s/it]"
     ]
    },
    {
     "name": "stdout",
     "output_type": "stream",
     "text": [
      "Segmentation time for image 25: 1.276578664779663s\n"
     ]
    },
    {
     "name": "stderr",
     "output_type": "stream",
     "text": [
      "Segmentation progress::  25%|██████████████▋                                           | 25/99 [00:57<02:50,  2.31s/it]"
     ]
    },
    {
     "name": "stdout",
     "output_type": "stream",
     "text": [
      "Segmentation time for image 26: 1.4109318256378174s\n"
     ]
    },
    {
     "name": "stderr",
     "output_type": "stream",
     "text": [
      "Segmentation progress::  26%|███████████████▏                                          | 26/99 [00:59<02:46,  2.28s/it]"
     ]
    },
    {
     "name": "stdout",
     "output_type": "stream",
     "text": [
      "Segmentation time for image 27: 1.2744977474212646s\n"
     ]
    },
    {
     "name": "stderr",
     "output_type": "stream",
     "text": [
      "Segmentation progress::  27%|███████████████▊                                          | 27/99 [01:02<02:40,  2.23s/it]"
     ]
    },
    {
     "name": "stdout",
     "output_type": "stream",
     "text": [
      "Segmentation time for image 28: 1.323875904083252s\n"
     ]
    },
    {
     "name": "stderr",
     "output_type": "stream",
     "text": [
      "Segmentation progress::  28%|████████████████▍                                         | 28/99 [01:04<02:38,  2.23s/it]"
     ]
    },
    {
     "name": "stdout",
     "output_type": "stream",
     "text": [
      "Segmentation time for image 29: 1.3445391654968262s\n"
     ]
    },
    {
     "name": "stderr",
     "output_type": "stream",
     "text": [
      "Segmentation progress::  29%|████████████████▉                                         | 29/99 [01:06<02:34,  2.21s/it]"
     ]
    },
    {
     "name": "stdout",
     "output_type": "stream",
     "text": [
      "Segmentation time for image 30: 1.3907580375671387s\n"
     ]
    },
    {
     "name": "stderr",
     "output_type": "stream",
     "text": [
      "Segmentation progress::  30%|█████████████████▌                                        | 30/99 [01:08<02:33,  2.22s/it]"
     ]
    },
    {
     "name": "stdout",
     "output_type": "stream",
     "text": [
      "Segmentation time for image 31: 1.3816688060760498s\n"
     ]
    },
    {
     "name": "stderr",
     "output_type": "stream",
     "text": [
      "Segmentation progress::  31%|██████████████████▏                                       | 31/99 [01:10<02:29,  2.20s/it]"
     ]
    },
    {
     "name": "stdout",
     "output_type": "stream",
     "text": [
      "Segmentation time for image 32: 1.742807388305664s\n"
     ]
    },
    {
     "name": "stderr",
     "output_type": "stream",
     "text": [
      "Segmentation progress::  32%|██████████████████▋                                       | 32/99 [01:13<02:36,  2.33s/it]"
     ]
    },
    {
     "name": "stdout",
     "output_type": "stream",
     "text": [
      "Segmentation time for image 33: 1.3852503299713135s\n"
     ]
    },
    {
     "name": "stderr",
     "output_type": "stream",
     "text": [
      "Segmentation progress::  33%|███████████████████▎                                      | 33/99 [01:15<02:32,  2.32s/it]"
     ]
    },
    {
     "name": "stdout",
     "output_type": "stream",
     "text": [
      "Segmentation time for image 34: 1.3014898300170898s\n"
     ]
    },
    {
     "name": "stderr",
     "output_type": "stream",
     "text": [
      "Segmentation progress::  34%|███████████████████▉                                      | 34/99 [01:17<02:27,  2.27s/it]"
     ]
    },
    {
     "name": "stdout",
     "output_type": "stream",
     "text": [
      "Segmentation time for image 35: 1.2130746841430664s\n"
     ]
    },
    {
     "name": "stderr",
     "output_type": "stream",
     "text": [
      "Segmentation progress::  35%|████████████████████▌                                     | 35/99 [01:19<02:19,  2.19s/it]"
     ]
    },
    {
     "name": "stdout",
     "output_type": "stream",
     "text": [
      "Segmentation time for image 36: 1.3432717323303223s\n"
     ]
    },
    {
     "name": "stderr",
     "output_type": "stream",
     "text": [
      "Segmentation progress::  36%|█████████████████████                                     | 36/99 [01:22<02:17,  2.19s/it]"
     ]
    },
    {
     "name": "stdout",
     "output_type": "stream",
     "text": [
      "Segmentation time for image 37: 1.2619915008544922s\n"
     ]
    },
    {
     "name": "stderr",
     "output_type": "stream",
     "text": [
      "Segmentation progress::  37%|█████████████████████▋                                    | 37/99 [01:24<02:12,  2.14s/it]"
     ]
    },
    {
     "name": "stdout",
     "output_type": "stream",
     "text": [
      "Segmentation time for image 38: 1.3833563327789307s\n"
     ]
    },
    {
     "name": "stderr",
     "output_type": "stream",
     "text": [
      "Segmentation progress::  38%|██████████████████████▎                                   | 38/99 [01:26<02:15,  2.23s/it]"
     ]
    },
    {
     "name": "stdout",
     "output_type": "stream",
     "text": [
      "Segmentation time for image 39: 1.3722913265228271s\n"
     ]
    },
    {
     "name": "stderr",
     "output_type": "stream",
     "text": [
      "Segmentation progress::  39%|██████████████████████▊                                   | 39/99 [01:28<02:12,  2.22s/it]"
     ]
    },
    {
     "name": "stdout",
     "output_type": "stream",
     "text": [
      "Segmentation time for image 40: 1.3487718105316162s\n"
     ]
    },
    {
     "name": "stderr",
     "output_type": "stream",
     "text": [
      "Segmentation progress::  40%|███████████████████████▍                                  | 40/99 [01:30<02:09,  2.20s/it]"
     ]
    },
    {
     "name": "stdout",
     "output_type": "stream",
     "text": [
      "Segmentation time for image 41: 1.2306673526763916s\n"
     ]
    },
    {
     "name": "stderr",
     "output_type": "stream",
     "text": [
      "Segmentation progress::  41%|████████████████████████                                  | 41/99 [01:32<02:05,  2.17s/it]"
     ]
    },
    {
     "name": "stdout",
     "output_type": "stream",
     "text": [
      "Segmentation time for image 42: 1.3020775318145752s\n"
     ]
    },
    {
     "name": "stderr",
     "output_type": "stream",
     "text": [
      "Segmentation progress::  42%|████████████████████████▌                                 | 42/99 [01:35<02:03,  2.17s/it]"
     ]
    },
    {
     "name": "stdout",
     "output_type": "stream",
     "text": [
      "Segmentation time for image 43: 1.7495596408843994s\n"
     ]
    },
    {
     "name": "stderr",
     "output_type": "stream",
     "text": [
      "Segmentation progress::  43%|█████████████████████████▏                                | 43/99 [01:37<02:08,  2.30s/it]"
     ]
    },
    {
     "name": "stdout",
     "output_type": "stream",
     "text": [
      "Segmentation time for image 44: 1.3921666145324707s\n"
     ]
    },
    {
     "name": "stderr",
     "output_type": "stream",
     "text": [
      "Segmentation progress::  44%|█████████████████████████▊                                | 44/99 [01:40<02:05,  2.28s/it]"
     ]
    },
    {
     "name": "stdout",
     "output_type": "stream",
     "text": [
      "Segmentation time for image 45: 1.261526107788086s\n"
     ]
    },
    {
     "name": "stderr",
     "output_type": "stream",
     "text": [
      "Segmentation progress::  45%|██████████████████████████▎                               | 45/99 [01:42<01:59,  2.22s/it]"
     ]
    },
    {
     "name": "stdout",
     "output_type": "stream",
     "text": [
      "Segmentation time for image 46: 1.3300986289978027s\n"
     ]
    },
    {
     "name": "stderr",
     "output_type": "stream",
     "text": [
      "Segmentation progress::  46%|██████████████████████████▉                               | 46/99 [01:44<01:57,  2.21s/it]"
     ]
    },
    {
     "name": "stdout",
     "output_type": "stream",
     "text": [
      "Segmentation time for image 47: 1.2906606197357178s\n"
     ]
    },
    {
     "name": "stderr",
     "output_type": "stream",
     "text": [
      "Segmentation progress::  47%|███████████████████████████▌                              | 47/99 [01:46<01:54,  2.19s/it]"
     ]
    },
    {
     "name": "stdout",
     "output_type": "stream",
     "text": [
      "Segmentation time for image 48: 1.2729506492614746s\n"
     ]
    },
    {
     "name": "stderr",
     "output_type": "stream",
     "text": [
      "Segmentation progress::  48%|████████████████████████████                              | 48/99 [01:48<01:50,  2.17s/it]"
     ]
    },
    {
     "name": "stdout",
     "output_type": "stream",
     "text": [
      "Segmentation time for image 49: 1.2734434604644775s\n"
     ]
    },
    {
     "name": "stderr",
     "output_type": "stream",
     "text": [
      "Segmentation progress::  49%|████████████████████████████▋                             | 49/99 [01:50<01:48,  2.18s/it]"
     ]
    },
    {
     "name": "stdout",
     "output_type": "stream",
     "text": [
      "Segmentation time for image 50: 1.460766077041626s\n"
     ]
    },
    {
     "name": "stderr",
     "output_type": "stream",
     "text": [
      "Segmentation progress::  51%|█████████████████████████████▎                            | 50/99 [01:53<01:49,  2.23s/it]"
     ]
    },
    {
     "name": "stdout",
     "output_type": "stream",
     "text": [
      "Segmentation time for image 51: 1.3924431800842285s\n"
     ]
    },
    {
     "name": "stderr",
     "output_type": "stream",
     "text": [
      "Segmentation progress::  52%|█████████████████████████████▉                            | 51/99 [01:55<01:46,  2.22s/it]"
     ]
    },
    {
     "name": "stdout",
     "output_type": "stream",
     "text": [
      "Segmentation time for image 52: 1.2765319347381592s\n"
     ]
    },
    {
     "name": "stderr",
     "output_type": "stream",
     "text": [
      "Segmentation progress::  53%|██████████████████████████████▍                           | 52/99 [01:57<01:42,  2.19s/it]"
     ]
    },
    {
     "name": "stdout",
     "output_type": "stream",
     "text": [
      "Segmentation time for image 53: 1.316403865814209s\n"
     ]
    },
    {
     "name": "stderr",
     "output_type": "stream",
     "text": [
      "Segmentation progress::  54%|███████████████████████████████                           | 53/99 [01:59<01:39,  2.17s/it]"
     ]
    },
    {
     "name": "stdout",
     "output_type": "stream",
     "text": [
      "Segmentation time for image 54: 1.342576026916504s\n"
     ]
    },
    {
     "name": "stderr",
     "output_type": "stream",
     "text": [
      "Segmentation progress::  55%|███████████████████████████████▋                          | 54/99 [02:01<01:36,  2.15s/it]"
     ]
    },
    {
     "name": "stdout",
     "output_type": "stream",
     "text": [
      "Segmentation time for image 55: 1.3916895389556885s\n"
     ]
    },
    {
     "name": "stderr",
     "output_type": "stream",
     "text": [
      "Segmentation progress::  56%|████████████████████████████████▏                         | 55/99 [02:04<01:42,  2.32s/it]"
     ]
    },
    {
     "name": "stdout",
     "output_type": "stream",
     "text": [
      "Segmentation time for image 56: 1.3628747463226318s\n"
     ]
    },
    {
     "name": "stderr",
     "output_type": "stream",
     "text": [
      "Segmentation progress::  57%|████████████████████████████████▊                         | 56/99 [02:06<01:37,  2.27s/it]"
     ]
    },
    {
     "name": "stdout",
     "output_type": "stream",
     "text": [
      "Segmentation time for image 57: 1.265411138534546s\n"
     ]
    },
    {
     "name": "stderr",
     "output_type": "stream",
     "text": [
      "Segmentation progress::  58%|█████████████████████████████████▍                        | 57/99 [02:08<01:33,  2.23s/it]"
     ]
    },
    {
     "name": "stdout",
     "output_type": "stream",
     "text": [
      "Segmentation time for image 58: 1.3262789249420166s\n"
     ]
    },
    {
     "name": "stderr",
     "output_type": "stream",
     "text": [
      "Segmentation progress::  59%|█████████████████████████████████▉                        | 58/99 [02:10<01:30,  2.21s/it]"
     ]
    },
    {
     "name": "stdout",
     "output_type": "stream",
     "text": [
      "2023-12-04 22:17:48,950 [INFO] No cell pixels found.\n",
      "Segmentation time for image 59: 1.1676397323608398s\n"
     ]
    },
    {
     "name": "stderr",
     "output_type": "stream",
     "text": [
      "Segmentation progress::  60%|██████████████████████████████████▌                       | 59/99 [02:12<01:25,  2.15s/it]"
     ]
    },
    {
     "name": "stdout",
     "output_type": "stream",
     "text": [
      "Segmentation time for image 60: 1.3623936176300049s\n"
     ]
    },
    {
     "name": "stderr",
     "output_type": "stream",
     "text": [
      "Segmentation progress::  61%|███████████████████████████████████▏                      | 60/99 [02:15<01:24,  2.16s/it]"
     ]
    },
    {
     "name": "stdout",
     "output_type": "stream",
     "text": [
      "Segmentation time for image 61: 1.298581600189209s\n"
     ]
    },
    {
     "name": "stderr",
     "output_type": "stream",
     "text": [
      "Segmentation progress::  62%|███████████████████████████████████▋                      | 61/99 [02:17<01:21,  2.15s/it]"
     ]
    },
    {
     "name": "stdout",
     "output_type": "stream",
     "text": [
      "Segmentation time for image 62: 1.4013748168945312s\n"
     ]
    },
    {
     "name": "stderr",
     "output_type": "stream",
     "text": [
      "Segmentation progress::  63%|████████████████████████████████████▎                     | 62/99 [02:19<01:21,  2.20s/it]"
     ]
    },
    {
     "name": "stdout",
     "output_type": "stream",
     "text": [
      "Segmentation time for image 63: 1.365807056427002s\n"
     ]
    },
    {
     "name": "stderr",
     "output_type": "stream",
     "text": [
      "Segmentation progress::  64%|████████████████████████████████████▉                     | 63/99 [02:21<01:19,  2.22s/it]"
     ]
    },
    {
     "name": "stdout",
     "output_type": "stream",
     "text": [
      "Segmentation time for image 64: 1.2283031940460205s\n"
     ]
    },
    {
     "name": "stderr",
     "output_type": "stream",
     "text": [
      "Segmentation progress::  65%|█████████████████████████████████████▍                    | 64/99 [02:23<01:16,  2.19s/it]"
     ]
    },
    {
     "name": "stdout",
     "output_type": "stream",
     "text": [
      "Segmentation time for image 65: 1.3541030883789062s\n"
     ]
    },
    {
     "name": "stderr",
     "output_type": "stream",
     "text": [
      "Segmentation progress::  66%|██████████████████████████████████████                    | 65/99 [02:26<01:14,  2.19s/it]"
     ]
    },
    {
     "name": "stdout",
     "output_type": "stream",
     "text": [
      "Segmentation time for image 66: 1.3306078910827637s\n"
     ]
    },
    {
     "name": "stderr",
     "output_type": "stream",
     "text": [
      "Segmentation progress::  67%|██████████████████████████████████████▋                   | 66/99 [02:28<01:12,  2.20s/it]"
     ]
    },
    {
     "name": "stdout",
     "output_type": "stream",
     "text": [
      "Segmentation time for image 67: 1.3739278316497803s\n"
     ]
    },
    {
     "name": "stderr",
     "output_type": "stream",
     "text": [
      "Segmentation progress::  68%|███████████████████████████████████████▎                  | 67/99 [02:30<01:10,  2.21s/it]"
     ]
    },
    {
     "name": "stdout",
     "output_type": "stream",
     "text": [
      "Segmentation time for image 68: 1.349238634109497s\n"
     ]
    },
    {
     "name": "stderr",
     "output_type": "stream",
     "text": [
      "Segmentation progress::  69%|███████████████████████████████████████▊                  | 68/99 [02:32<01:08,  2.21s/it]"
     ]
    },
    {
     "name": "stdout",
     "output_type": "stream",
     "text": [
      "Segmentation time for image 69: 1.9509119987487793s\n"
     ]
    },
    {
     "name": "stderr",
     "output_type": "stream",
     "text": [
      "Segmentation progress::  70%|████████████████████████████████████████▍                 | 69/99 [02:35<01:11,  2.39s/it]"
     ]
    },
    {
     "name": "stdout",
     "output_type": "stream",
     "text": [
      "Segmentation time for image 70: 1.2533316612243652s\n"
     ]
    },
    {
     "name": "stderr",
     "output_type": "stream",
     "text": [
      "Segmentation progress::  71%|█████████████████████████████████████████                 | 70/99 [02:37<01:07,  2.33s/it]"
     ]
    },
    {
     "name": "stdout",
     "output_type": "stream",
     "text": [
      "Segmentation time for image 71: 1.2856314182281494s\n"
     ]
    },
    {
     "name": "stderr",
     "output_type": "stream",
     "text": [
      "Segmentation progress::  72%|█████████████████████████████████████████▌                | 71/99 [02:39<01:04,  2.30s/it]"
     ]
    },
    {
     "name": "stdout",
     "output_type": "stream",
     "text": [
      "Segmentation time for image 72: 1.308068037033081s\n"
     ]
    },
    {
     "name": "stderr",
     "output_type": "stream",
     "text": [
      "Segmentation progress::  73%|██████████████████████████████████████████▏               | 72/99 [02:42<01:01,  2.26s/it]"
     ]
    },
    {
     "name": "stdout",
     "output_type": "stream",
     "text": [
      "Segmentation time for image 73: 1.2763831615447998s\n"
     ]
    },
    {
     "name": "stderr",
     "output_type": "stream",
     "text": [
      "Segmentation progress::  74%|██████████████████████████████████████████▊               | 73/99 [02:44<00:57,  2.23s/it]"
     ]
    },
    {
     "name": "stdout",
     "output_type": "stream",
     "text": [
      "Segmentation time for image 74: 1.3084948062896729s\n"
     ]
    },
    {
     "name": "stderr",
     "output_type": "stream",
     "text": [
      "Segmentation progress::  75%|███████████████████████████████████████████▎              | 74/99 [02:46<00:55,  2.21s/it]"
     ]
    },
    {
     "name": "stdout",
     "output_type": "stream",
     "text": [
      "Segmentation time for image 75: 1.3329105377197266s\n"
     ]
    },
    {
     "name": "stderr",
     "output_type": "stream",
     "text": [
      "Segmentation progress::  76%|███████████████████████████████████████████▉              | 75/99 [02:48<00:53,  2.21s/it]"
     ]
    },
    {
     "name": "stdout",
     "output_type": "stream",
     "text": [
      "Segmentation time for image 76: 1.3213260173797607s\n"
     ]
    },
    {
     "name": "stderr",
     "output_type": "stream",
     "text": [
      "Segmentation progress::  77%|████████████████████████████████████████████▌             | 76/99 [02:50<00:50,  2.19s/it]"
     ]
    },
    {
     "name": "stdout",
     "output_type": "stream",
     "text": [
      "Segmentation time for image 77: 1.3255054950714111s\n"
     ]
    },
    {
     "name": "stderr",
     "output_type": "stream",
     "text": [
      "Segmentation progress::  78%|█████████████████████████████████████████████             | 77/99 [02:52<00:47,  2.17s/it]"
     ]
    },
    {
     "name": "stdout",
     "output_type": "stream",
     "text": [
      "Segmentation time for image 78: 1.2798943519592285s\n"
     ]
    },
    {
     "name": "stderr",
     "output_type": "stream",
     "text": [
      "Segmentation progress::  79%|█████████████████████████████████████████████▋            | 78/99 [02:55<00:45,  2.15s/it]"
     ]
    },
    {
     "name": "stdout",
     "output_type": "stream",
     "text": [
      "Segmentation time for image 79: 1.4188439846038818s\n"
     ]
    },
    {
     "name": "stderr",
     "output_type": "stream",
     "text": [
      "Segmentation progress::  80%|██████████████████████████████████████████████▎           | 79/99 [02:57<00:43,  2.17s/it]"
     ]
    },
    {
     "name": "stdout",
     "output_type": "stream",
     "text": [
      "Segmentation time for image 80: 1.279355525970459s\n"
     ]
    },
    {
     "name": "stderr",
     "output_type": "stream",
     "text": [
      "Segmentation progress::  81%|██████████████████████████████████████████████▊           | 80/99 [02:59<00:41,  2.16s/it]"
     ]
    },
    {
     "name": "stdout",
     "output_type": "stream",
     "text": [
      "Segmentation time for image 81: 1.2128267288208008s\n"
     ]
    },
    {
     "name": "stderr",
     "output_type": "stream",
     "text": [
      "Segmentation progress::  82%|███████████████████████████████████████████████▍          | 81/99 [03:01<00:38,  2.14s/it]"
     ]
    },
    {
     "name": "stdout",
     "output_type": "stream",
     "text": [
      "Segmentation time for image 82: 1.3483185768127441s\n"
     ]
    },
    {
     "name": "stderr",
     "output_type": "stream",
     "text": [
      "Segmentation progress::  83%|████████████████████████████████████████████████          | 82/99 [03:03<00:36,  2.15s/it]"
     ]
    },
    {
     "name": "stdout",
     "output_type": "stream",
     "text": [
      "Segmentation time for image 83: 1.3758127689361572s\n"
     ]
    },
    {
     "name": "stderr",
     "output_type": "stream",
     "text": [
      "Segmentation progress::  84%|████████████████████████████████████████████████▋         | 83/99 [03:05<00:34,  2.18s/it]"
     ]
    },
    {
     "name": "stdout",
     "output_type": "stream",
     "text": [
      "Segmentation time for image 84: 1.3300223350524902s\n"
     ]
    },
    {
     "name": "stderr",
     "output_type": "stream",
     "text": [
      "Segmentation progress::  85%|█████████████████████████████████████████████████▏        | 84/99 [03:08<00:33,  2.20s/it]"
     ]
    },
    {
     "name": "stdout",
     "output_type": "stream",
     "text": [
      "Segmentation time for image 85: 1.967545986175537s\n"
     ]
    },
    {
     "name": "stderr",
     "output_type": "stream",
     "text": [
      "Segmentation progress::  86%|█████████████████████████████████████████████████▊        | 85/99 [03:10<00:33,  2.38s/it]"
     ]
    },
    {
     "name": "stdout",
     "output_type": "stream",
     "text": [
      "Segmentation time for image 86: 1.3018317222595215s\n"
     ]
    },
    {
     "name": "stderr",
     "output_type": "stream",
     "text": [
      "Segmentation progress::  87%|██████████████████████████████████████████████████▍       | 86/99 [03:13<00:29,  2.30s/it]"
     ]
    },
    {
     "name": "stdout",
     "output_type": "stream",
     "text": [
      "Segmentation time for image 87: 1.2671120166778564s\n"
     ]
    },
    {
     "name": "stderr",
     "output_type": "stream",
     "text": [
      "Segmentation progress::  88%|██████████████████████████████████████████████████▉       | 87/99 [03:15<00:26,  2.24s/it]"
     ]
    },
    {
     "name": "stdout",
     "output_type": "stream",
     "text": [
      "Segmentation time for image 88: 1.2922859191894531s\n"
     ]
    },
    {
     "name": "stderr",
     "output_type": "stream",
     "text": [
      "Segmentation progress::  89%|███████████████████████████████████████████████████▌      | 88/99 [03:17<00:24,  2.21s/it]"
     ]
    },
    {
     "name": "stdout",
     "output_type": "stream",
     "text": [
      "Segmentation time for image 89: 1.3829803466796875s\n"
     ]
    },
    {
     "name": "stderr",
     "output_type": "stream",
     "text": [
      "Segmentation progress::  90%|████████████████████████████████████████████████████▏     | 89/99 [03:19<00:22,  2.22s/it]"
     ]
    },
    {
     "name": "stdout",
     "output_type": "stream",
     "text": [
      "Segmentation time for image 90: 1.3657386302947998s\n"
     ]
    },
    {
     "name": "stderr",
     "output_type": "stream",
     "text": [
      "Segmentation progress::  91%|████████████████████████████████████████████████████▋     | 90/99 [03:21<00:20,  2.23s/it]"
     ]
    },
    {
     "name": "stdout",
     "output_type": "stream",
     "text": [
      "Segmentation time for image 91: 1.3079442977905273s\n"
     ]
    },
    {
     "name": "stderr",
     "output_type": "stream",
     "text": [
      "Segmentation progress::  92%|█████████████████████████████████████████████████████▎    | 91/99 [03:23<00:17,  2.23s/it]"
     ]
    },
    {
     "name": "stdout",
     "output_type": "stream",
     "text": [
      "Segmentation time for image 92: 1.4448511600494385s\n"
     ]
    },
    {
     "name": "stderr",
     "output_type": "stream",
     "text": [
      "Segmentation progress::  93%|█████████████████████████████████████████████████████▉    | 92/99 [03:26<00:15,  2.24s/it]"
     ]
    },
    {
     "name": "stdout",
     "output_type": "stream",
     "text": [
      "Segmentation time for image 93: 1.3478569984436035s\n"
     ]
    },
    {
     "name": "stderr",
     "output_type": "stream",
     "text": [
      "Segmentation progress::  94%|██████████████████████████████████████████████████████▍   | 93/99 [03:28<00:13,  2.21s/it]"
     ]
    },
    {
     "name": "stdout",
     "output_type": "stream",
     "text": [
      "Segmentation time for image 94: 1.260026454925537s\n"
     ]
    },
    {
     "name": "stderr",
     "output_type": "stream",
     "text": [
      "Segmentation progress::  95%|███████████████████████████████████████████████████████   | 94/99 [03:30<00:11,  2.21s/it]"
     ]
    },
    {
     "name": "stdout",
     "output_type": "stream",
     "text": [
      "Segmentation time for image 95: 1.257127046585083s\n"
     ]
    },
    {
     "name": "stderr",
     "output_type": "stream",
     "text": [
      "Segmentation progress::  96%|███████████████████████████████████████████████████████▋  | 95/99 [03:32<00:08,  2.17s/it]"
     ]
    },
    {
     "name": "stdout",
     "output_type": "stream",
     "text": [
      "Segmentation time for image 96: 1.3929500579833984s\n"
     ]
    },
    {
     "name": "stderr",
     "output_type": "stream",
     "text": [
      "Segmentation progress::  97%|████████████████████████████████████████████████████████▏ | 96/99 [03:34<00:06,  2.17s/it]"
     ]
    },
    {
     "name": "stdout",
     "output_type": "stream",
     "text": [
      "Segmentation time for image 97: 1.302781105041504s\n"
     ]
    },
    {
     "name": "stderr",
     "output_type": "stream",
     "text": [
      "Segmentation progress::  98%|████████████████████████████████████████████████████████▊ | 97/99 [03:37<00:04,  2.17s/it]"
     ]
    },
    {
     "name": "stdout",
     "output_type": "stream",
     "text": [
      "Segmentation time for image 98: 1.2902624607086182s\n"
     ]
    },
    {
     "name": "stderr",
     "output_type": "stream",
     "text": [
      "Segmentation progress::  99%|█████████████████████████████████████████████████████████▍| 98/99 [03:39<00:02,  2.15s/it]"
     ]
    },
    {
     "name": "stdout",
     "output_type": "stream",
     "text": [
      "Segmentation time for image 99: 1.2630298137664795s\n"
     ]
    },
    {
     "name": "stderr",
     "output_type": "stream",
     "text": [
      "Segmentation progress:: 100%|██████████████████████████████████████████████████████████| 99/99 [03:41<00:00,  2.23s/it]"
     ]
    },
    {
     "name": "stdout",
     "output_type": "stream",
     "text": [
      "Total segmentation time for all images: 134.70569372177124s\n",
      "Expected total time for segmenting all images: 6601.939655939738s\n"
     ]
    },
    {
     "name": "stderr",
     "output_type": "stream",
     "text": [
      "\n"
     ]
    }
   ],
   "source": [
    "import time\n",
    "from tqdm import tqdm\n",
    "import numpy as np\n",
    "from skimage.measure import label, regionprops\n",
    "from skimage.filters import threshold_otsu, threshold_local\n",
    "from skimage.morphology import closing, square\n",
    "\n",
    "chans = [0,0]  # this means segment based on first channel, no second channel\n",
    "\n",
    "#n= list(range(5555, 7789)) CellB_GFP\n",
    "#n=[1,] # make a list of integers to select which images you want to segment\n",
    "#n = range(nimg) # or just segment them all \n",
    "\n",
    "# List of indices for images to segment\n",
    "n = list(range(1,100))  # Replace with range(nimg) or specific indices as required\n",
    "\n",
    "# Parameters for segmentation\n",
    "params = {'channels':chans, # always define this with the model\n",
    "          'rescale': None, #rescaling_factor, # upscale or downscale your images, None = no rescaling \n",
    "          'mask_threshold': 3.5, # erode or dilate masks with higher or lower values \n",
    "          'flow_threshold': 0.85, # default is .4, but only needed if there are spurious masks to clean up; slows down output\n",
    "          'transparency': True, # transparency in flow output\n",
    "          'omni': True, # we can turn off Omnipose mask reconstruction, not advised \n",
    "          'cluster': True, # use DBSCAN clustering\n",
    "          'resample': True, # whether or not to run dynamics on rescaled grid or original grid \n",
    "          #'verbose': False, # turn on if you want to see more output \n",
    "          'tile': False, # average the outputs from flipped (augmented) images; slower, usually not needed \n",
    "          'niter': None, # None lets Omnipose calculate # of Euler iterations (usually <20) but you can tune it for over/under segmentation \n",
    "          'augment': False, # Can optionally rotate the image and average outputs, usually not needed \n",
    "          'affinity_seg': True, # new feature, stay tuned...\n",
    "          'diameter': 60 # Default diameter\n",
    "\n",
    "}\n",
    "\n",
    "\n",
    "\n",
    "total_segmentation_time = 0\n",
    "\n",
    "# Loop through each image, segment and save\n",
    "for i in tqdm(n, 'Segmentation progress:'):\n",
    "    tic = time.time()  # Start time for this iteration\n",
    "\n",
    "    # Perform segmentation on the i-th image\n",
    "    mask, flow, style = model.eval(imgs[i], **params)\n",
    "\n",
    "    # Calculate segmentation time for this image\n",
    "    seg_time = time.time() - tic\n",
    "    total_segmentation_time += seg_time\n",
    "    print(f'Segmentation time for image {i}: {seg_time}s')\n",
    "\n",
    "    # Define the file path for saving the results\n",
    "    file_path = files[i]\n",
    "\n",
    "    # Save the masks for the i-th image\n",
    "    io.save_masks([imgs[i]], [mask], [flow], [file_path],\n",
    "                  png=True, tif=True, suffix='',\n",
    "                  save_flows=False, save_outlines=True,\n",
    "                  dir_above=0, in_folders=True,\n",
    "                  save_txt=True, save_ncolor=False)\n",
    "\n",
    "print(f'Total segmentation time for all images: {total_segmentation_time}s')\n",
    "\n",
    "average_time_per_image = total_segmentation_time / len(n)\n",
    "expected_total_time = average_time_per_image * len(imgs)\n",
    "print(f'Expected total time for segmenting all images: {expected_total_time}s')\n"
   ]
  },
  {
   "cell_type": "code",
   "execution_count": 7,
   "id": "fc23f7dc-3881-43b6-b00e-7071b5510ecf",
   "metadata": {},
   "outputs": [
    {
     "name": "stderr",
     "output_type": "stream",
     "text": [
      "Creating video CellA_ShME480_masks_video_png.avi: 100%|███████████████████████████████| 99/99 [00:00<00:00, 257.41it/s]\n",
      "Creating video CellA_ShME480_masks_video_tif.avi: 100%|███████████████████████████████| 99/99 [00:00<00:00, 136.17it/s]\n",
      "Creating video CellA_ShME480_cp_output_video.avi: 100%|████████████████████████████████| 99/99 [00:14<00:00,  6.86it/s]\n",
      "Creating video CellA_ShME480_outlines_video.avi: 100%|█████████████████████████████████| 99/99 [00:01<00:00, 98.12it/s]\n"
     ]
    }
   ],
   "source": [
    "import cv2\n",
    "import os\n",
    "from natsort import natsorted\n",
    "from tqdm import tqdm\n",
    "from pathlib import Path\n",
    "\n",
    "def create_video_from_images(image_folder, output_video_folder, output_video_file, fps=1, extension='.png'):\n",
    "    # Get all image paths with the specified extension and sort them\n",
    "    image_paths = natsorted(\n",
    "        [os.path.join(image_folder, img) for img in os.listdir(image_folder) if img.endswith(extension)]\n",
    "    )\n",
    "\n",
    "    # Check if we have any images to process\n",
    "    if not image_paths:\n",
    "        print(f\"No images with extension {extension} found in {image_folder}.\")\n",
    "        return\n",
    "\n",
    "    # Full path for the output video file\n",
    "    full_output_path = os.path.join(output_video_folder, output_video_file)\n",
    "\n",
    "    # Read the first image to determine the size\n",
    "    frame = cv2.imread(image_paths[0])\n",
    "    height, width, layers = frame.shape\n",
    "\n",
    "    # Define the codec for AVI format\n",
    "    fourcc = cv2.VideoWriter_fourcc('M','J','P','G')\n",
    "\n",
    "    # Create VideoWriter object\n",
    "    video = cv2.VideoWriter(full_output_path, fourcc, fps, (width, height), isColor=True)\n",
    "\n",
    "    # Iterate over each image and add it to the video\n",
    "    for image_path in tqdm(image_paths, desc=f'Creating video {output_video_file}'):\n",
    "        video.write(cv2.imread(image_path))\n",
    "\n",
    "    # Release the video writer\n",
    "    video.release()\n",
    "\n",
    "# Define the directories for masks, cp_output, and outlines\n",
    "masks_dir = base_mask_dir / 'masks'\n",
    "cp_output_dir = base_mask_dir / 'cp_output'\n",
    "outlines_dir = base_mask_dir / 'outlines'\n",
    "\n",
    "video_output_dir = base_mask_dir.parent / video_name\n",
    "\n",
    "\n",
    "# Create the output video file names using the video_name\n",
    "output_video_name_png = f\"{video_name}_masks_video_png.avi\"\n",
    "output_video_name_tif = f\"{video_name}_masks_video_tif.avi\"\n",
    "output_cp_output_name = f\"{video_name}_cp_output_video.avi\"\n",
    "output_outlines_name = f\"{video_name}_outlines_video.avi\"\n",
    "\n",
    "# Create videos in the video_output_dir directory\n",
    "create_video_from_images(masks_dir, video_output_dir, output_video_name_png, fps=1, extension='.png')\n",
    "create_video_from_images(masks_dir, video_output_dir, output_video_name_tif, fps=1, extension='.tif')\n",
    "create_video_from_images(cp_output_dir, video_output_dir, output_cp_output_name, fps=1, extension='.png')\n",
    "create_video_from_images(outlines_dir, video_output_dir, output_outlines_name, fps=1, extension='.png')"
   ]
  },
  {
   "cell_type": "code",
   "execution_count": null,
   "id": "9e78d9bb-2f96-4dd2-9375-aeda9cffc56e",
   "metadata": {},
   "outputs": [],
   "source": []
  },
  {
   "cell_type": "code",
   "execution_count": null,
   "id": "0ba90a8e-e82a-4cc5-80e6-76f8470014b9",
   "metadata": {},
   "outputs": [],
   "source": []
  }
 ],
 "metadata": {
  "keep_output": true,
  "kernelspec": {
   "display_name": "Python 3 (ipykernel)",
   "language": "python",
   "name": "python3"
  },
  "language_info": {
   "codemirror_mode": {
    "name": "ipython",
    "version": 3
   },
   "file_extension": ".py",
   "mimetype": "text/x-python",
   "name": "python",
   "nbconvert_exporter": "python",
   "pygments_lexer": "ipython3",
   "version": "3.10.12"
  }
 },
 "nbformat": 4,
 "nbformat_minor": 5
}
