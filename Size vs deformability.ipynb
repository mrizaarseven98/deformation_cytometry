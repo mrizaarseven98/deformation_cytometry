{
 "cells": [
  {
   "cell_type": "code",
   "execution_count": 4,
   "metadata": {},
   "outputs": [
    {
     "ename": "ModuleNotFoundError",
     "evalue": "No module named 'Analysis_utils'",
     "output_type": "error",
     "traceback": [
      "\u001b[0;31m---------------------------------------------------------------------------\u001b[0m",
      "\u001b[0;31mModuleNotFoundError\u001b[0m                       Traceback (most recent call last)",
      "Cell \u001b[0;32mIn[4], line 10\u001b[0m\n\u001b[1;32m      7\u001b[0m \u001b[38;5;28;01mimport\u001b[39;00m \u001b[38;5;21;01mmatplotlib\u001b[39;00m\u001b[38;5;21;01m.\u001b[39;00m\u001b[38;5;21;01mpyplot\u001b[39;00m \u001b[38;5;28;01mas\u001b[39;00m \u001b[38;5;21;01mplt\u001b[39;00m\n\u001b[1;32m      8\u001b[0m \u001b[38;5;28;01mimport\u001b[39;00m \u001b[38;5;21;01mseaborn\u001b[39;00m \u001b[38;5;28;01mas\u001b[39;00m \u001b[38;5;21;01msns\u001b[39;00m\n\u001b[0;32m---> 10\u001b[0m \u001b[38;5;28;01mimport\u001b[39;00m \u001b[38;5;21;01mAnalysis_utils\u001b[39;00m \u001b[38;5;28;01mas\u001b[39;00m \u001b[38;5;21;01mau\u001b[39;00m\n\u001b[1;32m     12\u001b[0m csv_files \u001b[38;5;241m=\u001b[39m [\u001b[38;5;124m'\u001b[39m\u001b[38;5;124m/Users/paul/Downloads/CellA_GFP_data_filtered_contour_and_outliers.csv\u001b[39m\u001b[38;5;124m'\u001b[39m, \u001b[38;5;124m'\u001b[39m\u001b[38;5;124m/Users/paul/Downloads/CellA_ShME480_data_filtered_contour_and_outliers.csv\u001b[39m\u001b[38;5;124m'\u001b[39m, \u001b[38;5;124m'\u001b[39m\u001b[38;5;124m/Users/paul/Downloads/CellB_GFP_data_filtered_contour_and_outliers.csv\u001b[39m\u001b[38;5;124m'\u001b[39m, \u001b[38;5;124m'\u001b[39m\u001b[38;5;124m/Users/paul/Downloads/CellB_ME480_data_filtered_contour_and_outliers.csv\u001b[39m\u001b[38;5;124m'\u001b[39m]  \u001b[38;5;66;03m# Replace with your CSV file paths\u001b[39;00m\n\u001b[1;32m     13\u001b[0m x_column_name \u001b[38;5;241m=\u001b[39m \u001b[38;5;124m'\u001b[39m\u001b[38;5;124mArea\u001b[39m\u001b[38;5;124m'\u001b[39m \n",
      "\u001b[0;31mModuleNotFoundError\u001b[0m: No module named 'Analysis_utils'"
     ]
    }
   ],
   "source": [
    "import cv2\n",
    "import numpy as np\n",
    "import os\n",
    "from pathlib import Path\n",
    "import csv\n",
    "import pandas as pd\n",
    "import matplotlib.pyplot as plt\n",
    "import seaborn as sns\n",
    "\n",
    "import Analysis_utils as au\n",
    "\n",
    "csv_files = ['/Users/paul/Downloads/CellA_GFP_data_filtered_contour_and_outliers.csv', '/Users/paul/Downloads/CellA_ShME480_data_filtered_contour_and_outliers.csv', '/Users/paul/Downloads/CellB_GFP_data_filtered_contour_and_outliers.csv', '/Users/paul/Downloads/CellB_ME480_data_filtered_contour_and_outliers.csv']  # Replace with your CSV file paths\n",
    "x_column_name = 'Area' \n",
    "y_column_name = 'Deformation' \n",
    "labels = ['CellA_GFP', 'CellA_ShME480', 'CellB_GFP', 'CellB_ME480']  \n",
    "\n",
    "au.plot_csv_columns(csv_files, x_column_name, y_column_name, labels)"
   ]
  }
 ],
 "metadata": {
  "kernelspec": {
   "display_name": "base",
   "language": "python",
   "name": "python3"
  },
  "language_info": {
   "codemirror_mode": {
    "name": "ipython",
    "version": 3
   },
   "file_extension": ".py",
   "mimetype": "text/x-python",
   "name": "python",
   "nbconvert_exporter": "python",
   "pygments_lexer": "ipython3",
   "version": "3.10.12"
  }
 },
 "nbformat": 4,
 "nbformat_minor": 2
}
